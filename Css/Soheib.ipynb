{
 "cells": [
  {
   "cell_type": "markdown",
   "id": "0ff5538c",
   "metadata": {},
   "source": [
    "Charif Soheib abdelkader "
   ]
  },
  {
   "cell_type": "markdown",
   "id": "e49b0584",
   "metadata": {},
   "source": [
    "# FromZero"
   ]
  },
  {
   "cell_type": "code",
   "execution_count": 21,
   "id": "5a05543e",
   "metadata": {},
   "outputs": [
    {
     "name": "stdout",
     "output_type": "stream",
     "text": [
      "charif\n"
     ]
    }
   ],
   "source": [
    "print(\"charif\")"
   ]
  },
  {
   "cell_type": "code",
   "execution_count": 1,
   "id": "d065b7ce",
   "metadata": {},
   "outputs": [],
   "source": [
    "x = 5\n"
   ]
  },
  {
   "cell_type": "code",
   "execution_count": 2,
   "id": "5c16eee6",
   "metadata": {},
   "outputs": [
    {
     "name": "stdout",
     "output_type": "stream",
     "text": [
      "<class 'int'>\n"
     ]
    }
   ],
   "source": [
    "print(type(x))"
   ]
  },
  {
   "cell_type": "code",
   "execution_count": 6,
   "id": "431a526f",
   "metadata": {},
   "outputs": [],
   "source": [
    "x,y = 6,4"
   ]
  },
  {
   "cell_type": "code",
   "execution_count": 7,
   "id": "e1400739",
   "metadata": {},
   "outputs": [
    {
     "name": "stdout",
     "output_type": "stream",
     "text": [
      "6\n"
     ]
    }
   ],
   "source": [
    "print(x)"
   ]
  },
  {
   "cell_type": "code",
   "execution_count": 8,
   "id": "9bd051d6",
   "metadata": {},
   "outputs": [
    {
     "name": "stdout",
     "output_type": "stream",
     "text": [
      "4\n"
     ]
    }
   ],
   "source": [
    "print(y\n",
    "     )"
   ]
  },
  {
   "cell_type": "code",
   "execution_count": 9,
   "id": "91772442",
   "metadata": {},
   "outputs": [],
   "source": [
    "c = 2 + 4\n"
   ]
  },
  {
   "cell_type": "code",
   "execution_count": 10,
   "id": "c893eef1",
   "metadata": {},
   "outputs": [
    {
     "name": "stdout",
     "output_type": "stream",
     "text": [
      "(2+4j)\n"
     ]
    }
   ],
   "source": [
    "print(c\n",
    "     )"
   ]
  },
  {
   "cell_type": "code",
   "execution_count": 11,
   "id": "73b771ec",
   "metadata": {},
   "outputs": [
    {
     "name": "stdout",
     "output_type": "stream",
     "text": [
      "Variable   Type       Data/Info\n",
      "-------------------------------\n",
      "c          complex    (2+4j)\n",
      "x          int        6\n",
      "y          int        4\n"
     ]
    }
   ],
   "source": [
    "%whos\n"
   ]
  },
  {
   "cell_type": "code",
   "execution_count": 12,
   "id": "f2e179cc",
   "metadata": {},
   "outputs": [
    {
     "name": "stdout",
     "output_type": "stream",
     "text": [
      "Variable   Type       Data/Info\n",
      "-------------------------------\n",
      "c          complex    (2+4j)\n",
      "x          int        6\n",
      "y          int        4\n"
     ]
    }
   ],
   "source": [
    "%whos"
   ]
  },
  {
   "cell_type": "code",
   "execution_count": 13,
   "id": "51abe708",
   "metadata": {},
   "outputs": [],
   "source": [
    "del c "
   ]
  },
  {
   "cell_type": "code",
   "execution_count": 14,
   "id": "69ff9b7b",
   "metadata": {},
   "outputs": [
    {
     "name": "stdout",
     "output_type": "stream",
     "text": [
      "Variable   Type    Data/Info\n",
      "----------------------------\n",
      "x          int     6\n",
      "y          int     4\n"
     ]
    }
   ],
   "source": [
    "%whos\n"
   ]
  },
  {
   "cell_type": "code",
   "execution_count": 15,
   "id": "48977489",
   "metadata": {},
   "outputs": [
    {
     "data": {
      "text/plain": [
       "3"
      ]
     },
     "execution_count": 15,
     "metadata": {},
     "output_type": "execute_result"
    }
   ],
   "source": [
    "7//2"
   ]
  },
  {
   "cell_type": "code",
   "execution_count": 16,
   "id": "6c739bf6",
   "metadata": {},
   "outputs": [
    {
     "data": {
      "text/plain": [
       "2"
      ]
     },
     "execution_count": 16,
     "metadata": {},
     "output_type": "execute_result"
    }
   ],
   "source": [
    "20//7"
   ]
  },
  {
   "cell_type": "code",
   "execution_count": 17,
   "id": "efedd9b9",
   "metadata": {},
   "outputs": [
    {
     "data": {
      "text/plain": [
       "3"
      ]
     },
     "execution_count": 17,
     "metadata": {},
     "output_type": "execute_result"
    }
   ],
   "source": [
    "9//3\n"
   ]
  },
  {
   "cell_type": "code",
   "execution_count": 18,
   "id": "5dd5e9b4",
   "metadata": {},
   "outputs": [
    {
     "data": {
      "text/plain": [
       "11"
      ]
     },
     "execution_count": 18,
     "metadata": {},
     "output_type": "execute_result"
    }
   ],
   "source": [
    "90//8"
   ]
  },
  {
   "cell_type": "code",
   "execution_count": 19,
   "id": "90d7a044",
   "metadata": {},
   "outputs": [
    {
     "data": {
      "text/plain": [
       "10"
      ]
     },
     "execution_count": 19,
     "metadata": {},
     "output_type": "execute_result"
    }
   ],
   "source": [
    "87//8"
   ]
  },
  {
   "cell_type": "code",
   "execution_count": 20,
   "id": "80b4171c",
   "metadata": {},
   "outputs": [
    {
     "data": {
      "text/plain": [
       "6"
      ]
     },
     "execution_count": 20,
     "metadata": {},
     "output_type": "execute_result"
    }
   ],
   "source": [
    "20%7"
   ]
  },
  {
   "cell_type": "code",
   "execution_count": 21,
   "id": "ca81dbaa",
   "metadata": {},
   "outputs": [
    {
     "data": {
      "text/plain": [
       "27"
      ]
     },
     "execution_count": 21,
     "metadata": {},
     "output_type": "execute_result"
    }
   ],
   "source": [
    " 3**3\n",
    "    "
   ]
  },
  {
   "cell_type": "code",
   "execution_count": 22,
   "id": "9a6e4e4c",
   "metadata": {},
   "outputs": [],
   "source": [
    "e_2 = 50"
   ]
  },
  {
   "cell_type": "code",
   "execution_count": 23,
   "id": "e894b38d",
   "metadata": {},
   "outputs": [
    {
     "name": "stdout",
     "output_type": "stream",
     "text": [
      "50\n"
     ]
    }
   ],
   "source": [
    "print(e_2)"
   ]
  },
  {
   "cell_type": "code",
   "execution_count": 24,
   "id": "55b799b4",
   "metadata": {},
   "outputs": [],
   "source": [
    "_ = 40\n"
   ]
  },
  {
   "cell_type": "code",
   "execution_count": 25,
   "id": "d9b84c2c",
   "metadata": {},
   "outputs": [
    {
     "name": "stdout",
     "output_type": "stream",
     "text": [
      "40\n"
     ]
    }
   ],
   "source": [
    "print(_)"
   ]
  },
  {
   "cell_type": "code",
   "execution_count": 26,
   "id": "17edb261",
   "metadata": {},
   "outputs": [
    {
     "name": "stdout",
     "output_type": "stream",
     "text": [
      "Variable   Type    Data/Info\n",
      "----------------------------\n",
      "e_2        int     50\n",
      "x          int     6\n",
      "y          int     4\n"
     ]
    }
   ],
   "source": [
    "%whos\n"
   ]
  },
  {
   "cell_type": "code",
   "execution_count": 27,
   "id": "6ae4ec1c",
   "metadata": {},
   "outputs": [
    {
     "name": "stdout",
     "output_type": "stream",
     "text": [
      "40\n"
     ]
    }
   ],
   "source": [
    "print(_)"
   ]
  },
  {
   "cell_type": "code",
   "execution_count": 28,
   "id": "94470d2a",
   "metadata": {},
   "outputs": [
    {
     "name": "stdout",
     "output_type": "stream",
     "text": [
      "e_2\t x\t y\t \n"
     ]
    }
   ],
   "source": [
    "%who"
   ]
  },
  {
   "cell_type": "code",
   "execution_count": 31,
   "id": "f334ce44",
   "metadata": {},
   "outputs": [
    {
     "name": "stdout",
     "output_type": "stream",
     "text": [
      "Variable   Type    Data/Info\n",
      "----------------------------\n",
      "y          int     4\n"
     ]
    }
   ],
   "source": [
    "%whos"
   ]
  },
  {
   "cell_type": "code",
   "execution_count": 30,
   "id": "45f57d60",
   "metadata": {},
   "outputs": [],
   "source": [
    "del e_2,x"
   ]
  },
  {
   "cell_type": "code",
   "execution_count": 32,
   "id": "5994a170",
   "metadata": {},
   "outputs": [
    {
     "ename": "NameError",
     "evalue": "name 'all' is not defined",
     "output_type": "error",
     "traceback": [
      "\u001b[1;31m---------------------------------------------------------------------------\u001b[0m",
      "\u001b[1;31mNameError\u001b[0m                                 Traceback (most recent call last)",
      "Cell \u001b[1;32mIn[32], line 1\u001b[0m\n\u001b[1;32m----> 1\u001b[0m \u001b[38;5;28;01mdel\u001b[39;00m \u001b[38;5;28mall\u001b[39m\n",
      "\u001b[1;31mNameError\u001b[0m: name 'all' is not defined"
     ]
    }
   ],
   "source": [
    "del all"
   ]
  },
  {
   "cell_type": "code",
   "execution_count": 33,
   "id": "08b69967",
   "metadata": {},
   "outputs": [
    {
     "data": {
      "text/plain": [
       "False"
      ]
     },
     "execution_count": 33,
     "metadata": {},
     "output_type": "execute_result"
    }
   ],
   "source": [
    "7>8"
   ]
  },
  {
   "cell_type": "code",
   "execution_count": 34,
   "id": "d80e499c",
   "metadata": {},
   "outputs": [
    {
     "data": {
      "text/plain": [
       "False"
      ]
     },
     "execution_count": 34,
     "metadata": {},
     "output_type": "execute_result"
    }
   ],
   "source": [
    "3==3.2"
   ]
  },
  {
   "cell_type": "code",
   "execution_count": 35,
   "id": "e46f7d72",
   "metadata": {},
   "outputs": [
    {
     "data": {
      "text/plain": [
       "True"
      ]
     },
     "execution_count": 35,
     "metadata": {},
     "output_type": "execute_result"
    }
   ],
   "source": [
    "3==3.0\n"
   ]
  },
  {
   "cell_type": "code",
   "execution_count": 36,
   "id": "05a21df6",
   "metadata": {},
   "outputs": [
    {
     "name": "stdout",
     "output_type": "stream",
     "text": [
      "6\n"
     ]
    }
   ],
   "source": [
    "print(round(5.88))"
   ]
  },
  {
   "cell_type": "code",
   "execution_count": 37,
   "id": "b1f188e2",
   "metadata": {},
   "outputs": [
    {
     "name": "stdout",
     "output_type": "stream",
     "text": [
      "5.9\n"
     ]
    }
   ],
   "source": [
    "print(round(5.88,1))"
   ]
  },
  {
   "cell_type": "code",
   "execution_count": 38,
   "id": "31c6e544",
   "metadata": {},
   "outputs": [
    {
     "data": {
      "text/plain": [
       "(3, 0)"
      ]
     },
     "execution_count": 38,
     "metadata": {},
     "output_type": "execute_result"
    }
   ],
   "source": [
    "divmod(9,3)"
   ]
  },
  {
   "cell_type": "code",
   "execution_count": 39,
   "id": "0931c62c",
   "metadata": {},
   "outputs": [
    {
     "data": {
      "text/plain": [
       "(3, 1)"
      ]
     },
     "execution_count": 39,
     "metadata": {},
     "output_type": "execute_result"
    }
   ],
   "source": [
    "divmod(22,7)"
   ]
  },
  {
   "cell_type": "code",
   "execution_count": 49,
   "id": "de51edf7",
   "metadata": {},
   "outputs": [
    {
     "name": "stdout",
     "output_type": "stream",
     "text": [
      "True\n"
     ]
    }
   ],
   "source": [
    "print(isinstance((5,4),bool))\n"
   ]
  },
  {
   "cell_type": "code",
   "execution_count": 50,
   "id": "173eb490",
   "metadata": {},
   "outputs": [
    {
     "data": {
      "text/plain": [
       "16"
      ]
     },
     "execution_count": 50,
     "metadata": {},
     "output_type": "execute_result"
    }
   ],
   "source": [
    "2**4\n"
   ]
  },
  {
   "cell_type": "code",
   "execution_count": 51,
   "id": "2f7eaaad",
   "metadata": {},
   "outputs": [
    {
     "data": {
      "text/plain": [
       "16"
      ]
     },
     "execution_count": 51,
     "metadata": {},
     "output_type": "execute_result"
    }
   ],
   "source": [
    "pow(2,4)"
   ]
  },
  {
   "cell_type": "code",
   "execution_count": 53,
   "id": "4102c340",
   "metadata": {},
   "outputs": [
    {
     "data": {
      "text/plain": [
       "2"
      ]
     },
     "execution_count": 53,
     "metadata": {},
     "output_type": "execute_result"
    }
   ],
   "source": [
    "pow(2,4,7)"
   ]
  },
  {
   "cell_type": "code",
   "execution_count": 55,
   "id": "507a4cbf",
   "metadata": {},
   "outputs": [
    {
     "name": "stdout",
     "output_type": "stream",
     "text": [
      "my age is : 26 years old \n"
     ]
    }
   ],
   "source": [
    "a = input(\"my age is : \")"
   ]
  },
  {
   "cell_type": "code",
   "execution_count": 56,
   "id": "18941dfe",
   "metadata": {},
   "outputs": [
    {
     "name": "stdout",
     "output_type": "stream",
     "text": [
      "<class 'str'>\n"
     ]
    }
   ],
   "source": [
    "print(type(a))"
   ]
  },
  {
   "cell_type": "code",
   "execution_count": 57,
   "id": "a4067f02",
   "metadata": {},
   "outputs": [
    {
     "name": "stdout",
     "output_type": "stream",
     "text": [
      "Variable   Type    Data/Info\n",
      "----------------------------\n",
      "a          str     26 years old \n",
      "y          int     4\n"
     ]
    }
   ],
   "source": [
    "%whos "
   ]
  },
  {
   "cell_type": "code",
   "execution_count": null,
   "id": "8d7b1942",
   "metadata": {},
   "outputs": [],
   "source": [
    "\n",
    "\n"
   ]
  },
  {
   "cell_type": "code",
   "execution_count": null,
   "id": "6b8b8a84",
   "metadata": {},
   "outputs": [],
   "source": []
  },
  {
   "cell_type": "code",
   "execution_count": null,
   "id": "55c452a5",
   "metadata": {},
   "outputs": [],
   "source": []
  },
  {
   "cell_type": "code",
   "execution_count": null,
   "id": "410e91bd",
   "metadata": {},
   "outputs": [],
   "source": [
    "\n"
   ]
  },
  {
   "cell_type": "code",
   "execution_count": null,
   "id": "cc983676",
   "metadata": {},
   "outputs": [],
   "source": []
  },
  {
   "cell_type": "code",
   "execution_count": 1,
   "id": "91d4617e",
   "metadata": {},
   "outputs": [
    {
     "name": "stdout",
     "output_type": "stream",
     "text": [
      "hey\n"
     ]
    }
   ],
   "source": [
    "\n",
    "\n",
    "print(\"hey\")"
   ]
  },
  {
   "cell_type": "code",
   "execution_count": 4,
   "id": "a34a72e0",
   "metadata": {},
   "outputs": [
    {
     "name": "stdout",
     "output_type": "stream",
     "text": [
      "enter a number : 5\n"
     ]
    },
    {
     "ename": "TypeError",
     "evalue": "can only concatenate str (not \"int\") to str",
     "output_type": "error",
     "traceback": [
      "\u001b[1;31m---------------------------------------------------------------------------\u001b[0m",
      "\u001b[1;31mTypeError\u001b[0m                                 Traceback (most recent call last)",
      "Cell \u001b[1;32mIn[4], line 8\u001b[0m\n\u001b[0;32m      3\u001b[0m \u001b[38;5;28;01mwhile\u001b[39;00m (x \u001b[38;5;241m==\u001b[39m \u001b[38;5;241m0\u001b[39m):  \n\u001b[0;32m      5\u001b[0m     x \u001b[38;5;241m=\u001b[39m \u001b[38;5;28minput\u001b[39m(\u001b[38;5;124m\"\u001b[39m\u001b[38;5;124mgive one different than zero\u001b[39m\u001b[38;5;124m\"\u001b[39m)\n\u001b[1;32m----> 8\u001b[0m \u001b[38;5;28mprint\u001b[39m(\u001b[38;5;124;43m\"\u001b[39;49m\u001b[38;5;124;43mnice one dude you typed \u001b[39;49m\u001b[38;5;124;43m\"\u001b[39;49m\u001b[43m \u001b[49m\u001b[38;5;241;43m+\u001b[39;49m\u001b[43m \u001b[49m\u001b[43mx\u001b[49m)\n",
      "\u001b[1;31mTypeError\u001b[0m: can only concatenate str (not \"int\") to str"
     ]
    }
   ],
   "source": [
    "o = input('enter a number : ')\n",
    "x = int(o)\n",
    "while (x == 0):  \n",
    "    \n",
    "    x = input(\"give one different than zero\")\n",
    "\n",
    "\n",
    "print(\"nice one dude you typed \" + x)"
   ]
  },
  {
   "cell_type": "code",
   "execution_count": 6,
   "id": "b904a47b",
   "metadata": {},
   "outputs": [
    {
     "name": "stdout",
     "output_type": "stream",
     "text": [
      "enter a number : 0\n",
      "give one different than zero00\n",
      "give one different than zero4\n",
      "nice one dude you typed 4\n"
     ]
    }
   ],
   "source": [
    "o = input('enter a number : ')\n",
    "x = int(o)\n",
    "while (x == 0):  \n",
    "    \n",
    "    x = int(input(\"give one different than zero\"))\n",
    "\n",
    "\n",
    "print(\"nice one dude you typed \" + str(x))"
   ]
  },
  {
   "cell_type": "code",
   "execution_count": 9,
   "id": "a362918e",
   "metadata": {},
   "outputs": [
    {
     "name": "stdout",
     "output_type": "stream",
     "text": [
      "Help on built-in function pow in module builtins:\n",
      "\n",
      "pow(base, exp, mod=None)\n",
      "    Equivalent to base**exp with 2 arguments or base**exp % mod with 3 arguments\n",
      "    \n",
      "    Some types, such as ints, are able to use a more efficient algorithm when\n",
      "    invoked using the three argument form.\n",
      "\n"
     ]
    }
   ],
   "source": [
    "pow??\n",
    "help(pow)"
   ]
  },
  {
   "cell_type": "code",
   "execution_count": 11,
   "id": "b579fbe8",
   "metadata": {},
   "outputs": [
    {
     "name": "stdout",
     "output_type": "stream",
     "text": [
      "enter first value : 15\n",
      "enter seconde one : 17\n",
      " la valeur de b  est plus grande que a et egal a 17\n",
      "you have 2 other try\n",
      "enter first value : 17\n",
      "enter seconde one : 17\n",
      "ils sont egaux\n",
      "you have 1 other try\n",
      "enter first value : 11\n",
      "enter seconde one : 44\n",
      " la valeur de b  est plus grande que a et egal a 44\n",
      "no more chance unfortunatly, Thank u for ur efforts\n"
     ]
    }
   ],
   "source": [
    "\n",
    "count = 1;\n",
    "while (count<=3) :\n",
    "    a = int(input(\"enter first value : \"))\n",
    "    b = int(input(\"enter seconde one : \"))\n",
    "    if a>b : \n",
    "        print(\" la valeur de a  est plus grande que b et egal a \" + str(a))\n",
    "    elif b>a:\n",
    "        print(\" la valeur de b  est plus grande que a et egal a \" + str(b))\n",
    "    else : \n",
    "        print(\"ils sont egaux\")\n",
    "    h = 3-count\n",
    "\n",
    "    print(\"you have \" + str(3-count) + \" other try\") if h != 0 else  print(\"no more chance unfortunatly, Thank u for ur efforts\")\n",
    "         \n",
    "    count = count +1\n",
    "    \n",
    "    "
   ]
  },
  {
   "cell_type": "code",
   "execution_count": 7,
   "id": "c49bcbe3",
   "metadata": {},
   "outputs": [
    {
     "name": "stdout",
     "output_type": "stream",
     "text": [
      "18\n"
     ]
    }
   ],
   "source": [
    "a = 18\n",
    "b = 15 \n",
    "print(b) if b>a else print(a) if a>b else print(\"egaux\")"
   ]
  },
  {
   "cell_type": "code",
   "execution_count": 5,
   "id": "863a5a6a",
   "metadata": {},
   "outputs": [
    {
     "name": "stdout",
     "output_type": "stream",
     "text": [
      "put a number7\n",
      " nice \n",
      "put a number8\n",
      " nice \n"
     ]
    }
   ],
   "source": [
    "counti = 1\n",
    "while (counti<3):\n",
    "    u = int(input(\"put a number\"))\n",
    "    if u>=5 : \n",
    "        if u>20:\n",
    "            print('this number is also above than 20 ')\n",
    "        else: \n",
    "            print(\" nice \")\n",
    "    else : \n",
    "        print(\"the number is below 5\")\n",
    "        \n",
    "    counti=counti+1"
   ]
  },
  {
   "cell_type": "code",
   "execution_count": 10,
   "id": "9c93c5ac",
   "metadata": {},
   "outputs": [
    {
     "ename": "ZeroDivisionError",
     "evalue": "integer division or modulo by zero",
     "output_type": "error",
     "traceback": [
      "\u001b[1;31m---------------------------------------------------------------------------\u001b[0m",
      "\u001b[1;31mZeroDivisionError\u001b[0m                         Traceback (most recent call last)",
      "Cell \u001b[1;32mIn[10], line 1\u001b[0m\n\u001b[1;32m----> 1\u001b[0m \u001b[38;5;28mprint\u001b[39m(\u001b[38;5;28mint\u001b[39m(\u001b[38;5;241;43m0\u001b[39;49m\u001b[38;5;241;43m/\u001b[39;49m\u001b[38;5;241;43m/\u001b[39;49m\u001b[38;5;241;43m0\u001b[39;49m\n\u001b[0;32m      2\u001b[0m          ))\n",
      "\u001b[1;31mZeroDivisionError\u001b[0m: integer division or modulo by zero"
     ]
    }
   ],
   "source": [
    "print(int(0//0\n",
    "         ))"
   ]
  },
  {
   "cell_type": "code",
   "execution_count": 13,
   "id": "41cf5be5",
   "metadata": {},
   "outputs": [
    {
     "name": "stdout",
     "output_type": "stream",
     "text": [
      "enter a float5.27\n",
      "5\n",
      "enter a float-4.22\n",
      "-4\n",
      "enter a float0.222\n",
      "0\n",
      "fin !\n"
     ]
    }
   ],
   "source": [
    "count = 1\n",
    "while (count<=3):\n",
    "    x = float(input(\"enter a float\"))\n",
    "    y = int(round(x))\n",
    "\n",
    "    if y<0:\n",
    "        if y<x:\n",
    "            intdialna = y+1\n",
    "        else: \n",
    "            intdialna = y\n",
    "    else : \n",
    "        if y>x:\n",
    "            intdialna = y-1\n",
    "        else: \n",
    "            intdialna = y\n",
    "    count = count + 1         \n",
    "    print(intdialna)\n",
    "print(\"fin !\" )"
   ]
  },
  {
   "cell_type": "code",
   "execution_count": 11,
   "id": "5894a940",
   "metadata": {},
   "outputs": [
    {
     "data": {
      "text/plain": [
       "-5"
      ]
     },
     "execution_count": 11,
     "metadata": {},
     "output_type": "execute_result"
    }
   ],
   "source": [
    "round(-4.9)"
   ]
  },
  {
   "cell_type": "code",
   "execution_count": 4,
   "id": "c63f23f5",
   "metadata": {},
   "outputs": [
    {
     "name": "stdout",
     "output_type": "stream",
     "text": [
      "enter a number : 47\n",
      "cest le nombre 47 que vous avez mentionner\n"
     ]
    }
   ],
   "source": [
    "i = int(input('enter a number : '))\n",
    "print(\"cest le nombre \" + str(i) +  \" que vous avez mentionner\")"
   ]
  },
  {
   "cell_type": "code",
   "execution_count": 7,
   "id": "0541d627",
   "metadata": {},
   "outputs": [
    {
     "name": "stdout",
     "output_type": "stream",
     "text": [
      "on vas afficher les nombres pair seulement\n",
      "2\n",
      "4\n",
      "6\n",
      "8\n",
      "10\n"
     ]
    }
   ],
   "source": [
    "print(\"on vas afficher les nombres pair seulement\")\n",
    "count = 1\n",
    "\n",
    "while count <= 10 : \n",
    "    if count%2 == 0:\n",
    "        print(count)\n",
    "    else: \n",
    "        pass\n",
    "    count +=1"
   ]
  },
  {
   "cell_type": "code",
   "execution_count": 8,
   "id": "f8ce5789",
   "metadata": {},
   "outputs": [
    {
     "data": {
      "text/plain": [
       "1"
      ]
     },
     "execution_count": 8,
     "metadata": {},
     "output_type": "execute_result"
    }
   ],
   "source": [
    "\n",
    "1%9"
   ]
  },
  {
   "cell_type": "code",
   "execution_count": 16,
   "id": "67e6feef",
   "metadata": {},
   "outputs": [
    {
     "name": "stdout",
     "output_type": "stream",
     "text": [
      "[5]\n"
     ]
    }
   ],
   "source": [
    "L = []\n",
    "L.append(0)\n",
    "L[0]=5\n",
    "print(L)"
   ]
  },
  {
   "cell_type": "code",
   "execution_count": 5,
   "id": "235dd1d0",
   "metadata": {},
   "outputs": [
    {
     "name": "stdout",
     "output_type": "stream",
     "text": [
      "[4, 25, 64, 121, 196, 289]\n"
     ]
    }
   ],
   "source": [
    "L2 = []\n",
    "for i in range (2,20,3):\n",
    "    \n",
    "    L2.append(i**2)\n",
    "print(L2)\n",
    "   "
   ]
  },
  {
   "cell_type": "code",
   "execution_count": 6,
   "id": "0b8ca5d7",
   "metadata": {},
   "outputs": [
    {
     "name": "stdout",
     "output_type": "stream",
     "text": [
      "<class 'set'>\n"
     ]
    }
   ],
   "source": [
    "S = {\"charif\",5,\"fares\"}\n",
    "print(type(S))"
   ]
  },
  {
   "cell_type": "code",
   "execution_count": 11,
   "id": "2a581fee",
   "metadata": {},
   "outputs": [
    {
     "name": "stdout",
     "output_type": "stream",
     "text": [
      "A : 5\n",
      "B : 10\n"
     ]
    }
   ],
   "source": [
    "D = {\"A\":5,\"B\":10}\n",
    "for x in D : \n",
    "    print(x ,\":\", D[x])"
   ]
  },
  {
   "cell_type": "code",
   "execution_count": 15,
   "id": "bc5b15d6",
   "metadata": {},
   "outputs": [
    {
     "name": "stdout",
     "output_type": "stream",
     "text": [
      "charif 5 aynek\n"
     ]
    }
   ],
   "source": [
    "x= 5 \n",
    "print(\"charif \" + str(x) +\" aynek\")"
   ]
  },
  {
   "cell_type": "code",
   "execution_count": 1,
   "id": "6adaf18b",
   "metadata": {},
   "outputs": [
    {
     "name": "stdout",
     "output_type": "stream",
     "text": [
      "Interactive namespace is empty.\n"
     ]
    }
   ],
   "source": [
    "%whos\n"
   ]
  },
  {
   "cell_type": "code",
   "execution_count": 2,
   "id": "45ff4cd3",
   "metadata": {},
   "outputs": [],
   "source": [
    "a = 2"
   ]
  },
  {
   "cell_type": "code",
   "execution_count": 3,
   "id": "8d6af850",
   "metadata": {},
   "outputs": [
    {
     "name": "stdout",
     "output_type": "stream",
     "text": [
      "Variable   Type    Data/Info\n",
      "----------------------------\n",
      "a          int     2\n"
     ]
    }
   ],
   "source": [
    "%whos"
   ]
  },
  {
   "cell_type": "code",
   "execution_count": 159,
   "id": "78e53dda",
   "metadata": {},
   "outputs": [],
   "source": [
    "L = [1,5,-3,7,6,9]"
   ]
  },
  {
   "cell_type": "code",
   "execution_count": 160,
   "id": "4c650524",
   "metadata": {},
   "outputs": [
    {
     "name": "stdout",
     "output_type": "stream",
     "text": [
      "[1, 5, -3, 7, 6, 9]\n"
     ]
    }
   ],
   "source": [
    "print(L1)"
   ]
  },
  {
   "cell_type": "code",
   "execution_count": 161,
   "id": "4d32c136",
   "metadata": {},
   "outputs": [
    {
     "name": "stdout",
     "output_type": "stream",
     "text": [
      "le min dans ce cas est :  1  li kan f  0\n",
      "le min dans ce cas est :  1  li kan f  0\n",
      "le min dans ce cas est :  -3  li kan f  2\n",
      "le min dans ce cas est :  -3  li kan f  2\n",
      "le min dans ce cas est :  -3  li kan f  2\n",
      "le min dans ce cas est :  -3  li kan f  2\n",
      "le min dans ce cas est :  5  li kan f  1\n",
      "le min dans ce cas est :  1  li kan f  2\n",
      "le min dans ce cas est :  1  li kan f  2\n",
      "le min dans ce cas est :  1  li kan f  2\n",
      "le min dans ce cas est :  1  li kan f  2\n",
      "le min dans ce cas est :  5  li kan f  2\n",
      "le min dans ce cas est :  5  li kan f  2\n",
      "le min dans ce cas est :  5  li kan f  2\n",
      "le min dans ce cas est :  5  li kan f  2\n",
      "le min dans ce cas est :  7  li kan f  3\n",
      "le min dans ce cas est :  6  li kan f  4\n",
      "le min dans ce cas est :  6  li kan f  4\n",
      "le min dans ce cas est :  7  li kan f  4\n",
      "le min dans ce cas est :  7  li kan f  4\n",
      "le min dans ce cas est :  9  li kan f  5\n",
      "[-3, 1, 5, 6, 7, 9]\n"
     ]
    }
   ],
   "source": [
    "\n",
    "for i in range (len(L)):\n",
    "    min = L[i]\n",
    "    indx = i\n",
    "    count = i\n",
    "    for j in range(i,len(L)):\n",
    "        if L[j]<min:\n",
    "            min = L[j]\n",
    "            indx = count\n",
    "            temp = L[i]\n",
    "            L[i] = min\n",
    "            L[j] = temp\n",
    "        count = count +1\n",
    "        print('le min dans ce cas est : ',min, \" li kan f \", indx )\n",
    "    \n",
    "\n",
    "          L = [1,5,-3,7,6,9]\n",
    "            \n",
    "     \n",
    "print(L)\n"
   ]
  },
  {
   "cell_type": "code",
   "execution_count": 60,
   "id": "43f77634",
   "metadata": {},
   "outputs": [
    {
     "name": "stdout",
     "output_type": "stream",
     "text": [
      "6\n"
     ]
    }
   ],
   "source": [
    "print(len(L))"
   ]
  },
  {
   "cell_type": "code",
   "execution_count": 53,
   "id": "42a0e180",
   "metadata": {},
   "outputs": [
    {
     "name": "stdout",
     "output_type": "stream",
     "text": [
      "0\n",
      "1\n",
      "2\n",
      "3\n",
      "4\n",
      "5\n"
     ]
    }
   ],
   "source": [
    "for k in range (6):\n",
    "    print(k)"
   ]
  },
  {
   "cell_type": "code",
   "execution_count": 63,
   "id": "f50d5e83",
   "metadata": {},
   "outputs": [
    {
     "name": "stdout",
     "output_type": "stream",
     "text": [
      "[-3, -3, -3, -3, 1, 1]\n"
     ]
    }
   ],
   "source": [
    "print(L)"
   ]
  },
  {
   "cell_type": "code",
   "execution_count": 162,
   "id": "45d3d0a6",
   "metadata": {},
   "outputs": [],
   "source": [
    "def arreteMessage():\n",
    "    print(\"done\")\n",
    "    print(\"move on dude ! ;)\")\n",
    "    "
   ]
  },
  {
   "cell_type": "code",
   "execution_count": 165,
   "id": "29dd7f53",
   "metadata": {},
   "outputs": [
    {
     "name": "stdout",
     "output_type": "stream",
     "text": [
      "0\n",
      "1\n",
      "2\n",
      "3\n",
      "4\n",
      "done\n",
      "move on dude ! ;)\n"
     ]
    }
   ],
   "source": [
    "for i in range(5):\n",
    "    print(i)\n",
    "    arreteMessage()"
   ]
  },
  {
   "cell_type": "code",
   "execution_count": 4,
   "id": "d35be112",
   "metadata": {},
   "outputs": [],
   "source": [
    "%whos??\n"
   ]
  },
  {
   "cell_type": "code",
   "execution_count": 5,
   "id": "52a4c7c8",
   "metadata": {},
   "outputs": [],
   "source": [
    "def printSuc():\n",
    "    ''' This function print Suc tae li rabho bac'''\n",
    "    \n",
    "    print('bsahttkom les bacheliers')"
   ]
  },
  {
   "cell_type": "code",
   "execution_count": 11,
   "id": "8b14ee0b",
   "metadata": {},
   "outputs": [],
   "source": [
    "divmod??"
   ]
  },
  {
   "cell_type": "code",
   "execution_count": 14,
   "id": "3c0a06e6",
   "metadata": {},
   "outputs": [],
   "source": [
    "round??\n"
   ]
  },
  {
   "cell_type": "code",
   "execution_count": 31,
   "id": "e82645a2",
   "metadata": {},
   "outputs": [],
   "source": [
    "def powListToNumber(i):\n",
    "    count = 0\n",
    "    for j in range (i+1) :\n",
    "        u = j**2\n",
    "        print(\"le carré de \",count,\" est \",u)\n",
    "        \n",
    "        count= count+1\n",
    "    "
   ]
  },
  {
   "cell_type": "code",
   "execution_count": 32,
   "id": "b06e3b68",
   "metadata": {},
   "outputs": [
    {
     "name": "stdout",
     "output_type": "stream",
     "text": [
      "le carré de  0  est  0\n",
      "le carré de  1  est  1\n",
      "le carré de  2  est  4\n",
      "le carré de  3  est  9\n",
      "le carré de  4  est  16\n",
      "le carré de  5  est  25\n"
     ]
    }
   ],
   "source": [
    "powListToNumber(5)"
   ]
  },
  {
   "cell_type": "code",
   "execution_count": null,
   "id": "a3c1cc71",
   "metadata": {},
   "outputs": [],
   "source": [
    "def printmsg(msg):\n",
    "    while True:\n",
    "        if isinstance(msg,str):\n",
    "            print(msg)\n",
    "            break\n",
    "        else:\n",
    "            print(\"please put a str format\")\n",
    "            printmsg(input())\n",
    "            print\n",
    "            \n",
    "            "
   ]
  },
  {
   "cell_type": "code",
   "execution_count": null,
   "id": "36653c8c",
   "metadata": {},
   "outputs": [],
   "source": [
    "printmsg(555)"
   ]
  },
  {
   "cell_type": "code",
   "execution_count": 39,
   "id": "83facd16",
   "metadata": {},
   "outputs": [],
   "source": [
    "isinstance?"
   ]
  },
  {
   "cell_type": "code",
   "execution_count": 1,
   "id": "96c0268c",
   "metadata": {},
   "outputs": [],
   "source": [
    "pow??\n"
   ]
  },
  {
   "cell_type": "code",
   "execution_count": 12,
   "id": "3d25868e",
   "metadata": {},
   "outputs": [],
   "source": [
    "def checkNumbers(a,b,c):\n",
    "    if isinstance(a,(int,float)) and isinstance(b,(int,float)) and isinstance(c,(int,float)):\n",
    "        \n",
    "        print((a+b+c)**2)\n",
    "    else:\n",
    "        \n",
    "        print('Error ! Please provide the right format of Numbers')\n",
    "        \n",
    "        for i in (a,b,c):\n",
    "            \n",
    "            if not isinstance(i,(int,float)):\n",
    "                \n",
    "                print(\" we have type error : \" , type(i))"
   ]
  },
  {
   "cell_type": "code",
   "execution_count": 13,
   "id": "5f410062",
   "metadata": {},
   "outputs": [
    {
     "name": "stdout",
     "output_type": "stream",
     "text": [
      "256\n"
     ]
    }
   ],
   "source": [
    "checkNumbers(5,4,7)"
   ]
  },
  {
   "cell_type": "code",
   "execution_count": 14,
   "id": "bcf7fb0f",
   "metadata": {},
   "outputs": [
    {
     "name": "stdout",
     "output_type": "stream",
     "text": [
      "Error ! Please provide the right format of Numbers\n",
      " we have type error :  <class 'tuple'>\n",
      " we have type error :  <class 'str'>\n"
     ]
    }
   ],
   "source": [
    "checkNumbers(7,(4,5),'ggg')"
   ]
  },
  {
   "cell_type": "code",
   "execution_count": 15,
   "id": "c7120bc2",
   "metadata": {},
   "outputs": [
    {
     "name": "stdout",
     "output_type": "stream",
     "text": [
      "50\n"
     ]
    }
   ],
   "source": [
    "x = int(input())"
   ]
  },
  {
   "cell_type": "code",
   "execution_count": 16,
   "id": "4b5a0a54",
   "metadata": {},
   "outputs": [],
   "source": [
    "def printoo(a,b,c):\n",
    "    print(\"a egal a : \", a)\n",
    "    print(\"a egal a : \", b)\n",
    "    print(\"a egal a : \", c)"
   ]
  },
  {
   "cell_type": "code",
   "execution_count": 18,
   "id": "1558a5e9",
   "metadata": {},
   "outputs": [
    {
     "name": "stdout",
     "output_type": "stream",
     "text": [
      "a egal a :  g\n",
      "a egal a :  8\n",
      "a egal a :  7\n"
     ]
    }
   ],
   "source": [
    "printoo(b=8,c=7,a='g')"
   ]
  },
  {
   "cell_type": "code",
   "execution_count": 20,
   "id": "26abdf71",
   "metadata": {},
   "outputs": [],
   "source": [
    "printoo??"
   ]
  },
  {
   "cell_type": "code",
   "execution_count": 11,
   "id": "63acd72c",
   "metadata": {},
   "outputs": [],
   "source": [
    "def multiadd(a,v):\n",
    "        c = a*v+v\n",
    "        return c\n"
   ]
  },
  {
   "cell_type": "code",
   "execution_count": 23,
   "id": "e60612d6",
   "metadata": {},
   "outputs": [
    {
     "name": "stdout",
     "output_type": "stream",
     "text": [
      "4\n",
      "5\n",
      "24\n"
     ]
    }
   ],
   "source": [
    "multiadd(v=int(input()),a=int(input()))"
   ]
  },
  {
   "cell_type": "code",
   "execution_count": 26,
   "id": "f95db804",
   "metadata": {},
   "outputs": [
    {
     "name": "stdout",
     "output_type": "stream",
     "text": [
      "enter the first number8\n",
      "enter the second numberlol\n",
      "please enter int or float number u have other chancell\n",
      "smahlna nta mkwd\n",
      "roh kwd\n",
      "mankdrouch navancou a lkhra aewd ektbhom ghaya\n",
      "enter the first number45\n",
      "enter the second number41\n",
      "ur result is  943.0\n",
      "alhamdoulleh li fhamt w rana kamlna\n"
     ]
    }
   ],
   "source": [
    "\n",
    "del u,k\n",
    "\n",
    "\n",
    "try:\n",
    "    u = int(input('enter the first number'))\n",
    "except:\n",
    "    u = int(input('please enter int or float number'))\n",
    "try:\n",
    "    k = int(input('enter the second number'))\n",
    "except :\n",
    "    try:\n",
    "        k = int(input('please enter int or float number u have other chance'))\n",
    "    except:\n",
    "         print('smahlna nta mkwd')\n",
    "    finally:\n",
    "         print(\"roh kwd\")\n",
    "\n",
    "try: \n",
    "    m = multiadd(u,k)\n",
    "    print(m/2)\n",
    "except: \n",
    "    print(\"mankdrouch navancou a lkhra aewd ektbhom ghaya\")\n",
    "    u = int(input('enter the first number'))\n",
    "    k = int(input('enter the second number'))\n",
    "    m = multiadd(u,k)\n",
    "    print(\"ur result is \", m/2)\n",
    "finally: \n",
    "    print(\"alhamdoulleh li fhamt w rana kamlna\")\n",
    "\n"
   ]
  },
  {
   "cell_type": "code",
   "execution_count": 19,
   "id": "8b540866",
   "metadata": {},
   "outputs": [
    {
     "name": "stdout",
     "output_type": "stream",
     "text": [
      "Variable   Type        Data/Info\n",
      "--------------------------------\n",
      "m          int         63\n",
      "multiadd   function    <function multiadd at 0x000001F156F51A20>\n",
      "r          int         63\n",
      "u          int         8\n"
     ]
    }
   ],
   "source": [
    "\n",
    "%whos\n",
    "del u"
   ]
  },
  {
   "cell_type": "code",
   "execution_count": 27,
   "id": "988de554",
   "metadata": {},
   "outputs": [
    {
     "name": "stdout",
     "output_type": "stream",
     "text": [
      "hii\n"
     ]
    }
   ],
   "source": [
    "print(\"hii\")"
   ]
  },
  {
   "cell_type": "code",
   "execution_count": 7,
   "id": "0e0088ea",
   "metadata": {},
   "outputs": [
    {
     "name": "stdout",
     "output_type": "stream",
     "text": [
      "32\n"
     ]
    }
   ],
   "source": [
    "a = 8\n",
    "b=5\n",
    "def jdid(n,b):\n",
    "    c= a*n*b\n",
    "    return c\n",
    "j = jdid(2,2)\n",
    "print(j)\n",
    "    "
   ]
  },
  {
   "cell_type": "code",
   "execution_count": 8,
   "id": "049e00a0",
   "metadata": {},
   "outputs": [
    {
     "name": "stdout",
     "output_type": "stream",
     "text": [
      "Variable   Type        Data/Info\n",
      "--------------------------------\n",
      "a          int         8\n",
      "b          int         5\n",
      "j          int         32\n",
      "jdid       function    <function jdid at 0x00000228CBDCF2E0>\n"
     ]
    }
   ],
   "source": [
    "%whos"
   ]
  },
  {
   "cell_type": "code",
   "execution_count": 15,
   "id": "83c015c6",
   "metadata": {},
   "outputs": [],
   "source": [
    "def kdim(y,u):\n",
    "    j = y*a+u\n",
    "    i= y*b+u\n",
    "    return j,i\n",
    "\n",
    "\n",
    "o,p = kdim(7,2)\n"
   ]
  },
  {
   "cell_type": "code",
   "execution_count": 16,
   "id": "5bb68500",
   "metadata": {},
   "outputs": [
    {
     "name": "stdout",
     "output_type": "stream",
     "text": [
      "Variable   Type        Data/Info\n",
      "--------------------------------\n",
      "a          int         8\n",
      "b          int         5\n",
      "j          int         32\n",
      "jdid       function    <function jdid at 0x00000228CBDCF2E0>\n",
      "kdim       function    <function kdim at 0x00000228CBDCE830>\n",
      "o          int         58\n",
      "p          int         37\n"
     ]
    }
   ],
   "source": [
    "%whos"
   ]
  },
  {
   "cell_type": "code",
   "execution_count": 30,
   "id": "973ea384",
   "metadata": {},
   "outputs": [
    {
     "name": "stdout",
     "output_type": "stream",
     "text": [
      "hello to the person who invoked g \n",
      "mazalni\n"
     ]
    },
    {
     "data": {
      "text/plain": [
       "13"
      ]
     },
     "execution_count": 30,
     "metadata": {},
     "output_type": "execute_result"
    }
   ],
   "source": [
    "def g():\n",
    "    print(\"hello to the person who invoked g \")\n",
    "    m = a+b\n",
    "    \n",
    "    print(\"mazalni\")\n",
    "    return m\n",
    "     \n",
    "    \n",
    "    \n",
    "g()"
   ]
  },
  {
   "cell_type": "code",
   "execution_count": 29,
   "id": "e9b3fbc0",
   "metadata": {},
   "outputs": [
    {
     "name": "stdout",
     "output_type": "stream",
     "text": [
      "hello to the person who invoked g \n"
     ]
    },
    {
     "data": {
      "text/plain": [
       "13"
      ]
     },
     "execution_count": 29,
     "metadata": {},
     "output_type": "execute_result"
    }
   ],
   "source": [
    "g()"
   ]
  },
  {
   "cell_type": "code",
   "execution_count": 24,
   "id": "c86e3488",
   "metadata": {},
   "outputs": [
    {
     "name": "stdout",
     "output_type": "stream",
     "text": [
      "hello to the person who invoked g \n",
      "<class 'int'>\n"
     ]
    }
   ],
   "source": [
    "print(type(g()))"
   ]
  },
  {
   "cell_type": "code",
   "execution_count": 27,
   "id": "edfc991e",
   "metadata": {},
   "outputs": [
    {
     "name": "stdout",
     "output_type": "stream",
     "text": [
      "hello to the person who invoked g \n",
      "<class 'NoneType'>\n"
     ]
    }
   ],
   "source": [
    "h = type(g())\n",
    "print(h)"
   ]
  },
  {
   "cell_type": "code",
   "execution_count": 56,
   "id": "025242fd",
   "metadata": {},
   "outputs": [],
   "source": [
    "def tyo(*args):\n",
    "    sum =0\n",
    "    for i in args:\n",
    "        sum = sum+i\n",
    "    return sum\n",
    "    "
   ]
  },
  {
   "cell_type": "code",
   "execution_count": 60,
   "id": "1557c226",
   "metadata": {},
   "outputs": [
    {
     "data": {
      "text/plain": [
       "269"
      ]
     },
     "execution_count": 60,
     "metadata": {},
     "output_type": "execute_result"
    }
   ],
   "source": [
    "tyo(5,4,38,222)\n"
   ]
  },
  {
   "cell_type": "code",
   "execution_count": 33,
   "id": "53db54b1",
   "metadata": {},
   "outputs": [
    {
     "ename": "TypeError",
     "evalue": "range expected at least 1 argument, got 0",
     "output_type": "error",
     "traceback": [
      "\u001b[1;31m---------------------------------------------------------------------------\u001b[0m",
      "\u001b[1;31mTypeError\u001b[0m                                 Traceback (most recent call last)",
      "Cell \u001b[1;32mIn[33], line 1\u001b[0m\n\u001b[1;32m----> 1\u001b[0m \u001b[38;5;28;43mrange\u001b[39;49m\u001b[43m(\u001b[49m\u001b[43m)\u001b[49m\n",
      "\u001b[1;31mTypeError\u001b[0m: range expected at least 1 argument, got 0"
     ]
    }
   ],
   "source": [
    "range()"
   ]
  },
  {
   "cell_type": "code",
   "execution_count": 34,
   "id": "df8974ba",
   "metadata": {},
   "outputs": [],
   "source": [
    "range?\n"
   ]
  },
  {
   "cell_type": "code",
   "execution_count": 45,
   "id": "ea166690",
   "metadata": {},
   "outputs": [],
   "source": [
    "o = {\"5\" : 10,\"4\" : 8}"
   ]
  },
  {
   "cell_type": "code",
   "execution_count": 47,
   "id": "0630b7d2",
   "metadata": {},
   "outputs": [
    {
     "name": "stdout",
     "output_type": "stream",
     "text": [
      "5\n",
      "4\n"
     ]
    }
   ],
   "source": [
    "for i in o:\n",
    "    print(i)"
   ]
  },
  {
   "cell_type": "code",
   "execution_count": 29,
   "id": "c7907fd4",
   "metadata": {},
   "outputs": [],
   "source": [
    "def varnameandposition(**args):\n",
    "    summ = 0\n",
    "    for i in args:\n",
    "        \n",
    "        print(\"we are on the position \",summ, \" dont la clé est \",i,\" qui a la valeur \",args[i])\n",
    "        summ+=1\n",
    "    "
   ]
  },
  {
   "cell_type": "code",
   "execution_count": 31,
   "id": "2278337f",
   "metadata": {},
   "outputs": [
    {
     "name": "stdout",
     "output_type": "stream",
     "text": [
      "we are on the position  0  dont la clé est  a  qui a la valeur  5\n",
      "we are on the position  1  dont la clé est  b  qui a la valeur  batata\n",
      "we are on the position  2  dont la clé est  c  qui a la valeur  yaheeew\n"
     ]
    }
   ],
   "source": [
    "varnameandposition(a=5, b=\"batata\", c=\"yaheeew\")"
   ]
  },
  {
   "cell_type": "code",
   "execution_count": 9,
   "id": "792bbd7a",
   "metadata": {},
   "outputs": [
    {
     "name": "stdout",
     "output_type": "stream",
     "text": [
      "Variable             Type        Data/Info\n",
      "------------------------------------------\n",
      "varnameandposition   function    <function varnameandposit<...>on at 0x0000020509448EE0>\n"
     ]
    }
   ],
   "source": [
    "%whos"
   ]
  },
  {
   "cell_type": "code",
   "execution_count": 10,
   "id": "7afdb0a5",
   "metadata": {},
   "outputs": [],
   "source": [
    "p = (5,5)"
   ]
  },
  {
   "cell_type": "code",
   "execution_count": 11,
   "id": "862e5027",
   "metadata": {},
   "outputs": [
    {
     "data": {
      "text/plain": [
       "2"
      ]
     },
     "execution_count": 11,
     "metadata": {},
     "output_type": "execute_result"
    }
   ],
   "source": [
    "len(p)"
   ]
  },
  {
   "cell_type": "code",
   "execution_count": 27,
   "id": "24c9b9b2",
   "metadata": {},
   "outputs": [
    {
     "ename": "NameError",
     "evalue": "name 'charif' is not defined",
     "output_type": "error",
     "traceback": [
      "\u001b[1;31m---------------------------------------------------------------------------\u001b[0m",
      "\u001b[1;31mNameError\u001b[0m                                 Traceback (most recent call last)",
      "Cell \u001b[1;32mIn[27], line 1\u001b[0m\n\u001b[1;32m----> 1\u001b[0m d\u001b[38;5;241m=\u001b[39m (\u001b[43mcharif\u001b[49m \u001b[38;5;241m==\u001b[39m \u001b[38;5;241m1\u001b[39m,fares \u001b[38;5;241m==\u001b[39m \u001b[38;5;241m2\u001b[39m)\n",
      "\u001b[1;31mNameError\u001b[0m: name 'charif' is not defined"
     ]
    }
   ],
   "source": [
    "d= (charif == 1,fares == 2)"
   ]
  },
  {
   "cell_type": "code",
   "execution_count": 24,
   "id": "2ada3066",
   "metadata": {},
   "outputs": [
    {
     "name": "stdout",
     "output_type": "stream",
     "text": [
      "2\n"
     ]
    }
   ],
   "source": [
    "print(len(d))"
   ]
  },
  {
   "cell_type": "code",
   "execution_count": 25,
   "id": "3a184cc9",
   "metadata": {},
   "outputs": [
    {
     "name": "stdout",
     "output_type": "stream",
     "text": [
      "(5, 8)\n"
     ]
    }
   ],
   "source": [
    "print(d[\"fares\"])"
   ]
  },
  {
   "cell_type": "code",
   "execution_count": 32,
   "id": "4d441a20",
   "metadata": {},
   "outputs": [
    {
     "name": "stdout",
     "output_type": "stream",
     "text": [
      "5 5\n"
     ]
    }
   ],
   "source": [
    "q = 5\n",
    "w=q\n",
    "print(q,w)"
   ]
  },
  {
   "cell_type": "code",
   "execution_count": 33,
   "id": "7553d9d0",
   "metadata": {},
   "outputs": [
    {
     "name": "stdout",
     "output_type": "stream",
     "text": [
      "5 8\n"
     ]
    }
   ],
   "source": [
    "w = 8\n",
    "print(q,w)"
   ]
  },
  {
   "cell_type": "code",
   "execution_count": 34,
   "id": "2926bbe7",
   "metadata": {},
   "outputs": [
    {
     "name": "stdout",
     "output_type": "stream",
     "text": [
      "[0, 4, 5] [0, 4, 5]\n"
     ]
    }
   ],
   "source": [
    "L11 = [0,4,5]\n",
    "L12 = L11\n",
    "\n",
    "print(L11,L12\n",
    "     )"
   ]
  },
  {
   "cell_type": "code",
   "execution_count": 35,
   "id": "cbbb97db",
   "metadata": {},
   "outputs": [
    {
     "name": "stdout",
     "output_type": "stream",
     "text": [
      "[8, 4, 5] [8, 4, 5]\n"
     ]
    }
   ],
   "source": [
    "L12[0]= 8\n",
    "print(L11,L12\n",
    "     )"
   ]
  },
  {
   "cell_type": "code",
   "execution_count": 59,
   "id": "e712f460",
   "metadata": {},
   "outputs": [],
   "source": [
    "def pardefo(z,m = 0 ):\n",
    "    print(m,z)\n",
    "    "
   ]
  },
  {
   "cell_type": "code",
   "execution_count": 61,
   "id": "0f4fdee7",
   "metadata": {},
   "outputs": [
    {
     "name": "stdout",
     "output_type": "stream",
     "text": [
      "0 8\n"
     ]
    }
   ],
   "source": [
    "pardefo(8)"
   ]
  },
  {
   "cell_type": "code",
   "execution_count": 42,
   "id": "89c28ab9",
   "metadata": {},
   "outputs": [
    {
     "name": "stdout",
     "output_type": "stream",
     "text": [
      "7 5\n"
     ]
    }
   ],
   "source": [
    "pardefo(7)"
   ]
  },
  {
   "cell_type": "code",
   "execution_count": 43,
   "id": "68b53056",
   "metadata": {},
   "outputs": [
    {
     "name": "stdout",
     "output_type": "stream",
     "text": [
      "7 7\n"
     ]
    }
   ],
   "source": [
    "pardefo(7,7)"
   ]
  },
  {
   "cell_type": "code",
   "execution_count": 52,
   "id": "ee7de19d",
   "metadata": {},
   "outputs": [],
   "source": [
    "def parfed(L=[]):\n",
    "    for i in range(len(L)):\n",
    "        c = L[i]**2\n",
    "        L[i] = c\n",
    "    print(L)\n"
   ]
  },
  {
   "cell_type": "code",
   "execution_count": 53,
   "id": "d71b2bce",
   "metadata": {},
   "outputs": [
    {
     "name": "stdout",
     "output_type": "stream",
     "text": [
      "[]\n"
     ]
    }
   ],
   "source": [
    "parfed()"
   ]
  },
  {
   "cell_type": "code",
   "execution_count": 54,
   "id": "65caf6d2",
   "metadata": {},
   "outputs": [
    {
     "name": "stdout",
     "output_type": "stream",
     "text": [
      "[64, 49, 25]\n"
     ]
    }
   ],
   "source": [
    "O=[8,7,5]\n",
    "parfed(O)"
   ]
  },
  {
   "cell_type": "code",
   "execution_count": 82,
   "id": "18504fb4",
   "metadata": {},
   "outputs": [],
   "source": [
    "def checkingargs(*args):\n",
    "    count = 0\n",
    "    for i in range(len(args)):\n",
    "        if not(isinstance(args[i],(int,float))):\n",
    "            count = count +1\n",
    "            \n",
    "        else: \n",
    "            pass\n",
    "    if (count == len(args)):\n",
    "        print('all ur variable are not int or float')\n",
    "        return False\n",
    "    elif (count ==0):\n",
    "        \n",
    "        return True\n",
    "    \n",
    "    else:\n",
    "        print(\"one of ur value are not int or float\")\n",
    "        return False"
   ]
  },
  {
   "cell_type": "code",
   "execution_count": 83,
   "id": "27f3b58a",
   "metadata": {},
   "outputs": [
    {
     "name": "stdout",
     "output_type": "stream",
     "text": [
      "one of ur value are not int or float\n"
     ]
    },
    {
     "data": {
      "text/plain": [
       "False"
      ]
     },
     "execution_count": 83,
     "metadata": {},
     "output_type": "execute_result"
    }
   ],
   "source": [
    "checkingargs(5,\"gg\",\"gg\")"
   ]
  },
  {
   "cell_type": "code",
   "execution_count": 87,
   "id": "fb34a252",
   "metadata": {},
   "outputs": [
    {
     "name": "stdout",
     "output_type": "stream",
     "text": [
      "all ur variable are not int or float\n",
      "check the description above to know \n"
     ]
    }
   ],
   "source": [
    "if (checkingargs(\"gg\",\"rr\",\"gg\") == True ):\n",
    "    print(\"rana ghaya\")\n",
    "else : \n",
    "    print(\"check the description above to know \")"
   ]
  },
  {
   "cell_type": "code",
   "execution_count": 88,
   "id": "c3c82254",
   "metadata": {},
   "outputs": [],
   "source": [
    "import sys\n",
    "sys.path.append('C:/PythonFuc/')\n"
   ]
  },
  {
   "cell_type": "code",
   "execution_count": 100,
   "id": "6ce6aa9b",
   "metadata": {},
   "outputs": [],
   "source": [
    "from AllMyFunction import parfed2 as pp\n"
   ]
  },
  {
   "cell_type": "code",
   "execution_count": 101,
   "id": "6128c8ed",
   "metadata": {},
   "outputs": [
    {
     "ename": "SyntaxError",
     "evalue": "invalid syntax (1586319889.py, line 1)",
     "output_type": "error",
     "traceback": [
      "\u001b[1;36m  Cell \u001b[1;32mIn[101], line 1\u001b[1;36m\u001b[0m\n\u001b[1;33m    pp()?\u001b[0m\n\u001b[1;37m        ^\u001b[0m\n\u001b[1;31mSyntaxError\u001b[0m\u001b[1;31m:\u001b[0m invalid syntax\n"
     ]
    }
   ],
   "source": [
    "pp()?"
   ]
  },
  {
   "cell_type": "code",
   "execution_count": 106,
   "id": "6dd3125b",
   "metadata": {},
   "outputs": [
    {
     "name": "stdout",
     "output_type": "stream",
     "text": [
      "[25, 25, 25]\n"
     ]
    }
   ],
   "source": [
    "m = [5,5,5]\n",
    "pp(m)\n"
   ]
  },
  {
   "cell_type": "code",
   "execution_count": 103,
   "id": "bfa66e2f",
   "metadata": {},
   "outputs": [],
   "source": [
    "divmod??"
   ]
  },
  {
   "cell_type": "code",
   "execution_count": 95,
   "id": "757952cf",
   "metadata": {},
   "outputs": [
    {
     "name": "stdout",
     "output_type": "stream",
     "text": [
      "Object `parfed2` not found.\n"
     ]
    }
   ],
   "source": [
    "parfed2??"
   ]
  },
  {
   "cell_type": "code",
   "execution_count": 96,
   "id": "b3965f45",
   "metadata": {},
   "outputs": [
    {
     "name": "stdout",
     "output_type": "stream",
     "text": [
      "Object `AllMyFunction.pp` not found.\n"
     ]
    }
   ],
   "source": [
    "AllMyFunction.pp??"
   ]
  },
  {
   "cell_type": "code",
   "execution_count": 107,
   "id": "8249ebb9",
   "metadata": {},
   "outputs": [
    {
     "name": "stdout",
     "output_type": "stream",
     "text": [
      "hey\n"
     ]
    }
   ],
   "source": [
    "print(\"hey\")"
   ]
  },
  {
   "cell_type": "code",
   "execution_count": 112,
   "id": "6be27ee4",
   "metadata": {},
   "outputs": [
    {
     "ename": "SyntaxError",
     "evalue": "unterminated string literal (detected at line 1) (2793189350.py, line 1)",
     "output_type": "error",
     "traceback": [
      "\u001b[1;36m  Cell \u001b[1;32mIn[112], line 1\u001b[1;36m\u001b[0m\n\u001b[1;33m    print(\"charif\u001b[0m\n\u001b[1;37m          ^\u001b[0m\n\u001b[1;31mSyntaxError\u001b[0m\u001b[1;31m:\u001b[0m unterminated string literal (detected at line 1)\n"
     ]
    }
   ],
   "source": [
    "print(\"charif\n",
    "soheib\n",
    "abdelkader \")"
   ]
  },
  {
   "cell_type": "code",
   "execution_count": 113,
   "id": "394b14b3",
   "metadata": {},
   "outputs": [
    {
     "name": "stdout",
     "output_type": "stream",
     "text": [
      "f\n"
     ]
    }
   ],
   "source": [
    "myName = \"sohaib charif\"\n",
    "print(myName[-1])"
   ]
  },
  {
   "cell_type": "code",
   "execution_count": 114,
   "id": "3129f036",
   "metadata": {},
   "outputs": [
    {
     "data": {
      "text/plain": [
       "13"
      ]
     },
     "execution_count": 114,
     "metadata": {},
     "output_type": "execute_result"
    }
   ],
   "source": [
    "len(myName)"
   ]
  },
  {
   "cell_type": "code",
   "execution_count": 121,
   "id": "a1acd967",
   "metadata": {},
   "outputs": [
    {
     "name": "stdout",
     "output_type": "stream",
     "text": [
      "\n"
     ]
    }
   ],
   "source": [
    "print(myName[-1:-4])"
   ]
  },
  {
   "cell_type": "code",
   "execution_count": 130,
   "id": "2921567b",
   "metadata": {},
   "outputs": [],
   "source": [
    "def reverseText(s='ekteb kech haja w hna na9albouha yaw kima rak ta9ra'):\n",
    "    x = \"\"\n",
    "    for i in range(-1,-(len(s)+1),-1):\n",
    "        x=x + s[i]\n",
    "    print(x)\n",
    "    "
   ]
  },
  {
   "cell_type": "code",
   "execution_count": 131,
   "id": "57285974",
   "metadata": {},
   "outputs": [
    {
     "name": "stdout",
     "output_type": "stream",
     "text": [
      "ar9at kar amik way ahuobla9an anh w ajah hcek betke\n"
     ]
    }
   ],
   "source": [
    "reverseText()"
   ]
  },
  {
   "cell_type": "code",
   "execution_count": 132,
   "id": "3cc9a86f",
   "metadata": {},
   "outputs": [],
   "source": [
    "u = \"\"\" je m'appele charif soheib abdelkader\n",
    "j'habite a zeralda\n",
    "j'ai 25 ans \n",
    "chaummeur\n",
    "\"\"\""
   ]
  },
  {
   "cell_type": "code",
   "execution_count": 133,
   "id": "6a1fadd1",
   "metadata": {},
   "outputs": [],
   "source": [
    "reversed?\n"
   ]
  },
  {
   "cell_type": "code",
   "execution_count": 134,
   "id": "1a52bb9a",
   "metadata": {},
   "outputs": [
    {
     "name": "stdout",
     "output_type": "stream",
     "text": [
      "\n",
      "ruemmuahc\n",
      " sna 52 ia'j\n",
      "adlarez a etibah'j\n",
      "redakledba biehos firahc eleppa'm ej \n"
     ]
    }
   ],
   "source": [
    "reverseText(u)"
   ]
  },
  {
   "cell_type": "code",
   "execution_count": 175,
   "id": "679e30d8",
   "metadata": {},
   "outputs": [],
   "source": [
    "ma = \" charifo sohaibo\"\n",
    "len(ma)\n",
    "def lastFiveLetters(s):\n",
    "    z= \" \"\n",
    "    x = \" 1\"\n",
    "    y = s+x\n",
    "    for i in range(-9,-1):\n",
    "        z = z+y[i]\n",
    "    \n",
    "    print(z)\n"
   ]
  },
  {
   "cell_type": "code",
   "execution_count": 176,
   "id": "dde5aec1",
   "metadata": {},
   "outputs": [
    {
     "name": "stdout",
     "output_type": "stream",
     "text": [
      " sohaibo \n"
     ]
    }
   ],
   "source": [
    "lastFiveLetters('charifo sohaibo')"
   ]
  },
  {
   "cell_type": "code",
   "execution_count": 177,
   "id": "156bb29b",
   "metadata": {},
   "outputs": [
    {
     "name": "stdout",
     "output_type": "stream",
     "text": [
      " charifo sohaibo\n"
     ]
    }
   ],
   "source": [
    "print(ma)"
   ]
  },
  {
   "cell_type": "code",
   "execution_count": 180,
   "id": "cc69533a",
   "metadata": {},
   "outputs": [
    {
     "name": "stdout",
     "output_type": "stream",
     "text": [
      "shio\n"
     ]
    }
   ],
   "source": [
    "print(ma[-7::2])"
   ]
  },
  {
   "cell_type": "code",
   "execution_count": 181,
   "id": "0a2cbbd5",
   "metadata": {},
   "outputs": [
    {
     "data": {
      "text/plain": [
       "2"
      ]
     },
     "execution_count": 181,
     "metadata": {},
     "output_type": "execute_result"
    }
   ],
   "source": [
    "len(ma[3:5])"
   ]
  },
  {
   "cell_type": "markdown",
   "id": "3c0d3318",
   "metadata": {},
   "source": [
    "## Chaine de caractere \n"
   ]
  },
  {
   "cell_type": "markdown",
   "id": "3f7d1040",
   "metadata": {},
   "source": [
    "Aya"
   ]
  },
  {
   "cell_type": "code",
   "execution_count": 182,
   "id": "a3d1adcc",
   "metadata": {},
   "outputs": [
    {
     "name": "stdout",
     "output_type": "stream",
     "text": [
      "    charif Soheib ABDELKADER    \n"
     ]
    }
   ],
   "source": [
    "a = '    charif Soheib ABDELKADER    '\n",
    "\n",
    "print(a)"
   ]
  },
  {
   "cell_type": "code",
   "execution_count": 183,
   "id": "23461d8f",
   "metadata": {},
   "outputs": [],
   "source": [
    "b = a.strip()"
   ]
  },
  {
   "cell_type": "code",
   "execution_count": 184,
   "id": "39d2d116",
   "metadata": {},
   "outputs": [
    {
     "name": "stdout",
     "output_type": "stream",
     "text": [
      "charif Soheib ABDELKADER\n"
     ]
    }
   ],
   "source": [
    "print(b)"
   ]
  },
  {
   "cell_type": "code",
   "execution_count": 185,
   "id": "d258e26d",
   "metadata": {},
   "outputs": [],
   "source": [
    "c= b.lower()"
   ]
  },
  {
   "cell_type": "code",
   "execution_count": 186,
   "id": "e8cc1179",
   "metadata": {},
   "outputs": [
    {
     "name": "stdout",
     "output_type": "stream",
     "text": [
      "charif soheib abdelkader\n"
     ]
    }
   ],
   "source": [
    "print(c)"
   ]
  },
  {
   "cell_type": "code",
   "execution_count": 187,
   "id": "5fc74d60",
   "metadata": {},
   "outputs": [],
   "source": [
    "o = '      myNameis Soheib abdelkader   '"
   ]
  },
  {
   "cell_type": "code",
   "execution_count": 188,
   "id": "d4f940e4",
   "metadata": {},
   "outputs": [
    {
     "name": "stdout",
     "output_type": "stream",
     "text": [
      "      myNameis Soheib abdelkader   \n"
     ]
    }
   ],
   "source": [
    "print(o)"
   ]
  },
  {
   "cell_type": "code",
   "execution_count": 193,
   "id": "f7b20123",
   "metadata": {},
   "outputs": [],
   "source": [
    "p = o.strip().lower().replace(\"mynameis\",\"Assmi\")"
   ]
  },
  {
   "cell_type": "code",
   "execution_count": 194,
   "id": "619dfcb0",
   "metadata": {},
   "outputs": [
    {
     "name": "stdout",
     "output_type": "stream",
     "text": [
      "Assmi soheib abdelkader\n"
     ]
    }
   ],
   "source": [
    "print(p)"
   ]
  },
  {
   "cell_type": "code",
   "execution_count": 195,
   "id": "c50f7409",
   "metadata": {},
   "outputs": [],
   "source": [
    "L = [8,8,7]"
   ]
  },
  {
   "cell_type": "code",
   "execution_count": 199,
   "id": "a83b92b4",
   "metadata": {},
   "outputs": [
    {
     "name": "stdout",
     "output_type": "stream",
     "text": [
      "[7, 8, 8]\n"
     ]
    }
   ],
   "source": [
    "print(L[::-1])"
   ]
  },
  {
   "cell_type": "code",
   "execution_count": 3,
   "id": "62879cd3",
   "metadata": {},
   "outputs": [
    {
     "name": "stdout",
     "output_type": "stream",
     "text": [
      "redakledba jj biehos jj firahc\n"
     ]
    }
   ],
   "source": [
    "namooo = 'charif jj soheib jj abdelkader'\n",
    "print(namooo[::-1])"
   ]
  },
  {
   "cell_type": "code",
   "execution_count": 239,
   "id": "74faf190",
   "metadata": {},
   "outputs": [],
   "source": [
    "k = namooo.split()"
   ]
  },
  {
   "cell_type": "code",
   "execution_count": 240,
   "id": "3bdb7e52",
   "metadata": {},
   "outputs": [
    {
     "name": "stdout",
     "output_type": "stream",
     "text": [
      "['charif', 'jj', 'soheib', 'jj', 'abdelkader']\n"
     ]
    }
   ],
   "source": [
    "print(k)"
   ]
  },
  {
   "cell_type": "code",
   "execution_count": 228,
   "id": "f68c6605",
   "metadata": {},
   "outputs": [
    {
     "ename": "SyntaxError",
     "evalue": "invalid syntax (2206770986.py, line 1)",
     "output_type": "error",
     "traceback": [
      "\u001b[1;36m  Cell \u001b[1;32mIn[228], line 1\u001b[1;36m\u001b[0m\n\u001b[1;33m    a.split()?\u001b[0m\n\u001b[1;37m             ^\u001b[0m\n\u001b[1;31mSyntaxError\u001b[0m\u001b[1;31m:\u001b[0m invalid syntax\n"
     ]
    }
   ],
   "source": [
    "a.split()?\n"
   ]
  },
  {
   "cell_type": "code",
   "execution_count": 237,
   "id": "94405787",
   "metadata": {},
   "outputs": [],
   "source": [
    "a.split?"
   ]
  },
  {
   "cell_type": "code",
   "execution_count": 249,
   "id": "ee95c12a",
   "metadata": {},
   "outputs": [],
   "source": [
    "def donnenompropre(x):\n",
    "    y = x.split()\n",
    "    \n",
    "    if (len(y)==2):\n",
    "        m = y[0].lower().capitalize()+' ' + y[1].upper()\n",
    "    else : \n",
    "        m= y[0].lower().capitalize()+' ' + y[1].lower().capitalize()+' ' + y[2].upper()\n",
    "    return m"
   ]
  },
  {
   "cell_type": "code",
   "execution_count": 267,
   "id": "f13be4d2",
   "metadata": {},
   "outputs": [],
   "source": [
    "oob=donnenompropre('CHARIF SOHEIB ABDELKADER')"
   ]
  },
  {
   "cell_type": "code",
   "execution_count": 260,
   "id": "e51fa510",
   "metadata": {},
   "outputs": [],
   "source": [
    "h = ' charifc '\n",
    "p= 'c'"
   ]
  },
  {
   "cell_type": "code",
   "execution_count": 265,
   "id": "1a411e5c",
   "metadata": {},
   "outputs": [
    {
     "data": {
      "text/plain": [
       "2"
      ]
     },
     "execution_count": 265,
     "metadata": {},
     "output_type": "execute_result"
    }
   ],
   "source": [
    "h.count(p)"
   ]
  },
  {
   "cell_type": "code",
   "execution_count": 268,
   "id": "51e0cdda",
   "metadata": {},
   "outputs": [
    {
     "name": "stdout",
     "output_type": "stream",
     "text": [
      "right the that ur searchingCharif\n",
      "ur name existe\n"
     ]
    }
   ],
   "source": [
    "i = input('right the that ur searching')\n",
    "if (i in oob): \n",
    "    print('ur name existe')\n",
    "else : \n",
    "    print(\"makach li yaerfek\")"
   ]
  },
  {
   "cell_type": "code",
   "execution_count": 279,
   "id": "9fd82c71",
   "metadata": {},
   "outputs": [],
   "source": [
    "oo = 'charif charif charif charif'\n",
    "x = oo.count(\"charif\",5,20)"
   ]
  },
  {
   "cell_type": "code",
   "execution_count": 280,
   "id": "ff2b00d0",
   "metadata": {},
   "outputs": [
    {
     "name": "stdout",
     "output_type": "stream",
     "text": [
      "2\n"
     ]
    }
   ],
   "source": [
    "print(x)"
   ]
  },
  {
   "cell_type": "code",
   "execution_count": 3,
   "id": "4e672014",
   "metadata": {},
   "outputs": [],
   "source": [
    "x = \"lala\"\n",
    "u = \"lolololo\"\n",
    "if x in u :\n",
    "    print('yes')"
   ]
  },
  {
   "cell_type": "code",
   "execution_count": 4,
   "id": "fb225a56",
   "metadata": {},
   "outputs": [
    {
     "name": "stdout",
     "output_type": "stream",
     "text": [
      "hello to everyone that told me \" HELLO \" how r ya ?\n"
     ]
    }
   ],
   "source": [
    "print(\"hello to everyone that told me \\\" HELLO \\\" how r ya ?\")"
   ]
  },
  {
   "cell_type": "code",
   "execution_count": 6,
   "id": "ced86c3b",
   "metadata": {},
   "outputs": [
    {
     "name": "stdout",
     "output_type": "stream",
     "text": [
      "c:\\number\\r\n"
     ]
    }
   ],
   "source": [
    "print(r\"c:\\number\\r\")"
   ]
  },
  {
   "cell_type": "code",
   "execution_count": 41,
   "id": "a6421f32",
   "metadata": {},
   "outputs": [],
   "source": [
    "x= 5 \n",
    "L = [5,4,8,'sohaib',7]\n",
    "def calculsomme(j=[4,5]):\n",
    "    p=0\n",
    "    for i in j : \n",
    "        \n",
    "        if isinstance(i,(float,int)):\n",
    "            p= p +i\n",
    "            \n",
    "            \n",
    "        else:\n",
    "            pass\n",
    "        k = p*100\n",
    "            \n",
    "    return k\n",
    "        "
   ]
  },
  {
   "cell_type": "code",
   "execution_count": 42,
   "id": "0949f001",
   "metadata": {},
   "outputs": [
    {
     "name": "stdout",
     "output_type": "stream",
     "text": [
      "Variable      Type        Data/Info\n",
      "-----------------------------------\n",
      "L             list        n=5\n",
      "calculsomme   function    <function calculsomme at 0x000001AAC2BA7A30>\n",
      "namooo        str         charif jj soheib jj abdelkader\n",
      "o             int         2400\n",
      "x             int         5\n"
     ]
    }
   ],
   "source": [
    "%whos\n",
    "\n"
   ]
  },
  {
   "cell_type": "code",
   "execution_count": 43,
   "id": "c4e8a49b",
   "metadata": {},
   "outputs": [
    {
     "name": "stdout",
     "output_type": "stream",
     "text": [
      "900\n"
     ]
    }
   ],
   "source": [
    "o = calculsomme()\n",
    "print(o)"
   ]
  },
  {
   "cell_type": "code",
   "execution_count": 44,
   "id": "7d8555b0",
   "metadata": {},
   "outputs": [
    {
     "name": "stdout",
     "output_type": "stream",
     "text": [
      "(7, 5, 8, 10)\n"
     ]
    }
   ],
   "source": [
    "t1 = (7,5)\n",
    "t2 = (8,10)\n",
    "t3 = t1+t2\n",
    "print(t3)"
   ]
  },
  {
   "cell_type": "code",
   "execution_count": 48,
   "id": "48cb886d",
   "metadata": {},
   "outputs": [
    {
     "name": "stdout",
     "output_type": "stream",
     "text": [
      "5\n"
     ]
    }
   ],
   "source": [
    "print(t1[1])"
   ]
  },
  {
   "cell_type": "code",
   "execution_count": null,
   "id": "73d7aaab",
   "metadata": {},
   "outputs": [],
   "source": []
  },
  {
   "cell_type": "code",
   "execution_count": null,
   "id": "918e9f58",
   "metadata": {},
   "outputs": [],
   "source": []
  },
  {
   "cell_type": "code",
   "execution_count": null,
   "id": "debba8cc",
   "metadata": {},
   "outputs": [],
   "source": []
  },
  {
   "cell_type": "code",
   "execution_count": null,
   "id": "f0a71ad5",
   "metadata": {},
   "outputs": [],
   "source": []
  },
  {
   "cell_type": "code",
   "execution_count": null,
   "id": "1fdcf089",
   "metadata": {},
   "outputs": [],
   "source": []
  },
  {
   "cell_type": "code",
   "execution_count": 52,
   "id": "997c633d",
   "metadata": {},
   "outputs": [],
   "source": [
    "L.copy?\n"
   ]
  },
  {
   "cell_type": "code",
   "execution_count": 49,
   "id": "270f0a24",
   "metadata": {},
   "outputs": [
    {
     "ename": "TypeError",
     "evalue": "'tuple' object doesn't support item deletion",
     "output_type": "error",
     "traceback": [
      "\u001b[1;31m---------------------------------------------------------------------------\u001b[0m",
      "\u001b[1;31mTypeError\u001b[0m                                 Traceback (most recent call last)",
      "Cell \u001b[1;32mIn[49], line 1\u001b[0m\n\u001b[1;32m----> 1\u001b[0m \u001b[38;5;28;01mdel\u001b[39;00m t1[\u001b[38;5;241m1\u001b[39m]\n",
      "\u001b[1;31mTypeError\u001b[0m: 'tuple' object doesn't support item deletion"
     ]
    }
   ],
   "source": [
    "del t1[1]"
   ]
  },
  {
   "cell_type": "code",
   "execution_count": 53,
   "id": "2d9c1b07",
   "metadata": {},
   "outputs": [
    {
     "name": "stdout",
     "output_type": "stream",
     "text": [
      "[5, 5, 8, 9] [5, 5, 8, 9] [5, 5, 8, 9]\n"
     ]
    }
   ],
   "source": [
    "m1 = [5,5,8,9]\n",
    "m2 = m1\n",
    "m3 = m1.copy()\n",
    "print(m1,m2,m3)"
   ]
  },
  {
   "cell_type": "code",
   "execution_count": 54,
   "id": "3c1658c4",
   "metadata": {},
   "outputs": [
    {
     "name": "stdout",
     "output_type": "stream",
     "text": [
      "[5, 5, 8, 9] [5, 5, 8, 9] [5, 5, 9, 9]\n"
     ]
    }
   ],
   "source": [
    "m3[2]=9\n",
    "print(m1,m2,m3)"
   ]
  },
  {
   "cell_type": "code",
   "execution_count": 55,
   "id": "ec1b886d",
   "metadata": {},
   "outputs": [
    {
     "name": "stdout",
     "output_type": "stream",
     "text": [
      "[5, 5, 0, 9] [5, 5, 0, 9] [5, 5, 9, 9]\n"
     ]
    }
   ],
   "source": [
    "m2[2] = 0\n",
    "print(m1,m2,m3)"
   ]
  },
  {
   "cell_type": "code",
   "execution_count": 29,
   "id": "7fda5ecd",
   "metadata": {},
   "outputs": [
    {
     "ename": "TypeError",
     "evalue": "unsupported operand type(s) for +: 'set' and 'set'",
     "output_type": "error",
     "traceback": [
      "\u001b[1;31m---------------------------------------------------------------------------\u001b[0m",
      "\u001b[1;31mTypeError\u001b[0m                                 Traceback (most recent call last)",
      "Cell \u001b[1;32mIn[29], line 3\u001b[0m\n\u001b[0;32m      1\u001b[0m so\u001b[38;5;241m=\u001b[39m {\u001b[38;5;124m'\u001b[39m\u001b[38;5;124mcharif\u001b[39m\u001b[38;5;124m'\u001b[39m,\u001b[38;5;124m\"\u001b[39m\u001b[38;5;124msoheib\u001b[39m\u001b[38;5;124m\"\u001b[39m,\u001b[38;5;241m5\u001b[39m,\u001b[38;5;241m8\u001b[39m,\u001b[38;5;241m4\u001b[39m}\n\u001b[0;32m      2\u001b[0m so2 \u001b[38;5;241m=\u001b[39m so\n\u001b[1;32m----> 3\u001b[0m so3 \u001b[38;5;241m=\u001b[39m \u001b[43mso\u001b[49m\u001b[38;5;241;43m+\u001b[39;49m\u001b[43mso2\u001b[49m\n",
      "\u001b[1;31mTypeError\u001b[0m: unsupported operand type(s) for +: 'set' and 'set'"
     ]
    }
   ],
   "source": [
    "so= {'charif',\"soheib\",5,8,4}\n",
    "so2 = so\n",
    "so3 = so+so2"
   ]
  },
  {
   "cell_type": "code",
   "execution_count": 27,
   "id": "39cba3c2",
   "metadata": {},
   "outputs": [
    {
     "name": "stdout",
     "output_type": "stream",
     "text": [
      "Variable   Type    Data/Info\n",
      "----------------------------\n",
      "dictio     dict    n=6\n",
      "dictio2    dict    n=6\n"
     ]
    }
   ],
   "source": [
    "%whos"
   ]
  },
  {
   "cell_type": "code",
   "execution_count": 65,
   "id": "ac01cfc8",
   "metadata": {},
   "outputs": [
    {
     "name": "stdout",
     "output_type": "stream",
     "text": [
      "True\n"
     ]
    }
   ],
   "source": [
    "print(\"charif\" in so)"
   ]
  },
  {
   "cell_type": "code",
   "execution_count": 87,
   "id": "29fb2e49",
   "metadata": {},
   "outputs": [
    {
     "name": "stdout",
     "output_type": "stream",
     "text": [
      "{'i', 'charifaaa', 'soheib', 5, 4, 'f', 8, 's', 'o', 'a', 'h', 'r', 'y', 'charifo', 'n', 'c', 'charif'}\n"
     ]
    }
   ],
   "source": [
    "print(so)"
   ]
  },
  {
   "cell_type": "code",
   "execution_count": 67,
   "id": "1ad6e7f1",
   "metadata": {},
   "outputs": [],
   "source": [
    "so.add(\"charifo\")"
   ]
  },
  {
   "cell_type": "code",
   "execution_count": 86,
   "id": "10810a27",
   "metadata": {},
   "outputs": [],
   "source": [
    "so.remove(\"yanis\")\n"
   ]
  },
  {
   "cell_type": "code",
   "execution_count": 83,
   "id": "991a75f6",
   "metadata": {},
   "outputs": [],
   "source": [
    "so.remove?"
   ]
  },
  {
   "cell_type": "code",
   "execution_count": 54,
   "id": "d8f62427",
   "metadata": {},
   "outputs": [
    {
     "name": "stdout",
     "output_type": "stream",
     "text": [
      "{'charif': 'sohaib', 'allel': 'fares', 'Agesoheib': 25}\n"
     ]
    }
   ],
   "source": [
    "dictio = {\"charif\":\"sohaib\",\"allel\":\"fares\", \"Agesoheib\":25}\n",
    "print(dictio)"
   ]
  },
  {
   "cell_type": "code",
   "execution_count": 11,
   "id": "fa32fea1",
   "metadata": {},
   "outputs": [],
   "source": [
    "dictio[\"ageFares\"] = 30"
   ]
  },
  {
   "cell_type": "code",
   "execution_count": 8,
   "id": "da86c73f",
   "metadata": {},
   "outputs": [
    {
     "name": "stdout",
     "output_type": "stream",
     "text": [
      "{'charif': 'sohaib abdelkader', 'allel': 'fares', 'Agesoheib': 25}\n"
     ]
    }
   ],
   "source": [
    "print(dictio)"
   ]
  },
  {
   "cell_type": "code",
   "execution_count": 7,
   "id": "ba12ff21",
   "metadata": {},
   "outputs": [],
   "source": [
    "dictio[\"charif\"] = \"sohaib abdelkader\""
   ]
  },
  {
   "cell_type": "code",
   "execution_count": 9,
   "id": "2821a25e",
   "metadata": {},
   "outputs": [],
   "source": [
    "dictio[\"amira\"] = \"kbira\""
   ]
  },
  {
   "cell_type": "code",
   "execution_count": 12,
   "id": "926465d6",
   "metadata": {},
   "outputs": [
    {
     "name": "stdout",
     "output_type": "stream",
     "text": [
      "{'charif': 'sohaib abdelkader', 'allel': 'fares', 'Agesoheib': 25, 'amira': 'kbira', 'ageFares': 30}\n"
     ]
    }
   ],
   "source": [
    "print(dictio)"
   ]
  },
  {
   "cell_type": "code",
   "execution_count": 13,
   "id": "44f6ea6c",
   "metadata": {},
   "outputs": [],
   "source": [
    "dictio2 = dictio"
   ]
  },
  {
   "cell_type": "code",
   "execution_count": 14,
   "id": "9873da86",
   "metadata": {},
   "outputs": [
    {
     "name": "stdout",
     "output_type": "stream",
     "text": [
      "{'charif': 'sohaib abdelkader', 'allel': 'fares', 'Agesoheib': 25, 'amira': 'kbira', 'ageFares': 30} {'charif': 'sohaib abdelkader', 'allel': 'fares', 'Agesoheib': 25, 'amira': 'kbira', 'ageFares': 30}\n"
     ]
    }
   ],
   "source": [
    "print(dictio,dictio2)"
   ]
  },
  {
   "cell_type": "code",
   "execution_count": 15,
   "id": "1332bb06",
   "metadata": {},
   "outputs": [],
   "source": [
    "dictio2[\"AgeAmira\"] = 34"
   ]
  },
  {
   "cell_type": "code",
   "execution_count": 22,
   "id": "020e1a5f",
   "metadata": {},
   "outputs": [
    {
     "ename": "TypeError",
     "evalue": "unsupported operand type(s) for +: 'dict' and 'dict'",
     "output_type": "error",
     "traceback": [
      "\u001b[1;31m---------------------------------------------------------------------------\u001b[0m",
      "\u001b[1;31mTypeError\u001b[0m                                 Traceback (most recent call last)",
      "Cell \u001b[1;32mIn[22], line 1\u001b[0m\n\u001b[1;32m----> 1\u001b[0m diction4\u001b[38;5;241m=\u001b[39m\u001b[43mdictio\u001b[49m\u001b[38;5;241;43m+\u001b[39;49m\u001b[43mdictio2\u001b[49m\n",
      "\u001b[1;31mTypeError\u001b[0m: unsupported operand type(s) for +: 'dict' and 'dict'"
     ]
    }
   ],
   "source": [
    "diction4=dictio+dictio2"
   ]
  },
  {
   "cell_type": "code",
   "execution_count": 20,
   "id": "7829728b",
   "metadata": {},
   "outputs": [],
   "source": [
    "type?"
   ]
  },
  {
   "cell_type": "code",
   "execution_count": 21,
   "id": "9fdee64d",
   "metadata": {},
   "outputs": [
    {
     "data": {
      "text/plain": [
       "dict"
      ]
     },
     "execution_count": 21,
     "metadata": {},
     "output_type": "execute_result"
    }
   ],
   "source": [
    "type(dictio)"
   ]
  },
  {
   "cell_type": "code",
   "execution_count": 23,
   "id": "b6284f17",
   "metadata": {},
   "outputs": [
    {
     "name": "stdout",
     "output_type": "stream",
     "text": [
      "Variable   Type    Data/Info\n",
      "----------------------------\n",
      "dictio     dict    n=6\n",
      "dictio2    dict    n=6\n"
     ]
    }
   ],
   "source": [
    "%whos"
   ]
  },
  {
   "cell_type": "code",
   "execution_count": 32,
   "id": "28e0638d",
   "metadata": {},
   "outputs": [
    {
     "name": "stdout",
     "output_type": "stream",
     "text": [
      "[7, 8, 9, 7]\n"
     ]
    }
   ],
   "source": [
    "Lj=[7,8,9,7]\n",
    "print(Lj)"
   ]
  },
  {
   "cell_type": "code",
   "execution_count": 33,
   "id": "2e554b5e",
   "metadata": {},
   "outputs": [
    {
     "ename": "TypeError",
     "evalue": "list indices must be integers or slices, not tuple",
     "output_type": "error",
     "traceback": [
      "\u001b[1;31m---------------------------------------------------------------------------\u001b[0m",
      "\u001b[1;31mTypeError\u001b[0m                                 Traceback (most recent call last)",
      "Cell \u001b[1;32mIn[33], line 1\u001b[0m\n\u001b[1;32m----> 1\u001b[0m \u001b[38;5;28;01mdel\u001b[39;00m Lj[\u001b[38;5;241m0\u001b[39m,\u001b[38;5;241m1\u001b[39m]\n\u001b[0;32m      2\u001b[0m \u001b[38;5;28mprint\u001b[39m(Lj)\n",
      "\u001b[1;31mTypeError\u001b[0m: list indices must be integers or slices, not tuple"
     ]
    }
   ],
   "source": [
    "del Lj[0,1]\n",
    "print(Lj)"
   ]
  },
  {
   "cell_type": "code",
   "execution_count": 62,
   "id": "fe930e5d",
   "metadata": {},
   "outputs": [
    {
     "name": "stdout",
     "output_type": "stream",
     "text": [
      "[5, 4, 8]\n",
      "[4, 8]\n"
     ]
    }
   ],
   "source": [
    "Listp = [5,4,8]\n",
    "print(Listp)\n",
    "del Listp[0]\n",
    "print(Listp)"
   ]
  },
  {
   "cell_type": "code",
   "execution_count": 53,
   "id": "f191a838",
   "metadata": {},
   "outputs": [
    {
     "name": "stdout",
     "output_type": "stream",
     "text": [
      "[3, 5, 6]\n",
      "[5, 4, 7, 8]\n",
      "[5, 4, 7, 8]\n"
     ]
    }
   ],
   "source": [
    "LL= [5,4,7,'charif', 8,'charif','charif'] \n",
    "ind=0\n",
    "count=0\n",
    "Lo=[]\n",
    "Lpp=[]\n",
    "for y in LL:\n",
    "    if y!=\"charif\":\n",
    "        Lpp.append(y)\n",
    "        \n",
    "        count = count+1\n",
    "    else:\n",
    "        ind = count\n",
    "        Lo.append(ind)\n",
    "        count = count+1\n",
    "print(Lo)\n",
    "print(Lpp)\n",
    "\n",
    "\n",
    "LL = Lpp.copy()\n",
    "\n",
    "print(LL)\n",
    "     \n",
    "\n"
   ]
  },
  {
   "cell_type": "code",
   "execution_count": 33,
   "id": "0800a305",
   "metadata": {},
   "outputs": [
    {
     "name": "stdout",
     "output_type": "stream",
     "text": [
      "3\n"
     ]
    }
   ],
   "source": [
    "print(len(Lo))"
   ]
  },
  {
   "cell_type": "code",
   "execution_count": null,
   "id": "9e411a41",
   "metadata": {},
   "outputs": [],
   "source": [
    "print(LL\n",
    "     )"
   ]
  },
  {
   "cell_type": "code",
   "execution_count": 2,
   "id": "a9356eb3",
   "metadata": {},
   "outputs": [
    {
     "name": "stdout",
     "output_type": "stream",
     "text": [
      "Variable   Type    Data/Info\n",
      "----------------------------\n",
      "L          int     1\n"
     ]
    }
   ],
   "source": [
    "L=1\n",
    "%whos"
   ]
  },
  {
   "cell_type": "code",
   "execution_count": 55,
   "id": "b712d1a4",
   "metadata": {},
   "outputs": [
    {
     "name": "stdout",
     "output_type": "stream",
     "text": [
      "Variable   Type    Data/Info\n",
      "----------------------------\n",
      "L          int     1\n",
      "LL         list    n=4\n",
      "LLL        list    n=5\n",
      "Lo         list    n=3\n",
      "Lpp        list    n=4\n",
      "count      int     7\n",
      "dictio     dict    n=3\n",
      "i          int     6\n",
      "ind        int     6\n",
      "p          int     6\n",
      "y          str     charif\n",
      "z          int     0\n"
     ]
    }
   ],
   "source": [
    "%whos"
   ]
  },
  {
   "cell_type": "code",
   "execution_count": 57,
   "id": "3a4941a3",
   "metadata": {},
   "outputs": [],
   "source": [
    "dictio2 = {\"messaoudi\" : \"aicha\",\"sahouli\":\"tahar\"}"
   ]
  },
  {
   "cell_type": "code",
   "execution_count": 59,
   "id": "defd7b55",
   "metadata": {},
   "outputs": [
    {
     "name": "stdout",
     "output_type": "stream",
     "text": [
      "{'charif': 'sohaib', 'allel': 'fares', 'Agesoheib': 25} {'messaoudi': 'aicha', 'sahouli': 'tahar'}\n"
     ]
    }
   ],
   "source": [
    "print(dictio,dictio2)"
   ]
  },
  {
   "cell_type": "code",
   "execution_count": 60,
   "id": "d1e0c33f",
   "metadata": {},
   "outputs": [],
   "source": [
    "dictio.update(dictio2)"
   ]
  },
  {
   "cell_type": "code",
   "execution_count": 61,
   "id": "3f8b42bf",
   "metadata": {},
   "outputs": [
    {
     "data": {
      "text/plain": [
       "{'charif': 'sohaib',\n",
       " 'allel': 'fares',\n",
       " 'Agesoheib': 25,\n",
       " 'messaoudi': 'aicha',\n",
       " 'sahouli': 'tahar'}"
      ]
     },
     "execution_count": 61,
     "metadata": {},
     "output_type": "execute_result"
    }
   ],
   "source": [
    "dictio"
   ]
  },
  {
   "cell_type": "code",
   "execution_count": 65,
   "id": "1b1aff79",
   "metadata": {},
   "outputs": [],
   "source": [
    "dictio[\"charif\"]=\"aek\""
   ]
  },
  {
   "cell_type": "code",
   "execution_count": 66,
   "id": "f86d8ec4",
   "metadata": {},
   "outputs": [
    {
     "data": {
      "text/plain": [
       "{'charif': 'aek',\n",
       " 'allel': 'fares',\n",
       " 'Agesoheib': 25,\n",
       " 'messaoudi': 'aicha',\n",
       " 'sahouli': 'tahar'}"
      ]
     },
     "execution_count": 66,
     "metadata": {},
     "output_type": "execute_result"
    }
   ],
   "source": [
    "dictio"
   ]
  },
  {
   "cell_type": "code",
   "execution_count": 67,
   "id": "1788dc8f",
   "metadata": {},
   "outputs": [],
   "source": [
    "dictio[\"charifo\"]=\"aek\""
   ]
  },
  {
   "cell_type": "code",
   "execution_count": 68,
   "id": "59f3f183",
   "metadata": {},
   "outputs": [
    {
     "data": {
      "text/plain": [
       "{'charif': 'aek',\n",
       " 'allel': 'fares',\n",
       " 'Agesoheib': 25,\n",
       " 'messaoudi': 'aicha',\n",
       " 'sahouli': 'tahar',\n",
       " 'charifo': 'aek'}"
      ]
     },
     "execution_count": 68,
     "metadata": {},
     "output_type": "execute_result"
    }
   ],
   "source": [
    "dictio"
   ]
  },
  {
   "cell_type": "code",
   "execution_count": 70,
   "id": "c4d612eb",
   "metadata": {},
   "outputs": [
    {
     "name": "stdout",
     "output_type": "stream",
     "text": [
      "[8, 'CHARIF', 9, 9, 8, 7, 2]\n"
     ]
    }
   ],
   "source": [
    "LO = [8,'CHARIF',9,9,8,7,2]\n",
    "print(LO)"
   ]
  },
  {
   "cell_type": "code",
   "execution_count": 71,
   "id": "539795df",
   "metadata": {},
   "outputs": [],
   "source": [
    "LO.remove(\"CHARIF\")"
   ]
  },
  {
   "cell_type": "code",
   "execution_count": 72,
   "id": "36ad42d6",
   "metadata": {},
   "outputs": [
    {
     "name": "stdout",
     "output_type": "stream",
     "text": [
      "[8, 9, 9, 8, 7, 2]\n"
     ]
    }
   ],
   "source": [
    "print(LO)"
   ]
  },
  {
   "cell_type": "code",
   "execution_count": 73,
   "id": "50fa98db",
   "metadata": {},
   "outputs": [
    {
     "name": "stdout",
     "output_type": "stream",
     "text": [
      "Variable   Type    Data/Info\n",
      "----------------------------\n",
      "L          int     1\n",
      "LL         list    n=4\n",
      "LLL        list    n=5\n",
      "LO         list    n=6\n",
      "Lo         list    n=3\n",
      "Lpp        list    n=4\n",
      "count      int     7\n",
      "dictio     dict    n=6\n",
      "dictio2    dict    n=2\n",
      "i          int     6\n",
      "ind        int     6\n",
      "p          int     6\n",
      "y          str     charif\n",
      "z          int     0\n"
     ]
    }
   ],
   "source": [
    "%whos"
   ]
  },
  {
   "cell_type": "code",
   "execution_count": 75,
   "id": "7b79bd8c",
   "metadata": {},
   "outputs": [
    {
     "name": "stdout",
     "output_type": "stream",
     "text": [
      "Help on built-in function append:\n",
      "\n",
      "append(object, /) method of builtins.list instance\n",
      "    Append object to the end of the list.\n",
      "\n"
     ]
    }
   ],
   "source": [
    "help(LO.append)"
   ]
  },
  {
   "cell_type": "code",
   "execution_count": 79,
   "id": "87bb520e",
   "metadata": {
    "scrolled": true
   },
   "outputs": [
    {
     "name": "stdout",
     "output_type": "stream",
     "text": [
      "[8, 9, 9, 8, 7, 2, [5, 7]]\n"
     ]
    }
   ],
   "source": [
    "print(LO)"
   ]
  },
  {
   "cell_type": "code",
   "execution_count": 80,
   "id": "a700a3ad",
   "metadata": {},
   "outputs": [
    {
     "ename": "TypeError",
     "evalue": "list.append() takes exactly one argument (2 given)",
     "output_type": "error",
     "traceback": [
      "\u001b[1;31m---------------------------------------------------------------------------\u001b[0m",
      "\u001b[1;31mTypeError\u001b[0m                                 Traceback (most recent call last)",
      "Cell \u001b[1;32mIn[80], line 1\u001b[0m\n\u001b[1;32m----> 1\u001b[0m \u001b[43mLO\u001b[49m\u001b[38;5;241;43m.\u001b[39;49m\u001b[43mappend\u001b[49m\u001b[43m(\u001b[49m\u001b[38;5;241;43m5\u001b[39;49m\u001b[43m,\u001b[49m\u001b[38;5;241;43m7\u001b[39;49m\u001b[43m)\u001b[49m\n",
      "\u001b[1;31mTypeError\u001b[0m: list.append() takes exactly one argument (2 given)"
     ]
    }
   ],
   "source": [
    "LO.append(5,7)"
   ]
  },
  {
   "cell_type": "code",
   "execution_count": 82,
   "id": "fe232c64",
   "metadata": {},
   "outputs": [
    {
     "name": "stdout",
     "output_type": "stream",
     "text": [
      "charif aek\n",
      "allel fares\n",
      "Agesoheib 25\n",
      "messaoudi aicha\n",
      "sahouli tahar\n",
      "charifo aek\n"
     ]
    }
   ],
   "source": [
    "for i in dictio:\n",
    "    print(i,dictio[i])"
   ]
  },
  {
   "cell_type": "code",
   "execution_count": 83,
   "id": "2ab5bc22",
   "metadata": {},
   "outputs": [],
   "source": [
    "s={\"sohaib\",88888,41,'charif'}"
   ]
  },
  {
   "cell_type": "code",
   "execution_count": 84,
   "id": "12cfd444",
   "metadata": {},
   "outputs": [
    {
     "name": "stdout",
     "output_type": "stream",
     "text": [
      "88888\n",
      "41\n",
      "charif\n",
      "sohaib\n"
     ]
    }
   ],
   "source": [
    "for x in s:\n",
    "    print(x)"
   ]
  },
  {
   "cell_type": "code",
   "execution_count": 85,
   "id": "af6bcd7b",
   "metadata": {},
   "outputs": [
    {
     "data": {
      "text/plain": [
       "{'charif': 'aek',\n",
       " 'allel': 'fares',\n",
       " 'Agesoheib': 25,\n",
       " 'messaoudi': 'aicha',\n",
       " 'sahouli': 'tahar',\n",
       " 'charifo': 'aek'}"
      ]
     },
     "execution_count": 85,
     "metadata": {},
     "output_type": "execute_result"
    }
   ],
   "source": [
    "dictio"
   ]
  },
  {
   "cell_type": "code",
   "execution_count": 86,
   "id": "00c7ba52",
   "metadata": {},
   "outputs": [
    {
     "name": "stdout",
     "output_type": "stream",
     "text": [
      "{'charif': 'aek', 'allel': 'fares', 'Agesoheib': 25, 'messaoudi': 'aicha', 'sahouli': 'tahar', 'charifo': 'aek'}\n"
     ]
    }
   ],
   "source": [
    "print(dictio)"
   ]
  },
  {
   "cell_type": "code",
   "execution_count": 93,
   "id": "836bb826",
   "metadata": {},
   "outputs": [
    {
     "name": "stdout",
     "output_type": "stream",
     "text": [
      "egaux p and x\n"
     ]
    }
   ],
   "source": [
    "p = 9\n",
    "x=9\n",
    "k=18\n",
    "print(\"x is grandé\") if x>p else print(\"x is petit\") if x<p else print(\"egaux p and x\")"
   ]
  },
  {
   "cell_type": "code",
   "execution_count": 97,
   "id": "9539119b",
   "metadata": {},
   "outputs": [
    {
     "data": {
      "text/plain": [
       "[9, 10, 11, 12, 13, 14, 15, 16, 17, 18]"
      ]
     },
     "execution_count": 97,
     "metadata": {},
     "output_type": "execute_result"
    }
   ],
   "source": [
    "[x+p for x in range(10)]\n"
   ]
  },
  {
   "cell_type": "code",
   "execution_count": 98,
   "id": "7b68e7fd",
   "metadata": {},
   "outputs": [
    {
     "name": "stdout",
     "output_type": "stream",
     "text": [
      "[5, 4, 7, 8]\n"
     ]
    }
   ],
   "source": [
    "print(LL)"
   ]
  },
  {
   "cell_type": "code",
   "execution_count": 127,
   "id": "67afb326",
   "metadata": {},
   "outputs": [
    {
     "name": "stdout",
     "output_type": "stream",
     "text": [
      "[5, 4, 7, 1, 2, 3]\n"
     ]
    }
   ],
   "source": [
    "L1= [5,4,7]\n",
    "L2= [1,2,3]\n",
    "L3 = L1 + L2\n",
    "print(L3)"
   ]
  },
  {
   "cell_type": "code",
   "execution_count": 126,
   "id": "9f5c0b60",
   "metadata": {},
   "outputs": [
    {
     "name": "stdout",
     "output_type": "stream",
     "text": [
      "{0, 10, 6}\n"
     ]
    }
   ],
   "source": [
    "L7 = {0,0,0}\n",
    "p=0\n",
    "for i in range(len(L2)):\n",
    "    p = L1[i]+L2[i]\n",
    "    L7.add(int(p))\n",
    "    \n",
    "print(L7)\n",
    "    "
   ]
  },
  {
   "cell_type": "code",
   "execution_count": 116,
   "id": "77d521ca",
   "metadata": {},
   "outputs": [
    {
     "name": "stdout",
     "output_type": "stream",
     "text": [
      "{4, 5, 7}\n"
     ]
    }
   ],
   "source": [
    "print(L5)"
   ]
  },
  {
   "cell_type": "code",
   "execution_count": 6,
   "id": "486a94bb",
   "metadata": {},
   "outputs": [],
   "source": [
    "def GetDataFromUser():\n",
    "    Dxnr={}\n",
    "    while True : \n",
    "        StudentID = input(\"put the student ID : \")\n",
    "        \n",
    "        \n",
    "\n",
    "        if StudentID in Dxnr:\n",
    "            print(\"This student ID Already Exist\")\n",
    "        else :\n",
    "            marksList = input(\"Put the marks List separated with coma (,): \")\n",
    "            \n",
    "            Dxnr[StudentID] = marksList.split(\",\")\n",
    "            moreStudent = input(\"Type no/yes to continue : \")\n",
    "        if moreStudent.lower() == \"no\":\n",
    "            return Dxnr"
   ]
  },
  {
   "cell_type": "code",
   "execution_count": 5,
   "id": "7f04930d",
   "metadata": {},
   "outputs": [
    {
     "name": "stdout",
     "output_type": "stream",
     "text": [
      "put the student ID : 1445\n",
      "Put the marks List separated with coma (,): 10,14,18,11\n",
      "Type no if u finish : yes\n",
      "put the student ID : 14478\n",
      "Put the marks List separated with coma (,): 11,09,16,11\n",
      "Type no if u finish : y\n",
      "put the student ID : 1445\n",
      "Put the marks List separated with coma (,): 11,11,11,11\n",
      "Type no if u finish : no\n",
      "This student ID Already Exist\n"
     ]
    }
   ],
   "source": [
    "StudentDataa = GetDataFromUser()"
   ]
  },
  {
   "cell_type": "code",
   "execution_count": 6,
   "id": "b2a4981f",
   "metadata": {},
   "outputs": [
    {
     "name": "stdout",
     "output_type": "stream",
     "text": [
      "{'1445': ['10', '14', '18', '11'], '14478': ['11', '09', '16', '11']}\n"
     ]
    }
   ],
   "source": [
    "print(StudentDataa)"
   ]
  },
  {
   "cell_type": "code",
   "execution_count": 7,
   "id": "081d2965",
   "metadata": {},
   "outputs": [
    {
     "name": "stdout",
     "output_type": "stream",
     "text": [
      "{'charif': 'sohaib'}\n"
     ]
    }
   ],
   "source": [
    "d = {\"charif\" : \"sohaib\"}\n",
    "print(d)"
   ]
  },
  {
   "cell_type": "code",
   "execution_count": 8,
   "id": "495cd1f8",
   "metadata": {},
   "outputs": [],
   "source": [
    "d[\"charif\"]= \"fares\""
   ]
  },
  {
   "cell_type": "code",
   "execution_count": 9,
   "id": "924b3792",
   "metadata": {},
   "outputs": [
    {
     "name": "stdout",
     "output_type": "stream",
     "text": [
      "{'charif': 'fares'}\n"
     ]
    }
   ],
   "source": [
    "print(d)"
   ]
  },
  {
   "cell_type": "code",
   "execution_count": 3,
   "id": "5b3554de",
   "metadata": {},
   "outputs": [
    {
     "data": {
      "text/plain": [
       "{'54441': 5.75}"
      ]
     },
     "execution_count": 3,
     "metadata": {},
     "output_type": "execute_result"
    }
   ],
   "source": [
    "def averageStudent(D={\"54441\":[4,4,7,8]}):\n",
    "    DxnrAv={}\n",
    "    for i in D:\n",
    "        x=0\n",
    "        for j in D[i]:\n",
    "            x = x + int(j)\n",
    "        DxnrAv[i]= x/len(D[i])\n",
    "    return DxnrAv\n",
    "\n",
    "averageStudent()\n",
    "            "
   ]
  },
  {
   "cell_type": "code",
   "execution_count": 7,
   "id": "dfe248f1",
   "metadata": {},
   "outputs": [
    {
     "name": "stdout",
     "output_type": "stream",
     "text": [
      "put the student ID : 14\n",
      "Put the marks List separated with coma (,): 5,4,9\n",
      "Type no/yes to continue : y\n",
      "put the student ID : 14\n",
      "This student ID Already Exist\n",
      "put the student ID : 14\n",
      "This student ID Already Exist\n",
      "put the student ID : 15\n",
      "Put the marks List separated with coma (,): 17,12,11\n",
      "Type no/yes to continue : no\n"
     ]
    }
   ],
   "source": [
    "Listo = GetDataFromUser()"
   ]
  },
  {
   "cell_type": "code",
   "execution_count": 9,
   "id": "dfff2786",
   "metadata": {},
   "outputs": [
    {
     "name": "stdout",
     "output_type": "stream",
     "text": [
      "{'14': ['5', '4', '9'], '15': ['17', '12', '11']} {'14': 6.0, '15': 13.333333333333334}\n"
     ]
    }
   ],
   "source": [
    "print(Listo,averageStudent(Listo))"
   ]
  },
  {
   "cell_type": "code",
   "execution_count": 12,
   "id": "7c3f02d1",
   "metadata": {},
   "outputs": [
    {
     "name": "stdout",
     "output_type": "stream",
     "text": [
      "{'14': 6.0, '15': 13.333333333333334}\n"
     ]
    }
   ],
   "source": [
    "you = averageStudent(Listo)\n",
    "print(you)"
   ]
  },
  {
   "cell_type": "code",
   "execution_count": 11,
   "id": "76542602",
   "metadata": {},
   "outputs": [
    {
     "name": "stdout",
     "output_type": "stream",
     "text": [
      "The student :  14 got the average :  6.0\n",
      "The student :  15 got the average :  13.333333333333334\n"
     ]
    }
   ],
   "source": [
    "for i in you:\n",
    "    print(\"The student : \", i , \"got the average : \",you[i])"
   ]
  },
  {
   "cell_type": "code",
   "execution_count": 2,
   "id": "ab37cc3e",
   "metadata": {},
   "outputs": [],
   "source": [
    "import numpy as np"
   ]
  },
  {
   "cell_type": "code",
   "execution_count": 40,
   "id": "cbbf5b6e",
   "metadata": {},
   "outputs": [],
   "source": [
    "a = np.array([4,7,9])"
   ]
  },
  {
   "cell_type": "code",
   "execution_count": 33,
   "id": "600fa4aa",
   "metadata": {},
   "outputs": [],
   "source": [
    "np.array?"
   ]
  },
  {
   "cell_type": "code",
   "execution_count": 34,
   "id": "6d0bc544",
   "metadata": {},
   "outputs": [
    {
     "ename": "NameError",
     "evalue": "name 'dtype' is not defined",
     "output_type": "error",
     "traceback": [
      "\u001b[1;31m---------------------------------------------------------------------------\u001b[0m",
      "\u001b[1;31mNameError\u001b[0m                                 Traceback (most recent call last)",
      "Cell \u001b[1;32mIn[34], line 1\u001b[0m\n\u001b[1;32m----> 1\u001b[0m \u001b[43mdtype\u001b[49m(a)\n",
      "\u001b[1;31mNameError\u001b[0m: name 'dtype' is not defined"
     ]
    }
   ],
   "source": [
    "dtype(a)"
   ]
  },
  {
   "cell_type": "code",
   "execution_count": 43,
   "id": "646e0187",
   "metadata": {},
   "outputs": [
    {
     "data": {
      "text/plain": [
       "dtype('int32')"
      ]
     },
     "execution_count": 43,
     "metadata": {},
     "output_type": "execute_result"
    }
   ],
   "source": [
    "a.dtype"
   ]
  },
  {
   "cell_type": "code",
   "execution_count": 4,
   "id": "eea1b6cb",
   "metadata": {},
   "outputs": [
    {
     "ename": "NameError",
     "evalue": "name 'a' is not defined",
     "output_type": "error",
     "traceback": [
      "\u001b[1;31m---------------------------------------------------------------------------\u001b[0m",
      "\u001b[1;31mNameError\u001b[0m                                 Traceback (most recent call last)",
      "Cell \u001b[1;32mIn[4], line 1\u001b[0m\n\u001b[1;32m----> 1\u001b[0m \u001b[43ma\u001b[49m\u001b[38;5;241m.\u001b[39mndim\n",
      "\u001b[1;31mNameError\u001b[0m: name 'a' is not defined"
     ]
    }
   ],
   "source": [
    "a.ndim"
   ]
  },
  {
   "cell_type": "code",
   "execution_count": 47,
   "id": "5d0dd014",
   "metadata": {},
   "outputs": [
    {
     "data": {
      "text/plain": [
       "4"
      ]
     },
     "execution_count": 47,
     "metadata": {},
     "output_type": "execute_result"
    }
   ],
   "source": [
    "a[0]"
   ]
  },
  {
   "cell_type": "code",
   "execution_count": null,
   "id": "98cfed13",
   "metadata": {},
   "outputs": [],
   "source": []
  },
  {
   "cell_type": "code",
   "execution_count": 48,
   "id": "d90a6180",
   "metadata": {},
   "outputs": [
    {
     "data": {
      "text/plain": [
       "8"
      ]
     },
     "execution_count": 48,
     "metadata": {},
     "output_type": "execute_result"
    }
   ],
   "source": [
    "k = (8,7)\n",
    "k[0]"
   ]
  },
  {
   "cell_type": "code",
   "execution_count": 90,
   "id": "37764345",
   "metadata": {},
   "outputs": [
    {
     "data": {
      "text/plain": [
       "3"
      ]
     },
     "execution_count": 90,
     "metadata": {},
     "output_type": "execute_result"
    }
   ],
   "source": [
    "b= np.array([[[1,2,3],[5,4,8]],[[88,29,38],[25,44,78]],[[88,29,38],[25,44,78]],[[88,29,38],[25,44,78]]])\n",
    "b.ndim\n"
   ]
  },
  {
   "cell_type": "code",
   "execution_count": 91,
   "id": "62b3d70c",
   "metadata": {},
   "outputs": [
    {
     "data": {
      "text/plain": [
       "24"
      ]
     },
     "execution_count": 91,
     "metadata": {},
     "output_type": "execute_result"
    }
   ],
   "source": [
    "b.size"
   ]
  },
  {
   "cell_type": "code",
   "execution_count": 63,
   "id": "16213ca2",
   "metadata": {},
   "outputs": [
    {
     "data": {
      "text/plain": [
       "(4, 2, 3)"
      ]
     },
     "execution_count": 63,
     "metadata": {},
     "output_type": "execute_result"
    }
   ],
   "source": [
    "b.shape"
   ]
  },
  {
   "cell_type": "code",
   "execution_count": 92,
   "id": "cb76088b",
   "metadata": {},
   "outputs": [
    {
     "data": {
      "text/plain": [
       "4"
      ]
     },
     "execution_count": 92,
     "metadata": {},
     "output_type": "execute_result"
    }
   ],
   "source": [
    "b.shape[0]"
   ]
  },
  {
   "cell_type": "code",
   "execution_count": 93,
   "id": "57377359",
   "metadata": {},
   "outputs": [
    {
     "data": {
      "text/plain": [
       "array([[ 1,  2,  3],\n",
       "       [ 5,  4,  8],\n",
       "       [88, 29, 38],\n",
       "       [25, 44, 78],\n",
       "       [88, 29, 38],\n",
       "       [25, 44, 78],\n",
       "       [88, 29, 38],\n",
       "       [25, 44, 78]])"
      ]
     },
     "execution_count": 93,
     "metadata": {},
     "output_type": "execute_result"
    }
   ],
   "source": [
    "b.reshape(8,3)"
   ]
  },
  {
   "cell_type": "code",
   "execution_count": 28,
   "id": "2e9d8760",
   "metadata": {},
   "outputs": [
    {
     "data": {
      "text/plain": [
       "44"
      ]
     },
     "execution_count": 28,
     "metadata": {},
     "output_type": "execute_result"
    }
   ],
   "source": [
    "b[1][1][1]"
   ]
  },
  {
   "cell_type": "code",
   "execution_count": 29,
   "id": "2c6308c7",
   "metadata": {},
   "outputs": [
    {
     "ename": "NameError",
     "evalue": "name 'B' is not defined",
     "output_type": "error",
     "traceback": [
      "\u001b[1;31m---------------------------------------------------------------------------\u001b[0m",
      "\u001b[1;31mNameError\u001b[0m                                 Traceback (most recent call last)",
      "Cell \u001b[1;32mIn[29], line 1\u001b[0m\n\u001b[1;32m----> 1\u001b[0m \u001b[43mB\u001b[49m\u001b[38;5;241m.\u001b[39mSIZE\n",
      "\u001b[1;31mNameError\u001b[0m: name 'B' is not defined"
     ]
    }
   ],
   "source": [
    "B.SIZE"
   ]
  },
  {
   "cell_type": "code",
   "execution_count": 49,
   "id": "42a2d65c",
   "metadata": {},
   "outputs": [
    {
     "data": {
      "text/plain": [
       "8"
      ]
     },
     "execution_count": 49,
     "metadata": {},
     "output_type": "execute_result"
    }
   ],
   "source": [
    "b.size"
   ]
  },
  {
   "cell_type": "code",
   "execution_count": 47,
   "id": "43562f27",
   "metadata": {},
   "outputs": [
    {
     "ename": "AttributeError",
     "evalue": "'numpy.ndarray' object has no attribute 'bytes'",
     "output_type": "error",
     "traceback": [
      "\u001b[1;31m---------------------------------------------------------------------------\u001b[0m",
      "\u001b[1;31mAttributeError\u001b[0m                            Traceback (most recent call last)",
      "Cell \u001b[1;32mIn[47], line 1\u001b[0m\n\u001b[1;32m----> 1\u001b[0m \u001b[43mb\u001b[49m\u001b[38;5;241;43m.\u001b[39;49m\u001b[43mbytes\u001b[49m\n",
      "\u001b[1;31mAttributeError\u001b[0m: 'numpy.ndarray' object has no attribute 'bytes'"
     ]
    }
   ],
   "source": [
    "b.bytes"
   ]
  },
  {
   "cell_type": "code",
   "execution_count": 48,
   "id": "3d5cc74e",
   "metadata": {},
   "outputs": [
    {
     "data": {
      "text/plain": [
       "64"
      ]
     },
     "execution_count": 48,
     "metadata": {},
     "output_type": "execute_result"
    }
   ],
   "source": [
    "b.nbytes"
   ]
  },
  {
   "cell_type": "code",
   "execution_count": 60,
   "id": "e3ac85e6",
   "metadata": {},
   "outputs": [],
   "source": [
    "c = np.zeros((3,4))"
   ]
  },
  {
   "cell_type": "code",
   "execution_count": 61,
   "id": "9bda2487",
   "metadata": {},
   "outputs": [
    {
     "name": "stdout",
     "output_type": "stream",
     "text": [
      "[[list([1, 2, 3]) list([5, 4, 8])]\n",
      " [list([88, 29, 38]) list([25, 44, 78])]\n",
      " [list([88, 29, 38]) list([25, 44, 78])]\n",
      " [list([88, 29, 38]) list([25, 44, 78, 4])]]\n",
      "[[0. 0. 0. 0.]\n",
      " [0. 0. 0. 0.]\n",
      " [0. 0. 0. 0.]]\n"
     ]
    }
   ],
   "source": [
    "print(b)\n",
    "print(c)"
   ]
  },
  {
   "cell_type": "code",
   "execution_count": 317,
   "id": "78be0427",
   "metadata": {},
   "outputs": [],
   "source": [
    "xx = np.arange(101,150,5)"
   ]
  },
  {
   "cell_type": "code",
   "execution_count": 318,
   "id": "6bffaf58",
   "metadata": {},
   "outputs": [
    {
     "name": "stdout",
     "output_type": "stream",
     "text": [
      "[101 106 111 116 121 126 131 136 141 146]\n"
     ]
    }
   ],
   "source": [
    "print(xx)"
   ]
  },
  {
   "cell_type": "code",
   "execution_count": 66,
   "id": "1e1b8ed4",
   "metadata": {},
   "outputs": [],
   "source": [
    "list?"
   ]
  },
  {
   "cell_type": "code",
   "execution_count": 67,
   "id": "11390d9e",
   "metadata": {},
   "outputs": [],
   "source": [
    "o = list"
   ]
  },
  {
   "cell_type": "code",
   "execution_count": 68,
   "id": "66af1870",
   "metadata": {},
   "outputs": [
    {
     "name": "stdout",
     "output_type": "stream",
     "text": [
      "<class 'list'>\n"
     ]
    }
   ],
   "source": [
    "print(o)"
   ]
  },
  {
   "cell_type": "code",
   "execution_count": 71,
   "id": "e82fcfa0",
   "metadata": {},
   "outputs": [],
   "source": [
    "o = list(range(101))"
   ]
  },
  {
   "cell_type": "code",
   "execution_count": 72,
   "id": "197bdc62",
   "metadata": {},
   "outputs": [
    {
     "name": "stdout",
     "output_type": "stream",
     "text": [
      "[0, 1, 2, 3, 4, 5, 6, 7, 8, 9, 10, 11, 12, 13, 14, 15, 16, 17, 18, 19, 20, 21, 22, 23, 24, 25, 26, 27, 28, 29, 30, 31, 32, 33, 34, 35, 36, 37, 38, 39, 40, 41, 42, 43, 44, 45, 46, 47, 48, 49, 50, 51, 52, 53, 54, 55, 56, 57, 58, 59, 60, 61, 62, 63, 64, 65, 66, 67, 68, 69, 70, 71, 72, 73, 74, 75, 76, 77, 78, 79, 80, 81, 82, 83, 84, 85, 86, 87, 88, 89, 90, 91, 92, 93, 94, 95, 96, 97, 98, 99, 100]\n"
     ]
    }
   ],
   "source": [
    "print(o)"
   ]
  },
  {
   "cell_type": "code",
   "execution_count": 75,
   "id": "80150b87",
   "metadata": {},
   "outputs": [
    {
     "name": "stdout",
     "output_type": "stream",
     "text": [
      "[ 93  97  21  82  79  76  48  15  22  28  23  68  99  77  80  60  37  90\n",
      "  83  55  38  36  71  95  94   6  64  89  84  75  78  47  57  24  13  86\n",
      "  11  50  12  31  34   0  63   4  26  91  17  67   3  59  16  87 100  92\n",
      "   8  66  52  46  85  72  25  41  69   2  10  44  18  39  45  62  51  33\n",
      "  30  70  98  73  40   7  35  65   5  96  88  74  81  61   9  53   1  42\n",
      "  54  49  58  14  32  56  19  27  29  20  43]\n"
     ]
    }
   ],
   "source": [
    "k = np.random.permutation(np.arange(101))\n",
    "print(k)"
   ]
  },
  {
   "cell_type": "code",
   "execution_count": 40,
   "id": "8906b719",
   "metadata": {},
   "outputs": [
    {
     "data": {
      "text/plain": [
       "17"
      ]
     },
     "execution_count": 40,
     "metadata": {},
     "output_type": "execute_result"
    }
   ],
   "source": [
    "np.random.randint(53)"
   ]
  },
  {
   "cell_type": "code",
   "execution_count": 41,
   "id": "bfe74000",
   "metadata": {},
   "outputs": [
    {
     "data": {
      "text/plain": [
       "array([0.13941014, 0.82170793, 0.79267521, 0.63957428, 0.5344697 ,\n",
       "       0.61595985, 0.79231607, 0.39458232, 0.63298343, 0.58181003])"
      ]
     },
     "execution_count": 41,
     "metadata": {},
     "output_type": "execute_result"
    }
   ],
   "source": [
    "np.random.rand(10)"
   ]
  },
  {
   "cell_type": "code",
   "execution_count": 20,
   "id": "cc32888a",
   "metadata": {},
   "outputs": [],
   "source": [
    "p = np.array([5,5,5,5,5,5,5,8,4,4,4,4,])"
   ]
  },
  {
   "cell_type": "code",
   "execution_count": 25,
   "id": "c213848d",
   "metadata": {},
   "outputs": [],
   "source": [
    "l = p.reshape(2,2,3)"
   ]
  },
  {
   "cell_type": "code",
   "execution_count": 105,
   "id": "cee38df3",
   "metadata": {},
   "outputs": [
    {
     "name": "stdout",
     "output_type": "stream",
     "text": [
      "[-0.71200377  0.15679279 -1.19153163  1.73260189  0.2490438   0.47356276\n",
      "  0.28334168  0.2522128   2.21657779 -0.54019004]\n",
      "[-0.54019004  2.21657779  0.2522128   0.28334168  0.47356276  0.2490438\n",
      "  1.73260189 -1.19153163  0.15679279 -0.71200377]\n"
     ]
    }
   ],
   "source": [
    "p = np.random.randn(10)\n",
    "print(p)\n",
    "print(p[::-1])"
   ]
  },
  {
   "cell_type": "code",
   "execution_count": 83,
   "id": "343b4eb6",
   "metadata": {},
   "outputs": [
    {
     "name": "stdout",
     "output_type": "stream",
     "text": [
      "Object `randn` not found.\n"
     ]
    }
   ],
   "source": [
    "randn?"
   ]
  },
  {
   "cell_type": "code",
   "execution_count": 84,
   "id": "b4fa3731",
   "metadata": {},
   "outputs": [],
   "source": [
    "np.random.randn?"
   ]
  },
  {
   "cell_type": "code",
   "execution_count": 89,
   "id": "26f17c92",
   "metadata": {},
   "outputs": [
    {
     "name": "stdout",
     "output_type": "stream",
     "text": [
      "[1. 1. 1. 1. 1. 1. 1. 1. 1. 1.]\n"
     ]
    }
   ],
   "source": [
    "m = np.ones(10)\n",
    "print(m)"
   ]
  },
  {
   "cell_type": "code",
   "execution_count": 97,
   "id": "0905f5fb",
   "metadata": {},
   "outputs": [
    {
     "name": "stdout",
     "output_type": "stream",
     "text": [
      "[5 5 5 5 5]\n",
      "[5 5 5]\n",
      "[8 5 5]\n",
      "[8 5 5 5 5]\n"
     ]
    }
   ],
   "source": [
    "h = np.array([5,5,5,5,5])\n",
    "print(h)\n",
    "k = h[0:3]\n",
    "print(k)\n",
    "k[0] = 8\n",
    "print(k)\n",
    "print(h)"
   ]
  },
  {
   "cell_type": "code",
   "execution_count": 100,
   "id": "8e02b571",
   "metadata": {},
   "outputs": [
    {
     "ename": "IndexError",
     "evalue": "too many indices for array: array is 1-dimensional, but 2 were indexed",
     "output_type": "error",
     "traceback": [
      "\u001b[1;31m---------------------------------------------------------------------------\u001b[0m",
      "\u001b[1;31mIndexError\u001b[0m                                Traceback (most recent call last)",
      "Cell \u001b[1;32mIn[100], line 1\u001b[0m\n\u001b[1;32m----> 1\u001b[0m \u001b[43mh\u001b[49m\u001b[43m[\u001b[49m\u001b[38;5;241;43m0\u001b[39;49m\u001b[43m:\u001b[49m\u001b[38;5;241;43m3\u001b[39;49m\u001b[43m:\u001b[49m\u001b[38;5;241;43m1\u001b[39;49m\u001b[43m,\u001b[49m\u001b[38;5;241;43m1\u001b[39;49m\u001b[43m]\u001b[49m\n",
      "\u001b[1;31mIndexError\u001b[0m: too many indices for array: array is 1-dimensional, but 2 were indexed"
     ]
    }
   ],
   "source": [
    "x = np.where()"
   ]
  },
  {
   "cell_type": "code",
   "execution_count": 101,
   "id": "aced9f89",
   "metadata": {},
   "outputs": [
    {
     "ename": "AttributeError",
     "evalue": "'numpy.ndarray' object has no attribute 'reverse'",
     "output_type": "error",
     "traceback": [
      "\u001b[1;31m---------------------------------------------------------------------------\u001b[0m",
      "\u001b[1;31mAttributeError\u001b[0m                            Traceback (most recent call last)",
      "Cell \u001b[1;32mIn[101], line 1\u001b[0m\n\u001b[1;32m----> 1\u001b[0m \u001b[43mh\u001b[49m\u001b[38;5;241;43m.\u001b[39;49m\u001b[43mreverse\u001b[49m\n",
      "\u001b[1;31mAttributeError\u001b[0m: 'numpy.ndarray' object has no attribute 'reverse'"
     ]
    }
   ],
   "source": [
    "h.reverse"
   ]
  },
  {
   "cell_type": "code",
   "execution_count": 3,
   "id": "21467733",
   "metadata": {},
   "outputs": [],
   "source": [
    "import numpy as np\n",
    "np.indices?"
   ]
  },
  {
   "cell_type": "code",
   "execution_count": 20,
   "id": "2c0b095e",
   "metadata": {},
   "outputs": [],
   "source": [
    "o = np.array([6,4,8,10,11,244,1557,1557,1445])"
   ]
  },
  {
   "cell_type": "code",
   "execution_count": 21,
   "id": "733bab1e",
   "metadata": {},
   "outputs": [
    {
     "name": "stdout",
     "output_type": "stream",
     "text": [
      "(array([6, 7], dtype=int64),)\n",
      "[   6    4    8   10   11  244  100  100 1445]\n"
     ]
    }
   ],
   "source": [
    "l = np.where(o == 1557)\n",
    "print(l)\n",
    "o[l]= 100\n",
    "\n",
    "print(o)"
   ]
  },
  {
   "cell_type": "code",
   "execution_count": 109,
   "id": "1bf816a0",
   "metadata": {},
   "outputs": [],
   "source": [
    "m = (o==10)"
   ]
  },
  {
   "cell_type": "code",
   "execution_count": 110,
   "id": "be162ad2",
   "metadata": {},
   "outputs": [
    {
     "name": "stdout",
     "output_type": "stream",
     "text": [
      "[False False False  True False False False False]\n"
     ]
    }
   ],
   "source": [
    "print(m)"
   ]
  },
  {
   "cell_type": "code",
   "execution_count": 15,
   "id": "86f65014",
   "metadata": {},
   "outputs": [
    {
     "data": {
      "text/plain": [
       "array([False, False, False,  True, False, False, False, False])"
      ]
     },
     "execution_count": 15,
     "metadata": {},
     "output_type": "execute_result"
    }
   ],
   "source": [
    "o==10"
   ]
  },
  {
   "cell_type": "code",
   "execution_count": 16,
   "id": "c9aabbb6",
   "metadata": {},
   "outputs": [
    {
     "ename": "SyntaxError",
     "evalue": "invalid syntax (282166910.py, line 1)",
     "output_type": "error",
     "traceback": [
      "\u001b[1;36m  Cell \u001b[1;32mIn[16], line 1\u001b[1;36m\u001b[0m\n\u001b[1;33m    for in o:\u001b[0m\n\u001b[1;37m        ^\u001b[0m\n\u001b[1;31mSyntaxError\u001b[0m\u001b[1;31m:\u001b[0m invalid syntax\n"
     ]
    }
   ],
   "source": [
    "for in o:"
   ]
  },
  {
   "cell_type": "code",
   "execution_count": 59,
   "id": "506b5481",
   "metadata": {},
   "outputs": [],
   "source": [
    "oo = np.array([6,4,8,10,11,11,11,11,11,244,1557,1557,11,111445])"
   ]
  },
  {
   "cell_type": "code",
   "execution_count": 74,
   "id": "99a01694",
   "metadata": {},
   "outputs": [],
   "source": [
    "def FoundIndex(L,x,y):\n",
    "    index = 0\n",
    "    i=0\n",
    "    Lindex = []\n",
    "    for j in range(len(L)):\n",
    "\n",
    "        if ((L[j] == x) or L[j] == y ):\n",
    "            index = j\n",
    "            Lindex.append(index)\n",
    "\n",
    "\n",
    "        else: \n",
    "            j=j+1\n",
    "\n",
    "\n",
    "    if len(Lindex)<1: \n",
    "        return print(\"element not found\")\n",
    "    else:\n",
    "       \n",
    "            \n",
    "        return print(\"your elements is located in : \", Lindex)"
   ]
  },
  {
   "cell_type": "code",
   "execution_count": 75,
   "id": "d4e37312",
   "metadata": {},
   "outputs": [
    {
     "name": "stdout",
     "output_type": "stream",
     "text": [
      "your elements is located in :  [4, 5, 6, 7, 8, 10, 11, 12]\n"
     ]
    }
   ],
   "source": [
    "FoundIndex(oo,11,1557)"
   ]
  },
  {
   "cell_type": "code",
   "execution_count": 68,
   "id": "a9700614",
   "metadata": {},
   "outputs": [
    {
     "data": {
      "text/plain": [
       "(array([], dtype=int64),)"
      ]
     },
     "execution_count": 68,
     "metadata": {},
     "output_type": "execute_result"
    }
   ],
   "source": [
    "np.where(o == 24774)"
   ]
  },
  {
   "cell_type": "code",
   "execution_count": 136,
   "id": "6b49d6bb",
   "metadata": {},
   "outputs": [],
   "source": [
    "b= np.array([[[88,88,3],[0,4,8]],[[88,29,38],[25,44,78]],[[88,29,38],[25,44,78]],[[11,29,99],[25,44,99]]])"
   ]
  },
  {
   "cell_type": "code",
   "execution_count": 144,
   "id": "02f8dc0d",
   "metadata": {},
   "outputs": [],
   "source": [
    "v = np.argwhere(b == 99)"
   ]
  },
  {
   "cell_type": "code",
   "execution_count": 148,
   "id": "b770fc57",
   "metadata": {
    "scrolled": true
   },
   "outputs": [
    {
     "name": "stdout",
     "output_type": "stream",
     "text": [
      "3\n",
      "24\n",
      "3\n",
      "[[3 0 2]\n",
      " [3 1 2]]\n"
     ]
    }
   ],
   "source": [
    "print(b.ndim)\n",
    "print(b.size)\n",
    "print(int(v.size/2))\n",
    "print(v)\n"
   ]
  },
  {
   "cell_type": "code",
   "execution_count": 82,
   "id": "0ec328e7",
   "metadata": {},
   "outputs": [
    {
     "data": {
      "text/plain": [
       "3"
      ]
     },
     "execution_count": 82,
     "metadata": {},
     "output_type": "execute_result"
    }
   ],
   "source": [
    "b.ndim"
   ]
  },
  {
   "cell_type": "code",
   "execution_count": 149,
   "id": "e4e88bea",
   "metadata": {},
   "outputs": [
    {
     "data": {
      "text/plain": [
       "(4, 2, 3)"
      ]
     },
     "execution_count": 149,
     "metadata": {},
     "output_type": "execute_result"
    }
   ],
   "source": [
    "b.shape"
   ]
  },
  {
   "cell_type": "code",
   "execution_count": 106,
   "id": "47a053dc",
   "metadata": {},
   "outputs": [],
   "source": [
    "m = np.arange(101)"
   ]
  },
  {
   "cell_type": "code",
   "execution_count": 107,
   "id": "c98a6335",
   "metadata": {},
   "outputs": [
    {
     "name": "stdout",
     "output_type": "stream",
     "text": [
      "[  0   1   2   3   4   5   6   7   8   9  10  11  12  13  14  15  16  17\n",
      "  18  19  20  21  22  23  24  25  26  27  28  29  30  31  32  33  34  35\n",
      "  36  37  38  39  40  41  42  43  44  45  46  47  48  49  50  51  52  53\n",
      "  54  55  56  57  58  59  60  61  62  63  64  65  66  67  68  69  70  71\n",
      "  72  73  74  75  76  77  78  79  80  81  82  83  84  85  86  87  88  89\n",
      "  90  91  92  93  94  95  96  97  98  99 100]\n"
     ]
    }
   ],
   "source": [
    "print(m)"
   ]
  },
  {
   "cell_type": "code",
   "execution_count": 112,
   "id": "fac7977d",
   "metadata": {},
   "outputs": [],
   "source": [
    "m = np.random.permutation(m)"
   ]
  },
  {
   "cell_type": "code",
   "execution_count": 113,
   "id": "dc9c1652",
   "metadata": {},
   "outputs": [
    {
     "name": "stdout",
     "output_type": "stream",
     "text": [
      "[ 93  70  18  63  30  87  49  56   1  71  14  13  55  29  37  82  69  52\n",
      "  99  85   5  64  16  28  98  66  77  20  35  27  10   9  89  51  31  94\n",
      "  33  92  26 100   6  68  46  11  59  61  44   3  91   4  86  62  22  97\n",
      "  17  47   0   8  15  12  32  40  78  83  80  88  39  23   7  57  95  96\n",
      "  58  79  76  73  24  25  42  54  75   2  81  38  90  50  84  19  34  41\n",
      "  36  67  48  45  21  53  74  60  72  43  65]\n"
     ]
    }
   ],
   "source": [
    "print(m)"
   ]
  },
  {
   "cell_type": "code",
   "execution_count": 115,
   "id": "51b4b22a",
   "metadata": {},
   "outputs": [
    {
     "ename": "NameError",
     "evalue": "name 'q' is not defined",
     "output_type": "error",
     "traceback": [
      "\u001b[1;31m---------------------------------------------------------------------------\u001b[0m",
      "\u001b[1;31mNameError\u001b[0m                                 Traceback (most recent call last)",
      "Cell \u001b[1;32mIn[115], line 1\u001b[0m\n\u001b[1;32m----> 1\u001b[0m q \u001b[38;5;241m=\u001b[39m np\u001b[38;5;241m.\u001b[39marange(\u001b[38;5;241m201\u001b[39m)(np\u001b[38;5;241m.\u001b[39mrandom\u001b[38;5;241m.\u001b[39mpermutation(\u001b[43mq\u001b[49m))\n",
      "\u001b[1;31mNameError\u001b[0m: name 'q' is not defined"
     ]
    }
   ],
   "source": [
    "q = np.arange(201)(np.random.permutation(q))"
   ]
  },
  {
   "cell_type": "code",
   "execution_count": 93,
   "id": "ad9c989b",
   "metadata": {},
   "outputs": [],
   "source": [
    "wrandon = np.rint(10*(np.random.rand(4,4))).astype(int)"
   ]
  },
  {
   "cell_type": "code",
   "execution_count": 94,
   "id": "5122a5a8",
   "metadata": {},
   "outputs": [
    {
     "name": "stdout",
     "output_type": "stream",
     "text": [
      "[[8 0 2 4]\n",
      " [8 1 6 8]\n",
      " [8 7 6 7]\n",
      " [5 8 1 6]]\n"
     ]
    }
   ],
   "source": [
    "print(wrandon)"
   ]
  },
  {
   "cell_type": "code",
   "execution_count": 95,
   "id": "99f33689",
   "metadata": {},
   "outputs": [
    {
     "name": "stdout",
     "output_type": "stream",
     "text": [
      "[8 1 6 8]\n"
     ]
    }
   ],
   "source": [
    "print(wrandon[1])"
   ]
  },
  {
   "cell_type": "code",
   "execution_count": 165,
   "id": "61e07698",
   "metadata": {},
   "outputs": [
    {
     "ename": "TypeError",
     "evalue": "only size-1 arrays can be converted to Python scalars",
     "output_type": "error",
     "traceback": [
      "\u001b[1;31m---------------------------------------------------------------------------\u001b[0m",
      "\u001b[1;31mTypeError\u001b[0m                                 Traceback (most recent call last)",
      "Cell \u001b[1;32mIn[165], line 2\u001b[0m\n\u001b[0;32m      1\u001b[0m \u001b[38;5;28;01mfor\u001b[39;00m i \u001b[38;5;129;01min\u001b[39;00m wrandon:\n\u001b[1;32m----> 2\u001b[0m     \u001b[38;5;28mprint\u001b[39m(\u001b[38;5;28;43mint\u001b[39;49m\u001b[43m(\u001b[49m\u001b[43mi\u001b[49m\u001b[43m)\u001b[49m)\n",
      "\u001b[1;31mTypeError\u001b[0m: only size-1 arrays can be converted to Python scalars"
     ]
    }
   ],
   "source": []
  },
  {
   "cell_type": "code",
   "execution_count": 96,
   "id": "7e09a8a2",
   "metadata": {},
   "outputs": [
    {
     "name": "stdout",
     "output_type": "stream",
     "text": [
      "[5 8 8 8]\n",
      "[[8 8 8 5]\n",
      " [0 1 7 8]\n",
      " [2 6 6 1]\n",
      " [4 8 7 6]]\n"
     ]
    }
   ],
   "source": [
    "print(wrandon[::-1,0])\n",
    "print(wrandon.T)"
   ]
  },
  {
   "cell_type": "code",
   "execution_count": 226,
   "id": "32048624",
   "metadata": {},
   "outputs": [
    {
     "data": {
      "text/plain": [
       "array([[1, 6, 0, 6],\n",
       "       [6, 2, 7, 4],\n",
       "       [8, 3, 4, 9],\n",
       "       [9, 6, 1, 3]])"
      ]
     },
     "execution_count": 226,
     "metadata": {},
     "output_type": "execute_result"
    }
   ],
   "source": [
    "wrandon"
   ]
  },
  {
   "cell_type": "code",
   "execution_count": 229,
   "id": "34146917",
   "metadata": {},
   "outputs": [
    {
     "data": {
      "text/plain": [
       "array([[1, 6, 8, 9],\n",
       "       [6, 2, 3, 6],\n",
       "       [0, 7, 4, 1],\n",
       "       [6, 4, 9, 3]])"
      ]
     },
     "execution_count": 229,
     "metadata": {},
     "output_type": "execute_result"
    }
   ],
   "source": [
    "wrandon.T"
   ]
  },
  {
   "cell_type": "code",
   "execution_count": 230,
   "id": "f6b47117",
   "metadata": {},
   "outputs": [
    {
     "data": {
      "text/plain": [
       "array([[ 1, 36,  0, 54],\n",
       "       [36,  4, 21, 24],\n",
       "       [ 0, 21, 16,  9],\n",
       "       [54, 24,  9,  9]])"
      ]
     },
     "execution_count": 230,
     "metadata": {},
     "output_type": "execute_result"
    }
   ],
   "source": [
    "wrandon.T*wrandon"
   ]
  },
  {
   "cell_type": "code",
   "execution_count": 232,
   "id": "10d3b6d6",
   "metadata": {},
   "outputs": [
    {
     "name": "stdout",
     "output_type": "stream",
     "text": [
      "[[ 1 36  0 54]\n",
      " [36  4 21 24]\n",
      " [ 0 21 16  9]\n",
      " [54 24  9  9]]\n"
     ]
    }
   ],
   "source": [
    "print(wrandon*wrandon.T)"
   ]
  },
  {
   "cell_type": "code",
   "execution_count": 234,
   "id": "4ee7714a",
   "metadata": {},
   "outputs": [],
   "source": [
    "  import numpy.linalg as alg"
   ]
  },
  {
   "cell_type": "code",
   "execution_count": 237,
   "id": "97ca9afb",
   "metadata": {},
   "outputs": [
    {
     "name": "stdout",
     "output_type": "stream",
     "text": [
      "[[0.31593296 0.75524899 0.97286021]\n",
      " [0.95156473 0.42222884 0.36163739]\n",
      " [0.91631875 0.70301365 0.77099641]]\n"
     ]
    }
   ],
   "source": [
    "e = np.random.rand(3,3)\n",
    "print(e)"
   ]
  },
  {
   "cell_type": "code",
   "execution_count": 244,
   "id": "9b25fdaf",
   "metadata": {},
   "outputs": [
    {
     "name": "stdout",
     "output_type": "stream",
     "text": [
      "[[ -10.36034954  -14.76872364   20.00021559]\n",
      " [  58.45283225   94.13804614 -117.91270395]\n",
      " [ -40.98560752  -68.28497785   85.04276632]]\n"
     ]
    }
   ],
   "source": [
    "k = alg.inv(e)\n",
    "print(k)"
   ]
  },
  {
   "cell_type": "code",
   "execution_count": 249,
   "id": "95bc8ee0",
   "metadata": {},
   "outputs": [],
   "source": [
    "k.sort(axis=0)"
   ]
  },
  {
   "cell_type": "code",
   "execution_count": 250,
   "id": "93caabb0",
   "metadata": {},
   "outputs": [
    {
     "name": "stdout",
     "output_type": "stream",
     "text": [
      "[[-117.91270395  -40.98560752   20.00021559]\n",
      " [ -68.28497785  -10.36034954   85.04276632]\n",
      " [ -14.76872364   58.45283225   94.13804614]]\n"
     ]
    }
   ],
   "source": [
    "print(k)"
   ]
  },
  {
   "cell_type": "code",
   "execution_count": 270,
   "id": "0f600a1b",
   "metadata": {},
   "outputs": [
    {
     "data": {
      "text/plain": [
       "2"
      ]
     },
     "execution_count": 270,
     "metadata": {},
     "output_type": "execute_result"
    }
   ],
   "source": [
    "li = np.array(np.random.randint(50,size=(3,2)))\n",
    "li.ndim"
   ]
  },
  {
   "cell_type": "code",
   "execution_count": 288,
   "id": "a84f22b3",
   "metadata": {},
   "outputs": [
    {
     "name": "stdout",
     "output_type": "stream",
     "text": [
      "[[ 4 27]\n",
      " [23 23]\n",
      " [23 35]]\n"
     ]
    }
   ],
   "source": [
    "\n",
    "li[1,1]=23\n",
    "li[2,0]=23\n",
    "print(li)"
   ]
  },
  {
   "cell_type": "code",
   "execution_count": 289,
   "id": "cfe1e9e1",
   "metadata": {},
   "outputs": [
    {
     "name": "stdout",
     "output_type": "stream",
     "text": [
      "23\n"
     ]
    }
   ],
   "source": [
    "li[li<40]\n",
    "print(li[1,1])"
   ]
  },
  {
   "cell_type": "code",
   "execution_count": 294,
   "id": "eff5d554",
   "metadata": {},
   "outputs": [
    {
     "name": "stdout",
     "output_type": "stream",
     "text": [
      "[[2 1]]\n"
     ]
    }
   ],
   "source": [
    "print()"
   ]
  },
  {
   "cell_type": "code",
   "execution_count": 311,
   "id": "3b918ab1",
   "metadata": {},
   "outputs": [],
   "source": [
    "c = np.argwhere(li==80)\n",
    "li[c] = 40"
   ]
  },
  {
   "cell_type": "code",
   "execution_count": 312,
   "id": "004f36e4",
   "metadata": {},
   "outputs": [
    {
     "name": "stdout",
     "output_type": "stream",
     "text": [
      "[[40 40]\n",
      " [40 40]\n",
      " [39 38]]\n"
     ]
    }
   ],
   "source": [
    "print(li)"
   ]
  },
  {
   "cell_type": "code",
   "execution_count": 319,
   "id": "492b200e",
   "metadata": {},
   "outputs": [
    {
     "name": "stdout",
     "output_type": "stream",
     "text": [
      "[[13 28 14 29]\n",
      " [ 9  3 16 14]\n",
      " [21 10 26 11]]\n"
     ]
    }
   ],
   "source": [
    "vv = np.random.randint(30,size=(3,4))\n",
    "print(vv)"
   ]
  },
  {
   "cell_type": "code",
   "execution_count": 322,
   "id": "291fddb2",
   "metadata": {},
   "outputs": [],
   "source": [
    "ll = vv[2,1:]"
   ]
  },
  {
   "cell_type": "code",
   "execution_count": 323,
   "id": "8cd17e68",
   "metadata": {},
   "outputs": [
    {
     "name": "stdout",
     "output_type": "stream",
     "text": [
      "[10 26 11]\n"
     ]
    }
   ],
   "source": [
    "print(ll)"
   ]
  },
  {
   "cell_type": "code",
   "execution_count": 354,
   "id": "2cbbeb9d",
   "metadata": {},
   "outputs": [],
   "source": [
    "ll2 = vv[[False,False,True],[False,True,True,True]]"
   ]
  },
  {
   "cell_type": "code",
   "execution_count": 353,
   "id": "1e15005e",
   "metadata": {},
   "outputs": [
    {
     "name": "stdout",
     "output_type": "stream",
     "text": [
      "[10 26 11]\n"
     ]
    }
   ],
   "source": [
    "print(ll2)"
   ]
  },
  {
   "cell_type": "code",
   "execution_count": 338,
   "id": "8292e455",
   "metadata": {},
   "outputs": [],
   "source": [
    "ll3 = np.array([1,5,4,8])\n",
    "ll4 = ll3[[True,False,False,True]]"
   ]
  },
  {
   "cell_type": "code",
   "execution_count": 339,
   "id": "d7f773ae",
   "metadata": {},
   "outputs": [
    {
     "name": "stdout",
     "output_type": "stream",
     "text": [
      "[1 8]\n"
     ]
    }
   ],
   "source": [
    "print(ll4)"
   ]
  },
  {
   "cell_type": "code",
   "execution_count": 355,
   "id": "8e703dcf",
   "metadata": {},
   "outputs": [
    {
     "name": "stdout",
     "output_type": "stream",
     "text": [
      "[    10     26 111111]\n"
     ]
    }
   ],
   "source": [
    "ll2[len(ll2)-1] = 111111\n",
    "print(ll2)"
   ]
  },
  {
   "cell_type": "code",
   "execution_count": 356,
   "id": "d01e18d7",
   "metadata": {},
   "outputs": [
    {
     "name": "stdout",
     "output_type": "stream",
     "text": [
      "[[13 28 14 29]\n",
      " [ 9  3 16 14]\n",
      " [21 10 26 11]]\n"
     ]
    }
   ],
   "source": [
    "print(vv)"
   ]
  },
  {
   "cell_type": "code",
   "execution_count": 357,
   "id": "ad3ed358",
   "metadata": {},
   "outputs": [],
   "source": [
    "ll[len(ll)-1] = 1222222"
   ]
  },
  {
   "cell_type": "code",
   "execution_count": 358,
   "id": "315eaee6",
   "metadata": {},
   "outputs": [
    {
     "name": "stdout",
     "output_type": "stream",
     "text": [
      "[[     13      28      14      29]\n",
      " [      9       3      16      14]\n",
      " [     21      10      26 1222222]]\n"
     ]
    }
   ],
   "source": [
    "print(vv)"
   ]
  },
  {
   "cell_type": "code",
   "execution_count": 359,
   "id": "4742fedb",
   "metadata": {},
   "outputs": [],
   "source": [
    "ow = np.random.randint(4,size=(4,2,3,3))"
   ]
  },
  {
   "cell_type": "code",
   "execution_count": 360,
   "id": "4c3cdffa",
   "metadata": {},
   "outputs": [
    {
     "data": {
      "text/plain": [
       "array([[[[2, 2, 1],\n",
       "         [0, 1, 2],\n",
       "         [1, 2, 1]],\n",
       "\n",
       "        [[0, 1, 3],\n",
       "         [1, 0, 1],\n",
       "         [2, 0, 2]]],\n",
       "\n",
       "\n",
       "       [[[0, 2, 1],\n",
       "         [0, 3, 0],\n",
       "         [0, 2, 2]],\n",
       "\n",
       "        [[3, 2, 0],\n",
       "         [0, 1, 3],\n",
       "         [3, 2, 3]]],\n",
       "\n",
       "\n",
       "       [[[1, 1, 3],\n",
       "         [2, 2, 0],\n",
       "         [0, 1, 0]],\n",
       "\n",
       "        [[3, 3, 3],\n",
       "         [1, 1, 1],\n",
       "         [2, 1, 3]]],\n",
       "\n",
       "\n",
       "       [[[1, 0, 1],\n",
       "         [0, 0, 0],\n",
       "         [1, 3, 1]],\n",
       "\n",
       "        [[3, 1, 0],\n",
       "         [0, 0, 2],\n",
       "         [3, 2, 2]]]])"
      ]
     },
     "execution_count": 360,
     "metadata": {},
     "output_type": "execute_result"
    }
   ],
   "source": [
    "ow"
   ]
  },
  {
   "cell_type": "code",
   "execution_count": 3,
   "id": "8c5b8032",
   "metadata": {},
   "outputs": [],
   "source": [
    "import numpy as np\n",
    "kk = np.arange(101)\n"
   ]
  },
  {
   "cell_type": "code",
   "execution_count": 362,
   "id": "5dcd447b",
   "metadata": {},
   "outputs": [
    {
     "data": {
      "text/plain": [
       "array([  0,   1,   2,   3,   4,   5,   6,   7,   8,   9,  10,  11,  12,\n",
       "        13,  14,  15,  16,  17,  18,  19,  20,  21,  22,  23,  24,  25,\n",
       "        26,  27,  28,  29,  30,  31,  32,  33,  34,  35,  36,  37,  38,\n",
       "        39,  40,  41,  42,  43,  44,  45,  46,  47,  48,  49,  50,  51,\n",
       "        52,  53,  54,  55,  56,  57,  58,  59,  60,  61,  62,  63,  64,\n",
       "        65,  66,  67,  68,  69,  70,  71,  72,  73,  74,  75,  76,  77,\n",
       "        78,  79,  80,  81,  82,  83,  84,  85,  86,  87,  88,  89,  90,\n",
       "        91,  92,  93,  94,  95,  96,  97,  98,  99, 100])"
      ]
     },
     "execution_count": 362,
     "metadata": {},
     "output_type": "execute_result"
    }
   ],
   "source": [
    "kk"
   ]
  },
  {
   "cell_type": "code",
   "execution_count": 380,
   "id": "f440cb75",
   "metadata": {},
   "outputs": [],
   "source": [
    "b = kk[3:6]"
   ]
  },
  {
   "cell_type": "code",
   "execution_count": 381,
   "id": "eae2ada5",
   "metadata": {},
   "outputs": [
    {
     "data": {
      "text/plain": [
       "array([3, 4, 5])"
      ]
     },
     "execution_count": 381,
     "metadata": {},
     "output_type": "execute_result"
    }
   ],
   "source": [
    "b"
   ]
  },
  {
   "cell_type": "code",
   "execution_count": 386,
   "id": "09e807bd",
   "metadata": {},
   "outputs": [],
   "source": [
    "b2 = kk[3:6]"
   ]
  },
  {
   "cell_type": "code",
   "execution_count": 387,
   "id": "abcda8a0",
   "metadata": {},
   "outputs": [
    {
     "data": {
      "text/plain": [
       "array([3, 4, 5])"
      ]
     },
     "execution_count": 387,
     "metadata": {},
     "output_type": "execute_result"
    }
   ],
   "source": [
    "b2"
   ]
  },
  {
   "cell_type": "code",
   "execution_count": 399,
   "id": "0aa832e6",
   "metadata": {},
   "outputs": [
    {
     "name": "stdout",
     "output_type": "stream",
     "text": [
      "[ 99  99  99   8  99  99  99  99  99  99  99  99  99  99  99  99  99  99\n",
      "  99  99  99  99  99  99  99  99  99  99  99  99  30  31  32  33  34  35\n",
      "  36  37  38  39  40  41  42  43  44  45  46  47  48  49  50  51  52  53\n",
      "  54  55  56  57  58  59  60  61  62  63  64  65  66  67  68  69  70  71\n",
      "  72  73  74  75  76  77  78  79  80  81  82  83  84  85  86  87  88  89\n",
      "  90  91  92  93  94  95  96  97  98  99 100]\n"
     ]
    }
   ],
   "source": [
    "b2[0]= 8\n",
    "print(kk)"
   ]
  },
  {
   "cell_type": "code",
   "execution_count": 5,
   "id": "b719b542",
   "metadata": {},
   "outputs": [],
   "source": [
    "mmm = kk[(kk<30)  (kk<50)] "
   ]
  },
  {
   "cell_type": "code",
   "execution_count": 6,
   "id": "64a2bff5",
   "metadata": {},
   "outputs": [
    {
     "name": "stdout",
     "output_type": "stream",
     "text": [
      "[ 0  1  2  3  4  5  6  7  8  9 10 11 12 13 14 15 16 17 18 19 20 21 22 23\n",
      " 24 25 26 27 28 29 30 31 32 33 34 35 36 37 38 39 40 41 42 43 44 45 46 47\n",
      " 48 49]\n"
     ]
    }
   ],
   "source": [
    "print(mmm)"
   ]
  },
  {
   "cell_type": "code",
   "execution_count": 391,
   "id": "5403a268",
   "metadata": {},
   "outputs": [],
   "source": [
    "u[0:] = 99"
   ]
  },
  {
   "cell_type": "code",
   "execution_count": 395,
   "id": "f806897a",
   "metadata": {},
   "outputs": [
    {
     "data": {
      "text/plain": [
       "array([ 99,  99,  99,  99,  99,  99,  99,  99,  99,  99,  99,  99,  99,\n",
       "        99,  99,  99,  99,  99,  99,  99,  99,  99,  99,  99,  99,  99,\n",
       "        99,  99,  99,  99,  30,  31,  32,  33,  34,  35,  36,  37,  38,\n",
       "        39,  40,  41,  42,  43,  44,  45,  46,  47,  48,  49,  50,  51,\n",
       "        52,  53,  54,  55,  56,  57,  58,  59,  60,  61,  62,  63,  64,\n",
       "        65,  66,  67,  68,  69,  70,  71,  72,  73,  74,  75,  76,  77,\n",
       "        78,  79,  80,  81,  82,  83,  84,  85,  86,  87,  88,  89,  90,\n",
       "        91,  92,  93,  94,  95,  96,  97,  98,  99, 100])"
      ]
     },
     "execution_count": 395,
     "metadata": {},
     "output_type": "execute_result"
    }
   ],
   "source": [
    "kk"
   ]
  },
  {
   "cell_type": "code",
   "execution_count": 26,
   "id": "23dda3b1",
   "metadata": {},
   "outputs": [
    {
     "name": "stdout",
     "output_type": "stream",
     "text": [
      "[[5 5 6 1]\n",
      " [4 8 4 6]\n",
      " [3 6 6 8]]\n"
     ]
    }
   ],
   "source": [
    "bored = np.random.randint(10,size=(3,4))\n",
    "print(bored)"
   ]
  },
  {
   "cell_type": "code",
   "execution_count": 27,
   "id": "d258b312",
   "metadata": {},
   "outputs": [],
   "source": [
    "bored2 = np.array([[1,2],[2,2],[3,2]])"
   ]
  },
  {
   "cell_type": "code",
   "execution_count": 28,
   "id": "6c1f33b0",
   "metadata": {},
   "outputs": [
    {
     "name": "stdout",
     "output_type": "stream",
     "text": [
      "[[1 2]\n",
      " [2 2]\n",
      " [3 2]]\n"
     ]
    }
   ],
   "source": [
    "print(bored2)"
   ]
  },
  {
   "cell_type": "code",
   "execution_count": 29,
   "id": "3da03d33",
   "metadata": {},
   "outputs": [
    {
     "ename": "ValueError",
     "evalue": "operands could not be broadcast together with shapes (3,4) (3,2) ",
     "output_type": "error",
     "traceback": [
      "\u001b[1;31m---------------------------------------------------------------------------\u001b[0m",
      "\u001b[1;31mValueError\u001b[0m                                Traceback (most recent call last)",
      "Cell \u001b[1;32mIn[29], line 1\u001b[0m\n\u001b[1;32m----> 1\u001b[0m \u001b[38;5;28mprint\u001b[39m(\u001b[43mbored\u001b[49m\u001b[43m \u001b[49m\u001b[38;5;241;43m+\u001b[39;49m\u001b[43m \u001b[49m\u001b[43mbored2\u001b[49m)\n",
      "\u001b[1;31mValueError\u001b[0m: operands could not be broadcast together with shapes (3,4) (3,2) "
     ]
    }
   ],
   "source": [
    "print(bored + bored2)"
   ]
  },
  {
   "cell_type": "code",
   "execution_count": 33,
   "id": "6a7a5fa9",
   "metadata": {},
   "outputs": [
    {
     "name": "stdout",
     "output_type": "stream",
     "text": [
      "[[1 5 5 6]\n",
      " [4 4 6 8]\n",
      " [3 6 6 8]]\n"
     ]
    }
   ],
   "source": [
    "print(np.sort(bored,axis=1))"
   ]
  },
  {
   "cell_type": "code",
   "execution_count": 31,
   "id": "2bb9202f",
   "metadata": {},
   "outputs": [],
   "source": [
    "np.sort?"
   ]
  },
  {
   "cell_type": "code",
   "execution_count": 39,
   "id": "39f0be54",
   "metadata": {},
   "outputs": [
    {
     "ename": "ValueError",
     "evalue": "all the input array dimensions for the concatenation axis must match exactly, but along dimension 1, the array at index 0 has size 4 and the array at index 1 has size 2",
     "output_type": "error",
     "traceback": [
      "\u001b[1;31m---------------------------------------------------------------------------\u001b[0m",
      "\u001b[1;31mValueError\u001b[0m                                Traceback (most recent call last)",
      "Cell \u001b[1;32mIn[39], line 1\u001b[0m\n\u001b[1;32m----> 1\u001b[0m \u001b[38;5;28mprint\u001b[39m(\u001b[43mnp\u001b[49m\u001b[38;5;241;43m.\u001b[39;49m\u001b[43mvstack\u001b[49m\u001b[43m(\u001b[49m\u001b[43m(\u001b[49m\u001b[43mbored\u001b[49m\u001b[43m,\u001b[49m\u001b[43mbored2\u001b[49m\u001b[43m)\u001b[49m\u001b[43m)\u001b[49m)\n",
      "File \u001b[1;32m<__array_function__ internals>:180\u001b[0m, in \u001b[0;36mvstack\u001b[1;34m(*args, **kwargs)\u001b[0m\n",
      "File \u001b[1;32mC:\\Anaconda\\lib\\site-packages\\numpy\\core\\shape_base.py:282\u001b[0m, in \u001b[0;36mvstack\u001b[1;34m(tup)\u001b[0m\n\u001b[0;32m    280\u001b[0m \u001b[38;5;28;01mif\u001b[39;00m \u001b[38;5;129;01mnot\u001b[39;00m \u001b[38;5;28misinstance\u001b[39m(arrs, \u001b[38;5;28mlist\u001b[39m):\n\u001b[0;32m    281\u001b[0m     arrs \u001b[38;5;241m=\u001b[39m [arrs]\n\u001b[1;32m--> 282\u001b[0m \u001b[38;5;28;01mreturn\u001b[39;00m \u001b[43m_nx\u001b[49m\u001b[38;5;241;43m.\u001b[39;49m\u001b[43mconcatenate\u001b[49m\u001b[43m(\u001b[49m\u001b[43marrs\u001b[49m\u001b[43m,\u001b[49m\u001b[43m \u001b[49m\u001b[38;5;241;43m0\u001b[39;49m\u001b[43m)\u001b[49m\n",
      "File \u001b[1;32m<__array_function__ internals>:180\u001b[0m, in \u001b[0;36mconcatenate\u001b[1;34m(*args, **kwargs)\u001b[0m\n",
      "\u001b[1;31mValueError\u001b[0m: all the input array dimensions for the concatenation axis must match exactly, but along dimension 1, the array at index 0 has size 4 and the array at index 1 has size 2"
     ]
    }
   ],
   "source": [
    "print(np.vstack((bored,bored2)))"
   ]
  },
  {
   "cell_type": "code",
   "execution_count": 42,
   "id": "3a16c2b1",
   "metadata": {},
   "outputs": [
    {
     "data": {
      "text/plain": [
       "(3, 4)"
      ]
     },
     "execution_count": 42,
     "metadata": {},
     "output_type": "execute_result"
    }
   ],
   "source": [
    "bored.shape"
   ]
  },
  {
   "cell_type": "code",
   "execution_count": 51,
   "id": "4f4f4a96",
   "metadata": {},
   "outputs": [
    {
     "name": "stdout",
     "output_type": "stream",
     "text": [
      "[[2]\n",
      " [3]\n",
      " [4]]\n"
     ]
    }
   ],
   "source": [
    "randomarr = np.arange(2,5,1).reshape(3,1)\n",
    "print(randomarr)"
   ]
  },
  {
   "cell_type": "code",
   "execution_count": 44,
   "id": "921de086",
   "metadata": {},
   "outputs": [],
   "source": [
    "np.arange?"
   ]
  },
  {
   "cell_type": "code",
   "execution_count": 52,
   "id": "236e1bec",
   "metadata": {},
   "outputs": [
    {
     "name": "stdout",
     "output_type": "stream",
     "text": [
      "[[5 5 6 1]\n",
      " [4 8 4 6]\n",
      " [3 6 6 8]] [[2]\n",
      " [3]\n",
      " [4]]\n"
     ]
    }
   ],
   "source": [
    "print(bored,randomarr)"
   ]
  },
  {
   "cell_type": "code",
   "execution_count": 53,
   "id": "85d052fe",
   "metadata": {},
   "outputs": [
    {
     "name": "stdout",
     "output_type": "stream",
     "text": [
      "[[5 5 6 1]\n",
      " [4 8 4 6]\n",
      " [3 6 6 8]]\n",
      "[[2]\n",
      " [3]\n",
      " [4]]\n"
     ]
    }
   ],
   "source": [
    "print(bored)\n",
    "print(randomarr)"
   ]
  },
  {
   "cell_type": "code",
   "execution_count": 56,
   "id": "207e06cd",
   "metadata": {},
   "outputs": [
    {
     "ename": "ValueError",
     "evalue": "all the input array dimensions for the concatenation axis must match exactly, but along dimension 1, the array at index 0 has size 4 and the array at index 1 has size 1",
     "output_type": "error",
     "traceback": [
      "\u001b[1;31m---------------------------------------------------------------------------\u001b[0m",
      "\u001b[1;31mValueError\u001b[0m                                Traceback (most recent call last)",
      "Cell \u001b[1;32mIn[56], line 1\u001b[0m\n\u001b[1;32m----> 1\u001b[0m \u001b[38;5;28mprint\u001b[39m(\u001b[43mnp\u001b[49m\u001b[38;5;241;43m.\u001b[39;49m\u001b[43mvstack\u001b[49m\u001b[43m(\u001b[49m\u001b[43m(\u001b[49m\u001b[43mbored\u001b[49m\u001b[43m,\u001b[49m\u001b[43mnp\u001b[49m\u001b[38;5;241;43m.\u001b[39;49m\u001b[43mrandom\u001b[49m\u001b[38;5;241;43m.\u001b[39;49m\u001b[43mpermutation\u001b[49m\u001b[43m(\u001b[49m\u001b[43mrandomarr\u001b[49m\u001b[43m)\u001b[49m\u001b[43m)\u001b[49m\u001b[43m)\u001b[49m)\n",
      "File \u001b[1;32m<__array_function__ internals>:180\u001b[0m, in \u001b[0;36mvstack\u001b[1;34m(*args, **kwargs)\u001b[0m\n",
      "File \u001b[1;32mC:\\Anaconda\\lib\\site-packages\\numpy\\core\\shape_base.py:282\u001b[0m, in \u001b[0;36mvstack\u001b[1;34m(tup)\u001b[0m\n\u001b[0;32m    280\u001b[0m \u001b[38;5;28;01mif\u001b[39;00m \u001b[38;5;129;01mnot\u001b[39;00m \u001b[38;5;28misinstance\u001b[39m(arrs, \u001b[38;5;28mlist\u001b[39m):\n\u001b[0;32m    281\u001b[0m     arrs \u001b[38;5;241m=\u001b[39m [arrs]\n\u001b[1;32m--> 282\u001b[0m \u001b[38;5;28;01mreturn\u001b[39;00m \u001b[43m_nx\u001b[49m\u001b[38;5;241;43m.\u001b[39;49m\u001b[43mconcatenate\u001b[49m\u001b[43m(\u001b[49m\u001b[43marrs\u001b[49m\u001b[43m,\u001b[49m\u001b[43m \u001b[49m\u001b[38;5;241;43m0\u001b[39;49m\u001b[43m)\u001b[49m\n",
      "File \u001b[1;32m<__array_function__ internals>:180\u001b[0m, in \u001b[0;36mconcatenate\u001b[1;34m(*args, **kwargs)\u001b[0m\n",
      "\u001b[1;31mValueError\u001b[0m: all the input array dimensions for the concatenation axis must match exactly, but along dimension 1, the array at index 0 has size 4 and the array at index 1 has size 1"
     ]
    }
   ],
   "source": [
    "print(np.vstack((bored,np.random.permutation(randomarr))))"
   ]
  },
  {
   "cell_type": "code",
   "execution_count": 82,
   "id": "9d699f45",
   "metadata": {},
   "outputs": [
    {
     "name": "stdout",
     "output_type": "stream",
     "text": [
      "\n"
     ]
    }
   ],
   "source": [
    "j =np.random.permutation(np.arange(10))\n",
    "print()"
   ]
  },
  {
   "cell_type": "code",
   "execution_count": 83,
   "id": "7d55f790",
   "metadata": {},
   "outputs": [
    {
     "name": "stdout",
     "output_type": "stream",
     "text": [
      "[8 0 6 1 2 5 3 7 9 4]\n",
      "[0 1 2 3 4 5 6 7 8 9]\n",
      "[9 8 7 6 5 4 3 2 1 0]\n"
     ]
    }
   ],
   "source": [
    "print(j)\n",
    "print(np.sort(j))\n",
    "p = np.flip(np.sort(j))\n",
    "\n",
    "print(p)"
   ]
  },
  {
   "cell_type": "code",
   "execution_count": 66,
   "id": "52fcdc18",
   "metadata": {},
   "outputs": [],
   "source": [
    "rj = "
   ]
  },
  {
   "cell_type": "code",
   "execution_count": 67,
   "id": "8e721d82",
   "metadata": {},
   "outputs": [
    {
     "name": "stdout",
     "output_type": "stream",
     "text": [
      "[9 8 7 6 5 4 3 2 1 0]\n"
     ]
    }
   ],
   "source": [
    "print(rj)"
   ]
  },
  {
   "cell_type": "code",
   "execution_count": 87,
   "id": "9615816f",
   "metadata": {},
   "outputs": [
    {
     "data": {
      "text/plain": [
       "array([0.82627613, 0.42273739, 0.81800304, 0.98900917])"
      ]
     },
     "execution_count": 87,
     "metadata": {},
     "output_type": "execute_result"
    }
   ],
   "source": [
    "np.random.rand(4)"
   ]
  },
  {
   "cell_type": "code",
   "execution_count": 104,
   "id": "152a3f87",
   "metadata": {},
   "outputs": [],
   "source": [
    "LO = np.random.rand(1000)"
   ]
  },
  {
   "cell_type": "code",
   "execution_count": 106,
   "id": "546c7a27",
   "metadata": {},
   "outputs": [
    {
     "name": "stdout",
     "output_type": "stream",
     "text": [
      "11.2 µs ± 262 ns per loop (mean ± std. dev. of 7 runs, 100,000 loops each)\n",
      "188 µs ± 2.99 µs per loop (mean ± std. dev. of 7 runs, 10,000 loops each)\n"
     ]
    }
   ],
   "source": [
    "%timeit np.sum(LO)\n",
    "%timeit sum(LO)\n"
   ]
  },
  {
   "cell_type": "code",
   "execution_count": 99,
   "id": "ce0d92e3",
   "metadata": {},
   "outputs": [
    {
     "data": {
      "text/plain": [
       "45"
      ]
     },
     "execution_count": 99,
     "metadata": {},
     "output_type": "execute_result"
    }
   ],
   "source": []
  },
  {
   "cell_type": "code",
   "execution_count": 107,
   "id": "c8947b57",
   "metadata": {},
   "outputs": [],
   "source": [
    "import pandas as pd"
   ]
  },
  {
   "cell_type": "code",
   "execution_count": 108,
   "id": "be1a2cca",
   "metadata": {},
   "outputs": [
    {
     "data": {
      "text/plain": [
       "'1.5.3'"
      ]
     },
     "execution_count": 108,
     "metadata": {},
     "output_type": "execute_result"
    }
   ],
   "source": [
    "pd.__version__"
   ]
  },
  {
   "cell_type": "code",
   "execution_count": 124,
   "id": "c7a7d050",
   "metadata": {},
   "outputs": [
    {
     "name": "stdout",
     "output_type": "stream",
     "text": [
      "25    5\n",
      "b     4\n",
      "c     7\n",
      "d     8\n",
      "dtype: int64\n"
     ]
    }
   ],
   "source": [
    "ponda = pd.Series([5,4,7,8],index=[25,\"b\",\"c\",\"d\"])\n",
    "print(ponda)"
   ]
  },
  {
   "cell_type": "code",
   "execution_count": 114,
   "id": "0c07bcb2",
   "metadata": {},
   "outputs": [
    {
     "data": {
      "text/plain": [
       "array([5, 4, 7, 8], dtype=int64)"
      ]
     },
     "execution_count": 114,
     "metadata": {},
     "output_type": "execute_result"
    }
   ],
   "source": [
    "ponda.values"
   ]
  },
  {
   "cell_type": "code",
   "execution_count": 115,
   "id": "c270379f",
   "metadata": {},
   "outputs": [
    {
     "data": {
      "text/plain": [
       "numpy.ndarray"
      ]
     },
     "execution_count": 115,
     "metadata": {},
     "output_type": "execute_result"
    }
   ],
   "source": [
    "type(ponda.values)"
   ]
  },
  {
   "cell_type": "code",
   "execution_count": 116,
   "id": "bc4163a7",
   "metadata": {},
   "outputs": [
    {
     "data": {
      "text/plain": [
       "pandas.core.series.Series"
      ]
     },
     "execution_count": 116,
     "metadata": {},
     "output_type": "execute_result"
    }
   ],
   "source": [
    "type(ponda)"
   ]
  },
  {
   "cell_type": "code",
   "execution_count": 117,
   "id": "db8a31f4",
   "metadata": {},
   "outputs": [
    {
     "data": {
      "text/plain": [
       "Index([25, 'b', 'c', 'd'], dtype='object')"
      ]
     },
     "execution_count": 117,
     "metadata": {},
     "output_type": "execute_result"
    }
   ],
   "source": [
    "ponda.index"
   ]
  },
  {
   "cell_type": "code",
   "execution_count": 128,
   "id": "f2feaf76",
   "metadata": {},
   "outputs": [
    {
     "name": "stdout",
     "output_type": "stream",
     "text": [
      "<class 'dict'>\n",
      "<class 'pandas.core.series.Series'>\n"
     ]
    }
   ],
   "source": [
    "dictii = {\"charif\":\"soheib\",\"allel\":\"fares\"}\n",
    "dictipandas = pd.Series(dictii)\n",
    "print(type(dictii))\n",
    "print(type(dictipandas))"
   ]
  },
  {
   "cell_type": "code",
   "execution_count": 120,
   "id": "3f522853",
   "metadata": {},
   "outputs": [
    {
     "data": {
      "text/plain": [
       "Index(['charif'], dtype='object')"
      ]
     },
     "execution_count": 120,
     "metadata": {},
     "output_type": "execute_result"
    }
   ],
   "source": [
    "dictipandas.index"
   ]
  },
  {
   "cell_type": "code",
   "execution_count": 125,
   "id": "72bf835f",
   "metadata": {},
   "outputs": [
    {
     "data": {
      "text/plain": [
       "'soheib'"
      ]
     },
     "execution_count": 125,
     "metadata": {},
     "output_type": "execute_result"
    }
   ],
   "source": [
    "dictipandas['charif']"
   ]
  },
  {
   "cell_type": "code",
   "execution_count": 130,
   "id": "de5f1137",
   "metadata": {},
   "outputs": [
    {
     "ename": "TypeError",
     "evalue": "unhashable type: 'slice'",
     "output_type": "error",
     "traceback": [
      "\u001b[1;31m---------------------------------------------------------------------------\u001b[0m",
      "\u001b[1;31mTypeError\u001b[0m                                 Traceback (most recent call last)",
      "Cell \u001b[1;32mIn[130], line 1\u001b[0m\n\u001b[1;32m----> 1\u001b[0m \u001b[43mdictii\u001b[49m\u001b[43m[\u001b[49m\u001b[38;5;124;43m\"\u001b[39;49m\u001b[38;5;124;43mcharif\u001b[39;49m\u001b[38;5;124;43m\"\u001b[39;49m\u001b[43m:\u001b[49m\u001b[38;5;124;43m\"\u001b[39;49m\u001b[38;5;124;43mallel\u001b[39;49m\u001b[38;5;124;43m\"\u001b[39;49m\u001b[43m]\u001b[49m\n",
      "\u001b[1;31mTypeError\u001b[0m: unhashable type: 'slice'"
     ]
    }
   ],
   "source": [
    "dictii[\"charif\":\"allel\"]\n"
   ]
  },
  {
   "cell_type": "code",
   "execution_count": 131,
   "id": "bbce68d7",
   "metadata": {},
   "outputs": [
    {
     "data": {
      "text/plain": [
       "charif    soheib\n",
       "allel      fares\n",
       "dtype: object"
      ]
     },
     "execution_count": 131,
     "metadata": {},
     "output_type": "execute_result"
    }
   ],
   "source": [
    "dictipandas[\"charif\":\"allel\"]"
   ]
  },
  {
   "cell_type": "code",
   "execution_count": 384,
   "id": "b9153eff",
   "metadata": {},
   "outputs": [
    {
     "name": "stderr",
     "output_type": "stream",
     "text": [
      "C:\\Users\\My PC\\AppData\\Local\\Temp\\ipykernel_5688\\2233096955.py:9: FutureWarning: reindexing with a non-unique Index is deprecated and will raise in a future version.\n",
      "  Listo = pd.DataFrame({\"La Note\":nom,\"Prénom\":nomm, \"Nom\":prnom})\n"
     ]
    },
    {
     "ename": "ValueError",
     "evalue": "cannot reindex on an axis with duplicate labels",
     "output_type": "error",
     "traceback": [
      "\u001b[1;31m---------------------------------------------------------------------------\u001b[0m",
      "\u001b[1;31mValueError\u001b[0m                                Traceback (most recent call last)",
      "Cell \u001b[1;32mIn[384], line 9\u001b[0m\n\u001b[0;32m      6\u001b[0m prnom \u001b[38;5;241m=\u001b[39m  pd\u001b[38;5;241m.\u001b[39mSeries([\u001b[38;5;241m1\u001b[39m,\u001b[38;5;241m2\u001b[39m,\u001b[38;5;241m3\u001b[39m,\u001b[38;5;241m4\u001b[39m],index\u001b[38;5;241m=\u001b[39m[\u001b[38;5;124m\"\u001b[39m\u001b[38;5;124mMessaoudi\u001b[39m\u001b[38;5;124m\"\u001b[39m,\u001b[38;5;124m\"\u001b[39m\u001b[38;5;124mcharif\u001b[39m\u001b[38;5;124m\"\u001b[39m,\u001b[38;5;124m\"\u001b[39m\u001b[38;5;124mCharif\u001b[39m\u001b[38;5;124m\"\u001b[39m,\u001b[38;5;124m\"\u001b[39m\u001b[38;5;124mCharif\u001b[39m\u001b[38;5;124m\"\u001b[39m])\n\u001b[0;32m      8\u001b[0m nomm \u001b[38;5;241m=\u001b[39m pd\u001b[38;5;241m.\u001b[39mSeries([\u001b[38;5;124m\"\u001b[39m\u001b[38;5;124mAicha\u001b[39m\u001b[38;5;124m\"\u001b[39m,\u001b[38;5;124m\"\u001b[39m\u001b[38;5;124mzicha\u001b[39m\u001b[38;5;124m\"\u001b[39m,\u001b[38;5;124m\"\u001b[39m\u001b[38;5;124msamira\u001b[39m\u001b[38;5;124m\"\u001b[39m,\u001b[38;5;124m\"\u001b[39m\u001b[38;5;124myamina\u001b[39m\u001b[38;5;124m\"\u001b[39m],index\u001b[38;5;241m=\u001b[39m[\u001b[38;5;241m1\u001b[39m,\u001b[38;5;241m4\u001b[39m,\u001b[38;5;241m3\u001b[39m,\u001b[38;5;241m5\u001b[39m])\n\u001b[1;32m----> 9\u001b[0m Listo \u001b[38;5;241m=\u001b[39m \u001b[43mpd\u001b[49m\u001b[38;5;241;43m.\u001b[39;49m\u001b[43mDataFrame\u001b[49m\u001b[43m(\u001b[49m\u001b[43m{\u001b[49m\u001b[38;5;124;43m\"\u001b[39;49m\u001b[38;5;124;43mLa Note\u001b[39;49m\u001b[38;5;124;43m\"\u001b[39;49m\u001b[43m:\u001b[49m\u001b[43mnom\u001b[49m\u001b[43m,\u001b[49m\u001b[38;5;124;43m\"\u001b[39;49m\u001b[38;5;124;43mPrénom\u001b[39;49m\u001b[38;5;124;43m\"\u001b[39;49m\u001b[43m:\u001b[49m\u001b[43mnomm\u001b[49m\u001b[43m,\u001b[49m\u001b[43m \u001b[49m\u001b[38;5;124;43m\"\u001b[39;49m\u001b[38;5;124;43mNom\u001b[39;49m\u001b[38;5;124;43m\"\u001b[39;49m\u001b[43m:\u001b[49m\u001b[43mprnom\u001b[49m\u001b[43m}\u001b[49m\u001b[43m)\u001b[49m\n",
      "File \u001b[1;32mC:\\Anaconda\\lib\\site-packages\\pandas\\core\\frame.py:664\u001b[0m, in \u001b[0;36mDataFrame.__init__\u001b[1;34m(self, data, index, columns, dtype, copy)\u001b[0m\n\u001b[0;32m    658\u001b[0m     mgr \u001b[38;5;241m=\u001b[39m \u001b[38;5;28mself\u001b[39m\u001b[38;5;241m.\u001b[39m_init_mgr(\n\u001b[0;32m    659\u001b[0m         data, axes\u001b[38;5;241m=\u001b[39m{\u001b[38;5;124m\"\u001b[39m\u001b[38;5;124mindex\u001b[39m\u001b[38;5;124m\"\u001b[39m: index, \u001b[38;5;124m\"\u001b[39m\u001b[38;5;124mcolumns\u001b[39m\u001b[38;5;124m\"\u001b[39m: columns}, dtype\u001b[38;5;241m=\u001b[39mdtype, copy\u001b[38;5;241m=\u001b[39mcopy\n\u001b[0;32m    660\u001b[0m     )\n\u001b[0;32m    662\u001b[0m \u001b[38;5;28;01melif\u001b[39;00m \u001b[38;5;28misinstance\u001b[39m(data, \u001b[38;5;28mdict\u001b[39m):\n\u001b[0;32m    663\u001b[0m     \u001b[38;5;66;03m# GH#38939 de facto copy defaults to False only in non-dict cases\u001b[39;00m\n\u001b[1;32m--> 664\u001b[0m     mgr \u001b[38;5;241m=\u001b[39m \u001b[43mdict_to_mgr\u001b[49m\u001b[43m(\u001b[49m\u001b[43mdata\u001b[49m\u001b[43m,\u001b[49m\u001b[43m \u001b[49m\u001b[43mindex\u001b[49m\u001b[43m,\u001b[49m\u001b[43m \u001b[49m\u001b[43mcolumns\u001b[49m\u001b[43m,\u001b[49m\u001b[43m \u001b[49m\u001b[43mdtype\u001b[49m\u001b[38;5;241;43m=\u001b[39;49m\u001b[43mdtype\u001b[49m\u001b[43m,\u001b[49m\u001b[43m \u001b[49m\u001b[43mcopy\u001b[49m\u001b[38;5;241;43m=\u001b[39;49m\u001b[43mcopy\u001b[49m\u001b[43m,\u001b[49m\u001b[43m \u001b[49m\u001b[43mtyp\u001b[49m\u001b[38;5;241;43m=\u001b[39;49m\u001b[43mmanager\u001b[49m\u001b[43m)\u001b[49m\n\u001b[0;32m    665\u001b[0m \u001b[38;5;28;01melif\u001b[39;00m \u001b[38;5;28misinstance\u001b[39m(data, ma\u001b[38;5;241m.\u001b[39mMaskedArray):\n\u001b[0;32m    666\u001b[0m     \u001b[38;5;28;01mimport\u001b[39;00m \u001b[38;5;21;01mnumpy\u001b[39;00m\u001b[38;5;21;01m.\u001b[39;00m\u001b[38;5;21;01mma\u001b[39;00m\u001b[38;5;21;01m.\u001b[39;00m\u001b[38;5;21;01mmrecords\u001b[39;00m \u001b[38;5;28;01mas\u001b[39;00m \u001b[38;5;21;01mmrecords\u001b[39;00m\n",
      "File \u001b[1;32mC:\\Anaconda\\lib\\site-packages\\pandas\\core\\internals\\construction.py:493\u001b[0m, in \u001b[0;36mdict_to_mgr\u001b[1;34m(data, index, columns, dtype, typ, copy)\u001b[0m\n\u001b[0;32m    489\u001b[0m     \u001b[38;5;28;01melse\u001b[39;00m:\n\u001b[0;32m    490\u001b[0m         \u001b[38;5;66;03m# dtype check to exclude e.g. range objects, scalars\u001b[39;00m\n\u001b[0;32m    491\u001b[0m         arrays \u001b[38;5;241m=\u001b[39m [x\u001b[38;5;241m.\u001b[39mcopy() \u001b[38;5;28;01mif\u001b[39;00m \u001b[38;5;28mhasattr\u001b[39m(x, \u001b[38;5;124m\"\u001b[39m\u001b[38;5;124mdtype\u001b[39m\u001b[38;5;124m\"\u001b[39m) \u001b[38;5;28;01melse\u001b[39;00m x \u001b[38;5;28;01mfor\u001b[39;00m x \u001b[38;5;129;01min\u001b[39;00m arrays]\n\u001b[1;32m--> 493\u001b[0m \u001b[38;5;28;01mreturn\u001b[39;00m \u001b[43marrays_to_mgr\u001b[49m\u001b[43m(\u001b[49m\u001b[43marrays\u001b[49m\u001b[43m,\u001b[49m\u001b[43m \u001b[49m\u001b[43mcolumns\u001b[49m\u001b[43m,\u001b[49m\u001b[43m \u001b[49m\u001b[43mindex\u001b[49m\u001b[43m,\u001b[49m\u001b[43m \u001b[49m\u001b[43mdtype\u001b[49m\u001b[38;5;241;43m=\u001b[39;49m\u001b[43mdtype\u001b[49m\u001b[43m,\u001b[49m\u001b[43m \u001b[49m\u001b[43mtyp\u001b[49m\u001b[38;5;241;43m=\u001b[39;49m\u001b[43mtyp\u001b[49m\u001b[43m,\u001b[49m\u001b[43m \u001b[49m\u001b[43mconsolidate\u001b[49m\u001b[38;5;241;43m=\u001b[39;49m\u001b[43mcopy\u001b[49m\u001b[43m)\u001b[49m\n",
      "File \u001b[1;32mC:\\Anaconda\\lib\\site-packages\\pandas\\core\\internals\\construction.py:123\u001b[0m, in \u001b[0;36marrays_to_mgr\u001b[1;34m(arrays, columns, index, dtype, verify_integrity, typ, consolidate)\u001b[0m\n\u001b[0;32m    120\u001b[0m         index \u001b[38;5;241m=\u001b[39m ensure_index(index)\n\u001b[0;32m    122\u001b[0m     \u001b[38;5;66;03m# don't force copy because getting jammed in an ndarray anyway\u001b[39;00m\n\u001b[1;32m--> 123\u001b[0m     arrays \u001b[38;5;241m=\u001b[39m \u001b[43m_homogenize\u001b[49m\u001b[43m(\u001b[49m\u001b[43marrays\u001b[49m\u001b[43m,\u001b[49m\u001b[43m \u001b[49m\u001b[43mindex\u001b[49m\u001b[43m,\u001b[49m\u001b[43m \u001b[49m\u001b[43mdtype\u001b[49m\u001b[43m)\u001b[49m\n\u001b[0;32m    124\u001b[0m     \u001b[38;5;66;03m# _homogenize ensures\u001b[39;00m\n\u001b[0;32m    125\u001b[0m     \u001b[38;5;66;03m#  - all(len(x) == len(index) for x in arrays)\u001b[39;00m\n\u001b[0;32m    126\u001b[0m     \u001b[38;5;66;03m#  - all(x.ndim == 1 for x in arrays)\u001b[39;00m\n\u001b[1;32m   (...)\u001b[0m\n\u001b[0;32m    129\u001b[0m \n\u001b[0;32m    130\u001b[0m \u001b[38;5;28;01melse\u001b[39;00m:\n\u001b[0;32m    131\u001b[0m     index \u001b[38;5;241m=\u001b[39m ensure_index(index)\n",
      "File \u001b[1;32mC:\\Anaconda\\lib\\site-packages\\pandas\\core\\internals\\construction.py:599\u001b[0m, in \u001b[0;36m_homogenize\u001b[1;34m(data, index, dtype)\u001b[0m\n\u001b[0;32m    595\u001b[0m         val \u001b[38;5;241m=\u001b[39m val\u001b[38;5;241m.\u001b[39mastype(dtype, copy\u001b[38;5;241m=\u001b[39m\u001b[38;5;28;01mFalse\u001b[39;00m)\n\u001b[0;32m    596\u001b[0m     \u001b[38;5;28;01mif\u001b[39;00m val\u001b[38;5;241m.\u001b[39mindex \u001b[38;5;129;01mis\u001b[39;00m \u001b[38;5;129;01mnot\u001b[39;00m index:\n\u001b[0;32m    597\u001b[0m         \u001b[38;5;66;03m# Forces alignment. No need to copy data since we\u001b[39;00m\n\u001b[0;32m    598\u001b[0m         \u001b[38;5;66;03m# are putting it into an ndarray later\u001b[39;00m\n\u001b[1;32m--> 599\u001b[0m         val \u001b[38;5;241m=\u001b[39m \u001b[43mval\u001b[49m\u001b[38;5;241;43m.\u001b[39;49m\u001b[43mreindex\u001b[49m\u001b[43m(\u001b[49m\u001b[43mindex\u001b[49m\u001b[43m,\u001b[49m\u001b[43m \u001b[49m\u001b[43mcopy\u001b[49m\u001b[38;5;241;43m=\u001b[39;49m\u001b[38;5;28;43;01mFalse\u001b[39;49;00m\u001b[43m)\u001b[49m\n\u001b[0;32m    601\u001b[0m     val \u001b[38;5;241m=\u001b[39m val\u001b[38;5;241m.\u001b[39m_values\n\u001b[0;32m    602\u001b[0m \u001b[38;5;28;01melse\u001b[39;00m:\n",
      "File \u001b[1;32mC:\\Anaconda\\lib\\site-packages\\pandas\\core\\series.py:5094\u001b[0m, in \u001b[0;36mSeries.reindex\u001b[1;34m(self, *args, **kwargs)\u001b[0m\n\u001b[0;32m   5090\u001b[0m         \u001b[38;5;28;01mraise\u001b[39;00m \u001b[38;5;167;01mTypeError\u001b[39;00m(\n\u001b[0;32m   5091\u001b[0m             \u001b[38;5;124m\"\u001b[39m\u001b[38;5;124m'\u001b[39m\u001b[38;5;124mindex\u001b[39m\u001b[38;5;124m'\u001b[39m\u001b[38;5;124m passed as both positional and keyword argument\u001b[39m\u001b[38;5;124m\"\u001b[39m\n\u001b[0;32m   5092\u001b[0m         )\n\u001b[0;32m   5093\u001b[0m     kwargs\u001b[38;5;241m.\u001b[39mupdate({\u001b[38;5;124m\"\u001b[39m\u001b[38;5;124mindex\u001b[39m\u001b[38;5;124m\"\u001b[39m: index})\n\u001b[1;32m-> 5094\u001b[0m \u001b[38;5;28;01mreturn\u001b[39;00m \u001b[38;5;28msuper\u001b[39m()\u001b[38;5;241m.\u001b[39mreindex(\u001b[38;5;241m*\u001b[39m\u001b[38;5;241m*\u001b[39mkwargs)\n",
      "File \u001b[1;32mC:\\Anaconda\\lib\\site-packages\\pandas\\core\\generic.py:5289\u001b[0m, in \u001b[0;36mNDFrame.reindex\u001b[1;34m(self, *args, **kwargs)\u001b[0m\n\u001b[0;32m   5286\u001b[0m     \u001b[38;5;28;01mreturn\u001b[39;00m \u001b[38;5;28mself\u001b[39m\u001b[38;5;241m.\u001b[39m_reindex_multi(axes, copy, fill_value)\n\u001b[0;32m   5288\u001b[0m \u001b[38;5;66;03m# perform the reindex on the axes\u001b[39;00m\n\u001b[1;32m-> 5289\u001b[0m \u001b[38;5;28;01mreturn\u001b[39;00m \u001b[38;5;28;43mself\u001b[39;49m\u001b[38;5;241;43m.\u001b[39;49m\u001b[43m_reindex_axes\u001b[49m\u001b[43m(\u001b[49m\n\u001b[0;32m   5290\u001b[0m \u001b[43m    \u001b[49m\u001b[43maxes\u001b[49m\u001b[43m,\u001b[49m\u001b[43m \u001b[49m\u001b[43mlevel\u001b[49m\u001b[43m,\u001b[49m\u001b[43m \u001b[49m\u001b[43mlimit\u001b[49m\u001b[43m,\u001b[49m\u001b[43m \u001b[49m\u001b[43mtolerance\u001b[49m\u001b[43m,\u001b[49m\u001b[43m \u001b[49m\u001b[43mmethod\u001b[49m\u001b[43m,\u001b[49m\u001b[43m \u001b[49m\u001b[43mfill_value\u001b[49m\u001b[43m,\u001b[49m\u001b[43m \u001b[49m\u001b[43mcopy\u001b[49m\n\u001b[0;32m   5291\u001b[0m \u001b[43m\u001b[49m\u001b[43m)\u001b[49m\u001b[38;5;241m.\u001b[39m__finalize__(\u001b[38;5;28mself\u001b[39m, method\u001b[38;5;241m=\u001b[39m\u001b[38;5;124m\"\u001b[39m\u001b[38;5;124mreindex\u001b[39m\u001b[38;5;124m\"\u001b[39m)\n",
      "File \u001b[1;32mC:\\Anaconda\\lib\\site-packages\\pandas\\core\\generic.py:5309\u001b[0m, in \u001b[0;36mNDFrame._reindex_axes\u001b[1;34m(self, axes, level, limit, tolerance, method, fill_value, copy)\u001b[0m\n\u001b[0;32m   5304\u001b[0m new_index, indexer \u001b[38;5;241m=\u001b[39m ax\u001b[38;5;241m.\u001b[39mreindex(\n\u001b[0;32m   5305\u001b[0m     labels, level\u001b[38;5;241m=\u001b[39mlevel, limit\u001b[38;5;241m=\u001b[39mlimit, tolerance\u001b[38;5;241m=\u001b[39mtolerance, method\u001b[38;5;241m=\u001b[39mmethod\n\u001b[0;32m   5306\u001b[0m )\n\u001b[0;32m   5308\u001b[0m axis \u001b[38;5;241m=\u001b[39m \u001b[38;5;28mself\u001b[39m\u001b[38;5;241m.\u001b[39m_get_axis_number(a)\n\u001b[1;32m-> 5309\u001b[0m obj \u001b[38;5;241m=\u001b[39m \u001b[43mobj\u001b[49m\u001b[38;5;241;43m.\u001b[39;49m\u001b[43m_reindex_with_indexers\u001b[49m\u001b[43m(\u001b[49m\n\u001b[0;32m   5310\u001b[0m \u001b[43m    \u001b[49m\u001b[43m{\u001b[49m\u001b[43maxis\u001b[49m\u001b[43m:\u001b[49m\u001b[43m \u001b[49m\u001b[43m[\u001b[49m\u001b[43mnew_index\u001b[49m\u001b[43m,\u001b[49m\u001b[43m \u001b[49m\u001b[43mindexer\u001b[49m\u001b[43m]\u001b[49m\u001b[43m}\u001b[49m\u001b[43m,\u001b[49m\n\u001b[0;32m   5311\u001b[0m \u001b[43m    \u001b[49m\u001b[43mfill_value\u001b[49m\u001b[38;5;241;43m=\u001b[39;49m\u001b[43mfill_value\u001b[49m\u001b[43m,\u001b[49m\n\u001b[0;32m   5312\u001b[0m \u001b[43m    \u001b[49m\u001b[43mcopy\u001b[49m\u001b[38;5;241;43m=\u001b[39;49m\u001b[43mcopy\u001b[49m\u001b[43m,\u001b[49m\n\u001b[0;32m   5313\u001b[0m \u001b[43m    \u001b[49m\u001b[43mallow_dups\u001b[49m\u001b[38;5;241;43m=\u001b[39;49m\u001b[38;5;28;43;01mFalse\u001b[39;49;00m\u001b[43m,\u001b[49m\n\u001b[0;32m   5314\u001b[0m \u001b[43m\u001b[49m\u001b[43m)\u001b[49m\n\u001b[0;32m   5315\u001b[0m \u001b[38;5;66;03m# If we've made a copy once, no need to make another one\u001b[39;00m\n\u001b[0;32m   5316\u001b[0m copy \u001b[38;5;241m=\u001b[39m \u001b[38;5;28;01mFalse\u001b[39;00m\n",
      "File \u001b[1;32mC:\\Anaconda\\lib\\site-packages\\pandas\\core\\generic.py:5355\u001b[0m, in \u001b[0;36mNDFrame._reindex_with_indexers\u001b[1;34m(self, reindexers, fill_value, copy, allow_dups)\u001b[0m\n\u001b[0;32m   5352\u001b[0m     indexer \u001b[38;5;241m=\u001b[39m ensure_platform_int(indexer)\n\u001b[0;32m   5354\u001b[0m \u001b[38;5;66;03m# TODO: speed up on homogeneous DataFrame objects (see _reindex_multi)\u001b[39;00m\n\u001b[1;32m-> 5355\u001b[0m new_data \u001b[38;5;241m=\u001b[39m \u001b[43mnew_data\u001b[49m\u001b[38;5;241;43m.\u001b[39;49m\u001b[43mreindex_indexer\u001b[49m\u001b[43m(\u001b[49m\n\u001b[0;32m   5356\u001b[0m \u001b[43m    \u001b[49m\u001b[43mindex\u001b[49m\u001b[43m,\u001b[49m\n\u001b[0;32m   5357\u001b[0m \u001b[43m    \u001b[49m\u001b[43mindexer\u001b[49m\u001b[43m,\u001b[49m\n\u001b[0;32m   5358\u001b[0m \u001b[43m    \u001b[49m\u001b[43maxis\u001b[49m\u001b[38;5;241;43m=\u001b[39;49m\u001b[43mbaxis\u001b[49m\u001b[43m,\u001b[49m\n\u001b[0;32m   5359\u001b[0m \u001b[43m    \u001b[49m\u001b[43mfill_value\u001b[49m\u001b[38;5;241;43m=\u001b[39;49m\u001b[43mfill_value\u001b[49m\u001b[43m,\u001b[49m\n\u001b[0;32m   5360\u001b[0m \u001b[43m    \u001b[49m\u001b[43mallow_dups\u001b[49m\u001b[38;5;241;43m=\u001b[39;49m\u001b[43mallow_dups\u001b[49m\u001b[43m,\u001b[49m\n\u001b[0;32m   5361\u001b[0m \u001b[43m    \u001b[49m\u001b[43mcopy\u001b[49m\u001b[38;5;241;43m=\u001b[39;49m\u001b[43mcopy\u001b[49m\u001b[43m,\u001b[49m\n\u001b[0;32m   5362\u001b[0m \u001b[43m\u001b[49m\u001b[43m)\u001b[49m\n\u001b[0;32m   5363\u001b[0m \u001b[38;5;66;03m# If we've made a copy once, no need to make another one\u001b[39;00m\n\u001b[0;32m   5364\u001b[0m copy \u001b[38;5;241m=\u001b[39m \u001b[38;5;28;01mFalse\u001b[39;00m\n",
      "File \u001b[1;32mC:\\Anaconda\\lib\\site-packages\\pandas\\core\\internals\\managers.py:737\u001b[0m, in \u001b[0;36mBaseBlockManager.reindex_indexer\u001b[1;34m(self, new_axis, indexer, axis, fill_value, allow_dups, copy, only_slice, use_na_proxy)\u001b[0m\n\u001b[0;32m    735\u001b[0m \u001b[38;5;66;03m# some axes don't allow reindexing with dups\u001b[39;00m\n\u001b[0;32m    736\u001b[0m \u001b[38;5;28;01mif\u001b[39;00m \u001b[38;5;129;01mnot\u001b[39;00m allow_dups:\n\u001b[1;32m--> 737\u001b[0m     \u001b[38;5;28;43mself\u001b[39;49m\u001b[38;5;241;43m.\u001b[39;49m\u001b[43maxes\u001b[49m\u001b[43m[\u001b[49m\u001b[43maxis\u001b[49m\u001b[43m]\u001b[49m\u001b[38;5;241;43m.\u001b[39;49m\u001b[43m_validate_can_reindex\u001b[49m\u001b[43m(\u001b[49m\u001b[43mindexer\u001b[49m\u001b[43m)\u001b[49m\n\u001b[0;32m    739\u001b[0m \u001b[38;5;28;01mif\u001b[39;00m axis \u001b[38;5;241m>\u001b[39m\u001b[38;5;241m=\u001b[39m \u001b[38;5;28mself\u001b[39m\u001b[38;5;241m.\u001b[39mndim:\n\u001b[0;32m    740\u001b[0m     \u001b[38;5;28;01mraise\u001b[39;00m \u001b[38;5;167;01mIndexError\u001b[39;00m(\u001b[38;5;124m\"\u001b[39m\u001b[38;5;124mRequested axis not found in manager\u001b[39m\u001b[38;5;124m\"\u001b[39m)\n",
      "File \u001b[1;32mC:\\Anaconda\\lib\\site-packages\\pandas\\core\\indexes\\base.py:4316\u001b[0m, in \u001b[0;36mIndex._validate_can_reindex\u001b[1;34m(self, indexer)\u001b[0m\n\u001b[0;32m   4314\u001b[0m \u001b[38;5;66;03m# trying to reindex on an axis with duplicates\u001b[39;00m\n\u001b[0;32m   4315\u001b[0m \u001b[38;5;28;01mif\u001b[39;00m \u001b[38;5;129;01mnot\u001b[39;00m \u001b[38;5;28mself\u001b[39m\u001b[38;5;241m.\u001b[39m_index_as_unique \u001b[38;5;129;01mand\u001b[39;00m \u001b[38;5;28mlen\u001b[39m(indexer):\n\u001b[1;32m-> 4316\u001b[0m     \u001b[38;5;28;01mraise\u001b[39;00m \u001b[38;5;167;01mValueError\u001b[39;00m(\u001b[38;5;124m\"\u001b[39m\u001b[38;5;124mcannot reindex on an axis with duplicate labels\u001b[39m\u001b[38;5;124m\"\u001b[39m)\n",
      "\u001b[1;31mValueError\u001b[0m: cannot reindex on an axis with duplicate labels"
     ]
    }
   ],
   "source": [
    "nom = pd.Series([10,20,30,40],index=[1,2,3,4])\n",
    "\n",
    "dc1 = {1:\"Messaoud\",2:\"charif\",3:'Charif',4:\"Charif\"}\n",
    "dc2 = {1:'Aicha',2:\"Aicha\",3:'samira',5:\"yamina\"}\n",
    "\n",
    "prnom =  pd.Series([1,2,3,4],index=[\"Messaoudi\",\"charif\",\"Charif\",\"Charif\"])\n",
    "\n",
    "nomm = pd.Series([\"Aicha\",\"zicha\",\"samira\",\"yamina\"],index=[1,4,3,5])\n",
    "Listo = pd.DataFrame({\"La Note\":nom,\"Prénom\":nomm, \"Nom\":prnom})"
   ]
  },
  {
   "cell_type": "code",
   "execution_count": 392,
   "id": "319af90e",
   "metadata": {},
   "outputs": [
    {
     "data": {
      "text/plain": [
       "1    Aicha\n",
       "4    zicha\n",
       "dtype: object"
      ]
     },
     "execution_count": 392,
     "metadata": {},
     "output_type": "execute_result"
    }
   ],
   "source": [
    "\n",
    "\n",
    "nomm.loc[1:4]"
   ]
  },
  {
   "cell_type": "code",
   "execution_count": 364,
   "id": "cc7b81fb",
   "metadata": {},
   "outputs": [
    {
     "data": {
      "text/html": [
       "<div>\n",
       "<style scoped>\n",
       "    .dataframe tbody tr th:only-of-type {\n",
       "        vertical-align: middle;\n",
       "    }\n",
       "\n",
       "    .dataframe tbody tr th {\n",
       "        vertical-align: top;\n",
       "    }\n",
       "\n",
       "    .dataframe thead th {\n",
       "        text-align: right;\n",
       "    }\n",
       "</style>\n",
       "<table border=\"1\" class=\"dataframe\">\n",
       "  <thead>\n",
       "    <tr style=\"text-align: right;\">\n",
       "      <th></th>\n",
       "      <th>1</th>\n",
       "      <th>2</th>\n",
       "      <th>3</th>\n",
       "      <th>4</th>\n",
       "      <th>5</th>\n",
       "    </tr>\n",
       "  </thead>\n",
       "  <tbody>\n",
       "    <tr>\n",
       "      <th>0</th>\n",
       "      <td>10.0</td>\n",
       "      <td>20.0</td>\n",
       "      <td>30.0</td>\n",
       "      <td>40.0</td>\n",
       "      <td>NaN</td>\n",
       "    </tr>\n",
       "    <tr>\n",
       "      <th>1</th>\n",
       "      <td>Aicha</td>\n",
       "      <td>Aicha</td>\n",
       "      <td>samira</td>\n",
       "      <td>NaN</td>\n",
       "      <td>yamina</td>\n",
       "    </tr>\n",
       "    <tr>\n",
       "      <th>2</th>\n",
       "      <td>Messaoud</td>\n",
       "      <td>charif</td>\n",
       "      <td>Charif</td>\n",
       "      <td>Charif</td>\n",
       "      <td>NaN</td>\n",
       "    </tr>\n",
       "  </tbody>\n",
       "</table>\n",
       "</div>"
      ],
      "text/plain": [
       "          1       2       3       4       5\n",
       "0      10.0    20.0    30.0    40.0     NaN\n",
       "1     Aicha   Aicha  samira     NaN  yamina\n",
       "2  Messaoud  charif  Charif  Charif     NaN"
      ]
     },
     "execution_count": 364,
     "metadata": {},
     "output_type": "execute_result"
    }
   ],
   "source": [
    "prnom1 =  pd.Series(dc1)\n",
    "\n",
    "nomm1 = pd.Series(dc2)\n",
    "Listo2 = pd.DataFrame([nom,nomm1,prnom1])\n",
    "Listo2"
   ]
  },
  {
   "cell_type": "code",
   "execution_count": 357,
   "id": "011cf86e",
   "metadata": {},
   "outputs": [
    {
     "data": {
      "text/html": [
       "<div>\n",
       "<style scoped>\n",
       "    .dataframe tbody tr th:only-of-type {\n",
       "        vertical-align: middle;\n",
       "    }\n",
       "\n",
       "    .dataframe tbody tr th {\n",
       "        vertical-align: top;\n",
       "    }\n",
       "\n",
       "    .dataframe thead th {\n",
       "        text-align: right;\n",
       "    }\n",
       "</style>\n",
       "<table border=\"1\" class=\"dataframe\">\n",
       "  <thead>\n",
       "    <tr style=\"text-align: right;\">\n",
       "      <th></th>\n",
       "      <th>0</th>\n",
       "      <th>1</th>\n",
       "      <th>2</th>\n",
       "    </tr>\n",
       "  </thead>\n",
       "  <tbody>\n",
       "    <tr>\n",
       "      <th>1</th>\n",
       "      <td>10.0</td>\n",
       "      <td>Aicha</td>\n",
       "      <td>Messaoud</td>\n",
       "    </tr>\n",
       "    <tr>\n",
       "      <th>2</th>\n",
       "      <td>20.0</td>\n",
       "      <td>Aicha</td>\n",
       "      <td>charif</td>\n",
       "    </tr>\n",
       "    <tr>\n",
       "      <th>3</th>\n",
       "      <td>30.0</td>\n",
       "      <td>samira</td>\n",
       "      <td>Charif</td>\n",
       "    </tr>\n",
       "  </tbody>\n",
       "</table>\n",
       "</div>"
      ],
      "text/plain": [
       "      0       1         2\n",
       "1  10.0   Aicha  Messaoud\n",
       "2  20.0   Aicha    charif\n",
       "3  30.0  samira    Charif"
      ]
     },
     "execution_count": 357,
     "metadata": {},
     "output_type": "execute_result"
    }
   ],
   "source": [
    "oo= Listo2.T\n",
    "oo.dropna()"
   ]
  },
  {
   "cell_type": "code",
   "execution_count": 371,
   "id": "b440d403",
   "metadata": {},
   "outputs": [
    {
     "data": {
      "text/html": [
       "<div>\n",
       "<style scoped>\n",
       "    .dataframe tbody tr th:only-of-type {\n",
       "        vertical-align: middle;\n",
       "    }\n",
       "\n",
       "    .dataframe tbody tr th {\n",
       "        vertical-align: top;\n",
       "    }\n",
       "\n",
       "    .dataframe thead th {\n",
       "        text-align: right;\n",
       "    }\n",
       "</style>\n",
       "<table border=\"1\" class=\"dataframe\">\n",
       "  <thead>\n",
       "    <tr style=\"text-align: right;\">\n",
       "      <th></th>\n",
       "      <th>La Note</th>\n",
       "      <th>Prénom</th>\n",
       "      <th>Nom</th>\n",
       "    </tr>\n",
       "  </thead>\n",
       "  <tbody>\n",
       "    <tr>\n",
       "      <th>1</th>\n",
       "      <td>10.0</td>\n",
       "      <td>Aicha</td>\n",
       "      <td>Messaoudi</td>\n",
       "    </tr>\n",
       "    <tr>\n",
       "      <th>2</th>\n",
       "      <td>20.0</td>\n",
       "      <td>Aicha</td>\n",
       "      <td>charif</td>\n",
       "    </tr>\n",
       "    <tr>\n",
       "      <th>3</th>\n",
       "      <td>30.0</td>\n",
       "      <td>samira</td>\n",
       "      <td>Charif</td>\n",
       "    </tr>\n",
       "    <tr>\n",
       "      <th>4</th>\n",
       "      <td>40.0</td>\n",
       "      <td>NaN</td>\n",
       "      <td>Charif</td>\n",
       "    </tr>\n",
       "    <tr>\n",
       "      <th>5</th>\n",
       "      <td>NaN</td>\n",
       "      <td>yamina</td>\n",
       "      <td>NaN</td>\n",
       "    </tr>\n",
       "  </tbody>\n",
       "</table>\n",
       "</div>"
      ],
      "text/plain": [
       "   La Note  Prénom        Nom\n",
       "1     10.0   Aicha  Messaoudi\n",
       "2     20.0   Aicha     charif\n",
       "3     30.0  samira     Charif\n",
       "4     40.0     NaN     Charif\n",
       "5      NaN  yamina        NaN"
      ]
     },
     "execution_count": 371,
     "metadata": {},
     "output_type": "execute_result"
    }
   ],
   "source": [
    "Listo"
   ]
  },
  {
   "cell_type": "code",
   "execution_count": 408,
   "id": "1467703d",
   "metadata": {},
   "outputs": [
    {
     "data": {
      "text/html": [
       "<div>\n",
       "<style scoped>\n",
       "    .dataframe tbody tr th:only-of-type {\n",
       "        vertical-align: middle;\n",
       "    }\n",
       "\n",
       "    .dataframe tbody tr th {\n",
       "        vertical-align: top;\n",
       "    }\n",
       "\n",
       "    .dataframe thead th {\n",
       "        text-align: right;\n",
       "    }\n",
       "</style>\n",
       "<table border=\"1\" class=\"dataframe\">\n",
       "  <thead>\n",
       "    <tr style=\"text-align: right;\">\n",
       "      <th></th>\n",
       "      <th>La Note</th>\n",
       "      <th>Prénom</th>\n",
       "      <th>Nom</th>\n",
       "    </tr>\n",
       "  </thead>\n",
       "  <tbody>\n",
       "    <tr>\n",
       "      <th>2</th>\n",
       "      <td>20.0</td>\n",
       "      <td>Aicha</td>\n",
       "      <td>charif</td>\n",
       "    </tr>\n",
       "    <tr>\n",
       "      <th>3</th>\n",
       "      <td>30.0</td>\n",
       "      <td>samira</td>\n",
       "      <td>Charif</td>\n",
       "    </tr>\n",
       "    <tr>\n",
       "      <th>4</th>\n",
       "      <td>40.0</td>\n",
       "      <td>NaN</td>\n",
       "      <td>Charif</td>\n",
       "    </tr>\n",
       "  </tbody>\n",
       "</table>\n",
       "</div>"
      ],
      "text/plain": [
       "   La Note  Prénom     Nom\n",
       "2     20.0   Aicha  charif\n",
       "3     30.0  samira  Charif\n",
       "4     40.0     NaN  Charif"
      ]
     },
     "execution_count": 408,
     "metadata": {},
     "output_type": "execute_result"
    }
   ],
   "source": [
    "Listo.loc[2:4,\"La Note\":\"Nom\"]"
   ]
  },
  {
   "cell_type": "code",
   "execution_count": 349,
   "id": "bbfdd742",
   "metadata": {},
   "outputs": [
    {
     "data": {
      "text/html": [
       "<div>\n",
       "<style scoped>\n",
       "    .dataframe tbody tr th:only-of-type {\n",
       "        vertical-align: middle;\n",
       "    }\n",
       "\n",
       "    .dataframe tbody tr th {\n",
       "        vertical-align: top;\n",
       "    }\n",
       "\n",
       "    .dataframe thead th {\n",
       "        text-align: right;\n",
       "    }\n",
       "</style>\n",
       "<table border=\"1\" class=\"dataframe\">\n",
       "  <thead>\n",
       "    <tr style=\"text-align: right;\">\n",
       "      <th></th>\n",
       "      <th>1</th>\n",
       "      <th>2</th>\n",
       "      <th>3</th>\n",
       "      <th>4</th>\n",
       "      <th>9</th>\n",
       "      <th>8</th>\n",
       "    </tr>\n",
       "  </thead>\n",
       "  <tbody>\n",
       "    <tr>\n",
       "      <th>0</th>\n",
       "      <td>10.0</td>\n",
       "      <td>20.0</td>\n",
       "      <td>30.0</td>\n",
       "      <td>40.0</td>\n",
       "      <td>NaN</td>\n",
       "      <td>NaN</td>\n",
       "    </tr>\n",
       "    <tr>\n",
       "      <th>1</th>\n",
       "      <td>Aicha</td>\n",
       "      <td>NaN</td>\n",
       "      <td>samira</td>\n",
       "      <td>yamina</td>\n",
       "      <td>Aicha</td>\n",
       "      <td>NaN</td>\n",
       "    </tr>\n",
       "    <tr>\n",
       "      <th>2</th>\n",
       "      <td>Messaoud</td>\n",
       "      <td>NaN</td>\n",
       "      <td>Charif</td>\n",
       "      <td>Charif</td>\n",
       "      <td>NaN</td>\n",
       "      <td>charif</td>\n",
       "    </tr>\n",
       "  </tbody>\n",
       "</table>\n",
       "</div>"
      ],
      "text/plain": [
       "          1     2       3       4      9       8\n",
       "0      10.0  20.0    30.0    40.0    NaN     NaN\n",
       "1     Aicha   NaN  samira  yamina  Aicha     NaN\n",
       "2  Messaoud   NaN  Charif  Charif    NaN  charif"
      ]
     },
     "execution_count": 349,
     "metadata": {},
     "output_type": "execute_result"
    }
   ],
   "source": [
    "Listo2"
   ]
  },
  {
   "cell_type": "code",
   "execution_count": 343,
   "id": "e70124fd",
   "metadata": {},
   "outputs": [
    {
     "data": {
      "text/html": [
       "<div>\n",
       "<style scoped>\n",
       "    .dataframe tbody tr th:only-of-type {\n",
       "        vertical-align: middle;\n",
       "    }\n",
       "\n",
       "    .dataframe tbody tr th {\n",
       "        vertical-align: top;\n",
       "    }\n",
       "\n",
       "    .dataframe thead th {\n",
       "        text-align: right;\n",
       "    }\n",
       "</style>\n",
       "<table border=\"1\" class=\"dataframe\">\n",
       "  <thead>\n",
       "    <tr style=\"text-align: right;\">\n",
       "      <th></th>\n",
       "      <th>1</th>\n",
       "      <th>2</th>\n",
       "      <th>3</th>\n",
       "      <th>4</th>\n",
       "      <th>9</th>\n",
       "      <th>8</th>\n",
       "    </tr>\n",
       "  </thead>\n",
       "  <tbody>\n",
       "  </tbody>\n",
       "</table>\n",
       "</div>"
      ],
      "text/plain": [
       "Empty DataFrame\n",
       "Columns: [1, 2, 3, 4, 9, 8]\n",
       "Index: []"
      ]
     },
     "execution_count": 343,
     "metadata": {},
     "output_type": "execute_result"
    }
   ],
   "source": [
    "Listo2.dropna()"
   ]
  },
  {
   "cell_type": "code",
   "execution_count": 306,
   "id": "433f4358",
   "metadata": {},
   "outputs": [
    {
     "data": {
      "text/plain": [
       "array([[[10.0, 'Aicha', 'Messaoudi'],\n",
       "        [30.0, 'samira', 'Charif']]], dtype=object)"
      ]
     },
     "execution_count": 306,
     "metadata": {},
     "output_type": "execute_result"
    }
   ],
   "source": [
    "(Listo.values[np.argwhere(Listo.values == \"Messaoudi\")])"
   ]
  },
  {
   "cell_type": "code",
   "execution_count": 307,
   "id": "dd0719b0",
   "metadata": {},
   "outputs": [
    {
     "data": {
      "text/plain": [
       "array([[0, 2]], dtype=int64)"
      ]
     },
     "execution_count": 307,
     "metadata": {},
     "output_type": "execute_result"
    }
   ],
   "source": [
    "np.argwhere(Listo.values == \"Messaoudi\")"
   ]
  },
  {
   "cell_type": "code",
   "execution_count": 308,
   "id": "d267d1a1",
   "metadata": {},
   "outputs": [
    {
     "data": {
      "text/plain": [
       "'Aicha'"
      ]
     },
     "execution_count": 308,
     "metadata": {},
     "output_type": "execute_result"
    }
   ],
   "source": [
    "Listo.values[0,1]"
   ]
  },
  {
   "cell_type": "code",
   "execution_count": 309,
   "id": "841b06bb",
   "metadata": {},
   "outputs": [
    {
     "data": {
      "text/html": [
       "<div>\n",
       "<style scoped>\n",
       "    .dataframe tbody tr th:only-of-type {\n",
       "        vertical-align: middle;\n",
       "    }\n",
       "\n",
       "    .dataframe tbody tr th {\n",
       "        vertical-align: top;\n",
       "    }\n",
       "\n",
       "    .dataframe thead th {\n",
       "        text-align: right;\n",
       "    }\n",
       "</style>\n",
       "<table border=\"1\" class=\"dataframe\">\n",
       "  <thead>\n",
       "    <tr style=\"text-align: right;\">\n",
       "      <th></th>\n",
       "      <th>La Note</th>\n",
       "      <th>Prénom</th>\n",
       "      <th>Nom</th>\n",
       "    </tr>\n",
       "  </thead>\n",
       "  <tbody>\n",
       "    <tr>\n",
       "      <th>1</th>\n",
       "      <td>10.0</td>\n",
       "      <td>Aicha</td>\n",
       "      <td>Messaoudi</td>\n",
       "    </tr>\n",
       "    <tr>\n",
       "      <th>2</th>\n",
       "      <td>20.0</td>\n",
       "      <td>NaN</td>\n",
       "      <td>NaN</td>\n",
       "    </tr>\n",
       "    <tr>\n",
       "      <th>3</th>\n",
       "      <td>30.0</td>\n",
       "      <td>samira</td>\n",
       "      <td>Charif</td>\n",
       "    </tr>\n",
       "    <tr>\n",
       "      <th>4</th>\n",
       "      <td>40.0</td>\n",
       "      <td>yamina</td>\n",
       "      <td>Charif</td>\n",
       "    </tr>\n",
       "    <tr>\n",
       "      <th>8</th>\n",
       "      <td>NaN</td>\n",
       "      <td>NaN</td>\n",
       "      <td>charif</td>\n",
       "    </tr>\n",
       "    <tr>\n",
       "      <th>9</th>\n",
       "      <td>NaN</td>\n",
       "      <td>Aicha</td>\n",
       "      <td>NaN</td>\n",
       "    </tr>\n",
       "  </tbody>\n",
       "</table>\n",
       "</div>"
      ],
      "text/plain": [
       "   La Note  Prénom        Nom\n",
       "1     10.0   Aicha  Messaoudi\n",
       "2     20.0     NaN        NaN\n",
       "3     30.0  samira     Charif\n",
       "4     40.0  yamina     Charif\n",
       "8      NaN     NaN     charif\n",
       "9      NaN   Aicha        NaN"
      ]
     },
     "execution_count": 309,
     "metadata": {},
     "output_type": "execute_result"
    }
   ],
   "source": [
    "Listo"
   ]
  },
  {
   "cell_type": "code",
   "execution_count": 310,
   "id": "cb0417f8",
   "metadata": {},
   "outputs": [],
   "source": [
    "Listo[\"Scaled\"] =Listo[\"La Note\"]/5"
   ]
  },
  {
   "cell_type": "code",
   "execution_count": 311,
   "id": "7032bb37",
   "metadata": {},
   "outputs": [
    {
     "data": {
      "text/html": [
       "<div>\n",
       "<style scoped>\n",
       "    .dataframe tbody tr th:only-of-type {\n",
       "        vertical-align: middle;\n",
       "    }\n",
       "\n",
       "    .dataframe tbody tr th {\n",
       "        vertical-align: top;\n",
       "    }\n",
       "\n",
       "    .dataframe thead th {\n",
       "        text-align: right;\n",
       "    }\n",
       "</style>\n",
       "<table border=\"1\" class=\"dataframe\">\n",
       "  <thead>\n",
       "    <tr style=\"text-align: right;\">\n",
       "      <th></th>\n",
       "      <th>La Note</th>\n",
       "      <th>Prénom</th>\n",
       "      <th>Nom</th>\n",
       "      <th>Scaled</th>\n",
       "    </tr>\n",
       "  </thead>\n",
       "  <tbody>\n",
       "    <tr>\n",
       "      <th>1</th>\n",
       "      <td>10.0</td>\n",
       "      <td>Aicha</td>\n",
       "      <td>Messaoudi</td>\n",
       "      <td>2.0</td>\n",
       "    </tr>\n",
       "    <tr>\n",
       "      <th>2</th>\n",
       "      <td>20.0</td>\n",
       "      <td>NaN</td>\n",
       "      <td>NaN</td>\n",
       "      <td>4.0</td>\n",
       "    </tr>\n",
       "    <tr>\n",
       "      <th>3</th>\n",
       "      <td>30.0</td>\n",
       "      <td>samira</td>\n",
       "      <td>Charif</td>\n",
       "      <td>6.0</td>\n",
       "    </tr>\n",
       "    <tr>\n",
       "      <th>4</th>\n",
       "      <td>40.0</td>\n",
       "      <td>yamina</td>\n",
       "      <td>Charif</td>\n",
       "      <td>8.0</td>\n",
       "    </tr>\n",
       "    <tr>\n",
       "      <th>8</th>\n",
       "      <td>NaN</td>\n",
       "      <td>NaN</td>\n",
       "      <td>charif</td>\n",
       "      <td>NaN</td>\n",
       "    </tr>\n",
       "    <tr>\n",
       "      <th>9</th>\n",
       "      <td>NaN</td>\n",
       "      <td>Aicha</td>\n",
       "      <td>NaN</td>\n",
       "      <td>NaN</td>\n",
       "    </tr>\n",
       "  </tbody>\n",
       "</table>\n",
       "</div>"
      ],
      "text/plain": [
       "   La Note  Prénom        Nom  Scaled\n",
       "1     10.0   Aicha  Messaoudi     2.0\n",
       "2     20.0     NaN        NaN     4.0\n",
       "3     30.0  samira     Charif     6.0\n",
       "4     40.0  yamina     Charif     8.0\n",
       "8      NaN     NaN     charif     NaN\n",
       "9      NaN   Aicha        NaN     NaN"
      ]
     },
     "execution_count": 311,
     "metadata": {},
     "output_type": "execute_result"
    }
   ],
   "source": [
    "Listo"
   ]
  },
  {
   "cell_type": "code",
   "execution_count": null,
   "id": "728fa62b",
   "metadata": {},
   "outputs": [],
   "source": []
  },
  {
   "cell_type": "code",
   "execution_count": 312,
   "id": "e0970520",
   "metadata": {},
   "outputs": [],
   "source": [
    "del Listo['Scaled']"
   ]
  },
  {
   "cell_type": "code",
   "execution_count": 313,
   "id": "bd5f67ad",
   "metadata": {},
   "outputs": [
    {
     "data": {
      "text/html": [
       "<div>\n",
       "<style scoped>\n",
       "    .dataframe tbody tr th:only-of-type {\n",
       "        vertical-align: middle;\n",
       "    }\n",
       "\n",
       "    .dataframe tbody tr th {\n",
       "        vertical-align: top;\n",
       "    }\n",
       "\n",
       "    .dataframe thead th {\n",
       "        text-align: right;\n",
       "    }\n",
       "</style>\n",
       "<table border=\"1\" class=\"dataframe\">\n",
       "  <thead>\n",
       "    <tr style=\"text-align: right;\">\n",
       "      <th></th>\n",
       "      <th>La Note</th>\n",
       "      <th>Prénom</th>\n",
       "      <th>Nom</th>\n",
       "    </tr>\n",
       "  </thead>\n",
       "  <tbody>\n",
       "    <tr>\n",
       "      <th>1</th>\n",
       "      <td>10.0</td>\n",
       "      <td>Aicha</td>\n",
       "      <td>Messaoudi</td>\n",
       "    </tr>\n",
       "    <tr>\n",
       "      <th>2</th>\n",
       "      <td>20.0</td>\n",
       "      <td>NaN</td>\n",
       "      <td>NaN</td>\n",
       "    </tr>\n",
       "    <tr>\n",
       "      <th>3</th>\n",
       "      <td>30.0</td>\n",
       "      <td>samira</td>\n",
       "      <td>Charif</td>\n",
       "    </tr>\n",
       "    <tr>\n",
       "      <th>4</th>\n",
       "      <td>40.0</td>\n",
       "      <td>yamina</td>\n",
       "      <td>Charif</td>\n",
       "    </tr>\n",
       "    <tr>\n",
       "      <th>8</th>\n",
       "      <td>NaN</td>\n",
       "      <td>NaN</td>\n",
       "      <td>charif</td>\n",
       "    </tr>\n",
       "    <tr>\n",
       "      <th>9</th>\n",
       "      <td>NaN</td>\n",
       "      <td>Aicha</td>\n",
       "      <td>NaN</td>\n",
       "    </tr>\n",
       "  </tbody>\n",
       "</table>\n",
       "</div>"
      ],
      "text/plain": [
       "   La Note  Prénom        Nom\n",
       "1     10.0   Aicha  Messaoudi\n",
       "2     20.0     NaN        NaN\n",
       "3     30.0  samira     Charif\n",
       "4     40.0  yamina     Charif\n",
       "8      NaN     NaN     charif\n",
       "9      NaN   Aicha        NaN"
      ]
     },
     "execution_count": 313,
     "metadata": {},
     "output_type": "execute_result"
    }
   ],
   "source": [
    "Listo"
   ]
  },
  {
   "cell_type": "code",
   "execution_count": null,
   "id": "c2a2032f",
   "metadata": {},
   "outputs": [],
   "source": []
  },
  {
   "cell_type": "code",
   "execution_count": 314,
   "id": "6d1ee766",
   "metadata": {},
   "outputs": [
    {
     "data": {
      "text/plain": [
       "1    10.0\n",
       "2    20.0\n",
       "3    30.0\n",
       "4    40.0\n",
       "8     NaN\n",
       "9     NaN\n",
       "Name: La Note, dtype: float64"
      ]
     },
     "execution_count": 314,
     "metadata": {},
     "output_type": "execute_result"
    }
   ],
   "source": [
    "Listo['La Note']"
   ]
  },
  {
   "cell_type": "code",
   "execution_count": null,
   "id": "307135be",
   "metadata": {},
   "outputs": [],
   "source": []
  },
  {
   "cell_type": "code",
   "execution_count": 315,
   "id": "bc5cda46",
   "metadata": {},
   "outputs": [
    {
     "data": {
      "text/html": [
       "<div>\n",
       "<style scoped>\n",
       "    .dataframe tbody tr th:only-of-type {\n",
       "        vertical-align: middle;\n",
       "    }\n",
       "\n",
       "    .dataframe tbody tr th {\n",
       "        vertical-align: top;\n",
       "    }\n",
       "\n",
       "    .dataframe thead th {\n",
       "        text-align: right;\n",
       "    }\n",
       "</style>\n",
       "<table border=\"1\" class=\"dataframe\">\n",
       "  <thead>\n",
       "    <tr style=\"text-align: right;\">\n",
       "      <th></th>\n",
       "      <th>La Note</th>\n",
       "      <th>Prénom</th>\n",
       "      <th>Nom</th>\n",
       "    </tr>\n",
       "  </thead>\n",
       "  <tbody>\n",
       "    <tr>\n",
       "      <th>1</th>\n",
       "      <td>10.0</td>\n",
       "      <td>Aicha</td>\n",
       "      <td>Messaoudi</td>\n",
       "    </tr>\n",
       "  </tbody>\n",
       "</table>\n",
       "</div>"
      ],
      "text/plain": [
       "   La Note Prénom        Nom\n",
       "1     10.0  Aicha  Messaoudi"
      ]
     },
     "execution_count": 315,
     "metadata": {},
     "output_type": "execute_result"
    }
   ],
   "source": [
    "o = \"messaoudi\"\n",
    "p =Listo[Listo['Nom']==o.capitalize()]\n",
    "Listo[Listo['Nom']==o.capitalize()]"
   ]
  },
  {
   "cell_type": "code",
   "execution_count": 316,
   "id": "199833be",
   "metadata": {},
   "outputs": [
    {
     "name": "stdout",
     "output_type": "stream",
     "text": [
      "charif\n"
     ]
    }
   ],
   "source": [
    "u = 'CHARIF'\n",
    "print(u.lower())"
   ]
  },
  {
   "cell_type": "code",
   "execution_count": 317,
   "id": "c83bbdfa",
   "metadata": {},
   "outputs": [],
   "source": [
    "k= len(p[\"Nom\"])"
   ]
  },
  {
   "cell_type": "code",
   "execution_count": 318,
   "id": "25c6ffc6",
   "metadata": {},
   "outputs": [
    {
     "data": {
      "text/plain": [
       "int"
      ]
     },
     "execution_count": 318,
     "metadata": {},
     "output_type": "execute_result"
    }
   ],
   "source": [
    "type(k)"
   ]
  },
  {
   "cell_type": "code",
   "execution_count": 319,
   "id": "6a02d709",
   "metadata": {},
   "outputs": [
    {
     "data": {
      "text/html": [
       "<div>\n",
       "<style scoped>\n",
       "    .dataframe tbody tr th:only-of-type {\n",
       "        vertical-align: middle;\n",
       "    }\n",
       "\n",
       "    .dataframe tbody tr th {\n",
       "        vertical-align: top;\n",
       "    }\n",
       "\n",
       "    .dataframe thead th {\n",
       "        text-align: right;\n",
       "    }\n",
       "</style>\n",
       "<table border=\"1\" class=\"dataframe\">\n",
       "  <thead>\n",
       "    <tr style=\"text-align: right;\">\n",
       "      <th></th>\n",
       "      <th>La Note</th>\n",
       "      <th>Prénom</th>\n",
       "      <th>Nom</th>\n",
       "    </tr>\n",
       "  </thead>\n",
       "  <tbody>\n",
       "    <tr>\n",
       "      <th>1</th>\n",
       "      <td>10.0</td>\n",
       "      <td>Aicha</td>\n",
       "      <td>Messaoudi</td>\n",
       "    </tr>\n",
       "    <tr>\n",
       "      <th>2</th>\n",
       "      <td>20.0</td>\n",
       "      <td>NaN</td>\n",
       "      <td>NaN</td>\n",
       "    </tr>\n",
       "    <tr>\n",
       "      <th>3</th>\n",
       "      <td>30.0</td>\n",
       "      <td>samira</td>\n",
       "      <td>Charif</td>\n",
       "    </tr>\n",
       "    <tr>\n",
       "      <th>4</th>\n",
       "      <td>40.0</td>\n",
       "      <td>yamina</td>\n",
       "      <td>Charif</td>\n",
       "    </tr>\n",
       "    <tr>\n",
       "      <th>8</th>\n",
       "      <td>NaN</td>\n",
       "      <td>NaN</td>\n",
       "      <td>charif</td>\n",
       "    </tr>\n",
       "    <tr>\n",
       "      <th>9</th>\n",
       "      <td>NaN</td>\n",
       "      <td>Aicha</td>\n",
       "      <td>NaN</td>\n",
       "    </tr>\n",
       "  </tbody>\n",
       "</table>\n",
       "</div>"
      ],
      "text/plain": [
       "   La Note  Prénom        Nom\n",
       "1     10.0   Aicha  Messaoudi\n",
       "2     20.0     NaN        NaN\n",
       "3     30.0  samira     Charif\n",
       "4     40.0  yamina     Charif\n",
       "8      NaN     NaN     charif\n",
       "9      NaN   Aicha        NaN"
      ]
     },
     "execution_count": 319,
     "metadata": {},
     "output_type": "execute_result"
    }
   ],
   "source": [
    "Listo"
   ]
  },
  {
   "cell_type": "code",
   "execution_count": 320,
   "id": "b619d61b",
   "metadata": {},
   "outputs": [
    {
     "data": {
      "text/html": [
       "<div>\n",
       "<style scoped>\n",
       "    .dataframe tbody tr th:only-of-type {\n",
       "        vertical-align: middle;\n",
       "    }\n",
       "\n",
       "    .dataframe tbody tr th {\n",
       "        vertical-align: top;\n",
       "    }\n",
       "\n",
       "    .dataframe thead th {\n",
       "        text-align: right;\n",
       "    }\n",
       "</style>\n",
       "<table border=\"1\" class=\"dataframe\">\n",
       "  <thead>\n",
       "    <tr style=\"text-align: right;\">\n",
       "      <th></th>\n",
       "      <th>La Note</th>\n",
       "      <th>Prénom</th>\n",
       "      <th>Nom</th>\n",
       "    </tr>\n",
       "  </thead>\n",
       "  <tbody>\n",
       "    <tr>\n",
       "      <th>1</th>\n",
       "      <td>10.0</td>\n",
       "      <td>Aicha</td>\n",
       "      <td>Messaoudi</td>\n",
       "    </tr>\n",
       "    <tr>\n",
       "      <th>2</th>\n",
       "      <td>20.0</td>\n",
       "      <td>NO NAME</td>\n",
       "      <td>NO NAME</td>\n",
       "    </tr>\n",
       "    <tr>\n",
       "      <th>3</th>\n",
       "      <td>30.0</td>\n",
       "      <td>samira</td>\n",
       "      <td>Charif</td>\n",
       "    </tr>\n",
       "    <tr>\n",
       "      <th>4</th>\n",
       "      <td>40.0</td>\n",
       "      <td>yamina</td>\n",
       "      <td>Charif</td>\n",
       "    </tr>\n",
       "    <tr>\n",
       "      <th>8</th>\n",
       "      <td>NO NAME</td>\n",
       "      <td>NO NAME</td>\n",
       "      <td>charif</td>\n",
       "    </tr>\n",
       "    <tr>\n",
       "      <th>9</th>\n",
       "      <td>NO NAME</td>\n",
       "      <td>Aicha</td>\n",
       "      <td>NO NAME</td>\n",
       "    </tr>\n",
       "  </tbody>\n",
       "</table>\n",
       "</div>"
      ],
      "text/plain": [
       "   La Note   Prénom        Nom\n",
       "1     10.0    Aicha  Messaoudi\n",
       "2     20.0  NO NAME    NO NAME\n",
       "3     30.0   samira     Charif\n",
       "4     40.0   yamina     Charif\n",
       "8  NO NAME  NO NAME     charif\n",
       "9  NO NAME    Aicha    NO NAME"
      ]
     },
     "execution_count": 320,
     "metadata": {},
     "output_type": "execute_result"
    }
   ],
   "source": [
    "Listo.fillna(\"NO NAME\")"
   ]
  },
  {
   "cell_type": "code",
   "execution_count": null,
   "id": "ee56fbd8",
   "metadata": {},
   "outputs": [],
   "source": [
    "ho = pd.DataFrame(\"\")"
   ]
  },
  {
   "cell_type": "code",
   "execution_count": 323,
   "id": "1adbc04d",
   "metadata": {},
   "outputs": [
    {
     "name": "stdout",
     "output_type": "stream",
     "text": [
      "Variable      Type         Data/Info\n",
      "------------------------------------\n",
      "LO            ndarray      1000: 1000 elems, type `float64`, 8000 bytes\n",
      "Listo         DataFrame       La Note  Prénom       <...>   NaN   Aicha        NaN\n",
      "bored         ndarray      3x4: 12 elems, type `int32`, 48 bytes\n",
      "bored2        ndarray      3x2: 6 elems, type `int32`, 24 bytes\n",
      "dictii        dict         n=2\n",
      "dictipandas   Series       charif    soheib\\nallel      fares\\ndtype: object\n",
      "j             ndarray      10: 10 elems, type `int32`, 40 bytes\n",
      "k             int          1\n",
      "kk            ndarray      101: 101 elems, type `int32`, 404 bytes\n",
      "lll           ndarray      4: 4 elems, type `float64`, 32 bytes\n",
      "mmm           ndarray      50: 50 elems, type `int32`, 200 bytes\n",
      "nom           Series       1    10\\n2    20\\n3    30\\n4    40\\ndtype: int64\n",
      "nomm          Series       1     Aicha\\n9     Aicha\\<...>    yamina\\ndtype: object\n",
      "np            module       <module 'numpy' from 'C:\\<...>ges\\\\numpy\\\\__init__.py'>\n",
      "o             str          messaoudi\n",
      "oooo          ndarray      4: 4 elems, type `float64`, 32 bytes\n",
      "p             DataFrame       La Note Prénom        <...>   10.0  Aicha  Messaoudi\n",
      "pd            module       <module 'pandas' from 'C:<...>es\\\\pandas\\\\__init__.py'>\n",
      "ponda         Series       25    5\\nb     4\\nc     7\\nd     8\\ndtype: int64\n",
      "prnom         Series       1    Messaoudi\\n8       c<...>    Charif\\ndtype: object\n",
      "randomarr     ndarray      3x1: 3 elems, type `int32`, 12 bytes\n",
      "rj            ndarray      10: 10 elems, type `int32`, 40 bytes\n",
      "u             str          CHARIF\n",
      "wrandon       ndarray      4x4: 16 elems, type `int32`, 64 bytes\n"
     ]
    }
   ],
   "source": [
    "%whos"
   ]
  },
  {
   "cell_type": "code",
   "execution_count": null,
   "id": "e8c5240a",
   "metadata": {},
   "outputs": [],
   "source": []
  },
  {
   "cell_type": "code",
   "execution_count": null,
   "id": "e54b22fc",
   "metadata": {},
   "outputs": [],
   "source": []
  },
  {
   "cell_type": "code",
   "execution_count": null,
   "id": "85f06a65",
   "metadata": {},
   "outputs": [],
   "source": []
  },
  {
   "cell_type": "code",
   "execution_count": null,
   "id": "f7b040ba",
   "metadata": {},
   "outputs": [],
   "source": []
  },
  {
   "cell_type": "code",
   "execution_count": null,
   "id": "8512e9d6",
   "metadata": {},
   "outputs": [],
   "source": []
  },
  {
   "cell_type": "code",
   "execution_count": null,
   "id": "f2b7fe4d",
   "metadata": {},
   "outputs": [],
   "source": []
  },
  {
   "cell_type": "code",
   "execution_count": 410,
   "id": "a63e2aab",
   "metadata": {},
   "outputs": [
    {
     "ename": "TypeError",
     "evalue": "list indices must be integers or slices, not tuple",
     "output_type": "error",
     "traceback": [
      "\u001b[1;31m---------------------------------------------------------------------------\u001b[0m",
      "\u001b[1;31mTypeError\u001b[0m                                 Traceback (most recent call last)",
      "Cell \u001b[1;32mIn[410], line 2\u001b[0m\n\u001b[0;32m      1\u001b[0m L \u001b[38;5;241m=\u001b[39m [\u001b[38;5;241m5\u001b[39m,\u001b[38;5;241m5\u001b[39m,\u001b[38;5;241m5\u001b[39m,\u001b[38;5;241m5\u001b[39m,\u001b[38;5;241m5\u001b[39m,\u001b[38;5;241m5\u001b[39m]\n\u001b[1;32m----> 2\u001b[0m L222 \u001b[38;5;241m=\u001b[39m \u001b[43mL\u001b[49m\u001b[43m[\u001b[49m\u001b[38;5;124;43m\"\u001b[39;49m\u001b[38;5;124;43mTrue\u001b[39;49m\u001b[38;5;124;43m\"\u001b[39;49m\u001b[43m,\u001b[49m\u001b[38;5;124;43m\"\u001b[39;49m\u001b[38;5;124;43mFalse\u001b[39;49m\u001b[38;5;124;43m\"\u001b[39;49m\u001b[43m,\u001b[49m\u001b[38;5;124;43m\"\u001b[39;49m\u001b[38;5;124;43mFalse\u001b[39;49m\u001b[38;5;124;43m\"\u001b[39;49m\u001b[43m,\u001b[49m\u001b[38;5;124;43m\"\u001b[39;49m\u001b[38;5;124;43mFalse\u001b[39;49m\u001b[38;5;124;43m\"\u001b[39;49m\u001b[43m,\u001b[49m\u001b[38;5;124;43m\"\u001b[39;49m\u001b[38;5;124;43mFalse\u001b[39;49m\u001b[38;5;124;43m\"\u001b[39;49m\u001b[43m,\u001b[49m\u001b[38;5;124;43m\"\u001b[39;49m\u001b[38;5;124;43mFalse\u001b[39;49m\u001b[38;5;124;43m\"\u001b[39;49m\u001b[43m]\u001b[49m\n",
      "\u001b[1;31mTypeError\u001b[0m: list indices must be integers or slices, not tuple"
     ]
    }
   ],
   "source": [
    "L = [5,5,5,5,5,5]\n",
    "L222 = L[\"True\",\"False\",\"False\",\"False\",\"False\",\"False\"]"
   ]
  },
  {
   "cell_type": "code",
   "execution_count": 415,
   "id": "d46b1b8a",
   "metadata": {},
   "outputs": [
    {
     "name": "stdout",
     "output_type": "stream",
     "text": [
      "donnez un entier svp :5\n",
      "la multiplacation fois 4 de votre numero est :  20\n"
     ]
    }
   ],
   "source": [
    "k = input(\"donnez un entier svp :\" )\n",
    "\n",
    "try: \n",
    "    print(\"la multiplacation fois 4 de votre numero est : \", int(k)*4)\n",
    "except:\n",
    "    print(\"yek gotlek med entier laa !!!\")"
   ]
  },
  {
   "cell_type": "code",
   "execution_count": 3,
   "id": "4622083d",
   "metadata": {},
   "outputs": [
    {
     "data": {
      "text/plain": [
       "2"
      ]
     },
     "execution_count": 3,
     "metadata": {},
     "output_type": "execute_result"
    }
   ],
   "source": [
    "cher = \"Charif soheib Charif abdelkader\"\n",
    "cher.count(\"Charif\")"
   ]
  },
  {
   "cell_type": "code",
   "execution_count": 4,
   "id": "00094bbc",
   "metadata": {},
   "outputs": [
    {
     "data": {
      "text/plain": [
       "'Messaoudi soheib Messaoudi abdelkader'"
      ]
     },
     "execution_count": 4,
     "metadata": {},
     "output_type": "execute_result"
    }
   ],
   "source": [
    "cher.replace(\"Charif\",\"Messaoudi\")"
   ]
  },
  {
   "cell_type": "code",
   "execution_count": 9,
   "id": "2f1fa634",
   "metadata": {},
   "outputs": [
    {
     "name": "stdout",
     "output_type": "stream",
     "text": [
      "give ur first value 78\n",
      "give ur second value 788\n",
      " la somme des deux egal a :  866\n"
     ]
    }
   ],
   "source": [
    "x = input('give ur first value ')\n",
    "y = input(\"give ur second value \")\n",
    "\n",
    "\n",
    "\n",
    "try:\n",
    "    f = int(x)+int(y)\n",
    "    print(\" la somme des deux egal a : \",f)\n",
    "except Exception as e:\n",
    "    print(\"Srat error li hiya : \",e)\n",
    "    print(\"La somme egal a : None\")"
   ]
  },
  {
   "cell_type": "code",
   "execution_count": null,
   "id": "98ef3661",
   "metadata": {},
   "outputs": [],
   "source": []
  }
 ],
 "metadata": {
  "kernelspec": {
   "display_name": "Python 3 (ipykernel)",
   "language": "python",
   "name": "python3"
  },
  "language_info": {
   "codemirror_mode": {
    "name": "ipython",
    "version": 3
   },
   "file_extension": ".py",
   "mimetype": "text/x-python",
   "name": "python",
   "nbconvert_exporter": "python",
   "pygments_lexer": "ipython3",
   "version": "3.10.9"
  }
 },
 "nbformat": 4,
 "nbformat_minor": 5
}
